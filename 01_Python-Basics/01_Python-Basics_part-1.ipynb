{
 "cells": [
  {
   "cell_type": "markdown",
   "id": "e5a6782e-5211-4979-934a-f4da03f307a5",
   "metadata": {},
   "source": [
    "<a href=\"https://colab.research.google.com/github/edoardochiarotti/class_datascience/blob/main/2023/01_Introduction/Resources/01_Python-Basics_part-1.ipynb\" target=\"_blank\" rel=\"noopener\"><img src=\"https://colab.research.google.com/assets/colab-badge.svg\" alt=\"Open In Colab\"/></a>"
   ]
  },
  {
   "cell_type": "markdown",
   "id": "f9e5cfd8-c238-43ff-b537-ca5faae20742",
   "metadata": {},
   "source": [
    "# Statistics and Data Science: Python Basics"
   ]
  },
  {
   "cell_type": "markdown",
   "id": "0e161ad9-2a49-4d87-bb8f-ad8ea431807a",
   "metadata": {},
   "source": [
    "<img src='https://www.agent-x.com.au/wp-content/uploads/2011/06/Perfect-Programmer-dfe194b-e8d3b11-b960bd5.jpg' width=\"400\">\n",
    "\n",
    "Source: [Agent-X Comics - Perfect Programming](https://www.agent-x.com.au/comic/perfect-programming/)"
   ]
  },
  {
   "cell_type": "markdown",
   "id": "75df24c7-2f28-47df-bfb4-2a2f115f8e85",
   "metadata": {},
   "source": [
    "## Contents\n",
    "\n",
    "- [Variables](#Variables)\n",
    "- [Data Type](#Data_Type)\n",
    "  - [Text data](#Text_data)\n",
    "  - [Numeric data](#Numeric_data)\n",
    "  - [Casting and type conversion](#casting)\n",
    "- [Operators](#Operators)\n",
    "  - [Arithmetic Operators](#arithmetic-operators)\n",
    "    - [Operations on integers](#operating-int)\n",
    "    - [Operations on floats](#operating-float)\n",
    "    - [Operations on strings](#operating-str)\n",
    "    - [Order of operations](#operating-order)\n",
    "  - [Assignment Operators](#assignment-operators)\n",
    "  - [Comparison Operators and Boolean](#comparison-operators)\n",
    "  - [Identity Operators](#identity)\n",
    "  - [Logical Operators](#logical)\n",
    "- [Conditionals](#Conditionals)\n",
    "- [Collection of elements](#collection)\n",
    "  - [Lists](#Lists)\n",
    "  - [Tuples](#Tuples)\n",
    "  - [Conversion](#Conversion)\n",
    "  - [Indexing](#Indexing)\n",
    "  - [Slicing](#Slicing)\n",
    "  - [Membership operators](#membership-operators)\n",
    "  - [Mutability](#Mutability)\n",
    "  - [Methods for lists and tuples](#methods)\n",
    "- [Iteration](#Iteration)\n",
    "  - [For loop](#for-loop)\n",
    "  - [While loop](#while-loop)\n",
    "  - [Break, continue, else](#break-continue-else)\n",
    "- [Function](#Function)  \n",
    "  - [Defining a function](#define-function)\n",
    "  - [Built-in functions](#built-in-function)\n",
    "  - [Keyword argument](#kwarg)\n",
    "  - [Splat](#splat)\n",
    "  - [Recursive function](#recursive-function)"
   ]
  },
  {
   "cell_type": "markdown",
   "id": "ba262721-8085-404d-97f8-5b6ba534e9bf",
   "metadata": {},
   "source": [
    "## Variables <a name=\"Variables\"></a>"
   ]
  },
  {
   "cell_type": "markdown",
   "id": "6fe34221-5767-4ed5-a6a5-689b735ecc34",
   "metadata": {},
   "source": [
    "Whether you are programming in Python or pretty much any other language, you will be working with **variables**. Variables are containers for storing data values. We will talk more about **objects** later, but a variable, like everything in Python, is an object. The following can be properties of a variable:\n",
    "1. The **type** of variable. E.g., is it an integer, like `2`, or a string, like `'Hello, world.'`?\n",
    "2. The **value** of the variable.\n",
    "Depending on the type of the variable, you can do different things to it and other variables of similar type.\n",
    "\n",
    "A variable is created the moment you first assign a value to it:"
   ]
  },
  {
   "cell_type": "code",
   "execution_count": 1,
   "id": "a08b5aba-d75f-438b-be7c-80f20a2401a8",
   "metadata": {},
   "outputs": [],
   "source": [
    "a = 3"
   ]
  },
  {
   "cell_type": "markdown",
   "id": "e534e8db-bf84-48fa-aae4-ef70eb2e03d7",
   "metadata": {},
   "source": [
    "Notice that when you assign a value to a variable, there is not visible output. However, now if we ask for `a`, its value will be displayed:"
   ]
  },
  {
   "cell_type": "code",
   "execution_count": 2,
   "id": "57826e67-61af-4b02-9d8f-1f9361c3e23e",
   "metadata": {
    "tags": []
   },
   "outputs": [
    {
     "data": {
      "text/plain": [
       "3"
      ]
     },
     "execution_count": 2,
     "metadata": {},
     "output_type": "execute_result"
    }
   ],
   "source": [
    "a"
   ]
  },
  {
   "cell_type": "markdown",
   "id": "50f9ba73-70d8-45c9-aba9-5afa426d319c",
   "metadata": {},
   "source": [
    "Be careful, when you assign an already assigned variable, the value will be overwritten!"
   ]
  },
  {
   "cell_type": "code",
   "execution_count": 3,
   "id": "f25c39d1-dc71-45ee-9df4-b401222edc6c",
   "metadata": {},
   "outputs": [
    {
     "data": {
      "text/plain": [
       "7"
      ]
     },
     "execution_count": 3,
     "metadata": {},
     "output_type": "execute_result"
    }
   ],
   "source": [
    "a = 7\n",
    "a"
   ]
  },
  {
   "cell_type": "markdown",
   "id": "20a37f70-9826-4cd8-a227-51116e45944a",
   "metadata": {},
   "source": [
    "<span style='color:blue'> **Tips:** </span>\n",
    "    \n",
    "- Use explicit name for your variables: you and someone reading your code should be able to understand what is the variable.\n",
    "- You can - actually, should - comment your code using `#` to explain what you are doing. "
   ]
  },
  {
   "cell_type": "markdown",
   "id": "de252fe1-7c3b-4a66-b9b6-5b87765f20df",
   "metadata": {},
   "source": [
    "Variables names are **case-sensitive**:"
   ]
  },
  {
   "cell_type": "code",
   "execution_count": 4,
   "id": "f7f7db6c-cabd-458b-bbb6-c073ad43ee00",
   "metadata": {},
   "outputs": [
    {
     "name": "stdout",
     "output_type": "stream",
     "text": [
      "What a wonderful day!\n",
      "7\n"
     ]
    }
   ],
   "source": [
    "# Defining \"A\" will not overwrite \"a\"\n",
    "A = \"What a wonderful day!\"\n",
    "print(A)\n",
    "print(a)"
   ]
  },
  {
   "cell_type": "markdown",
   "id": "6c409400-e38b-429f-94d0-c8fce58b3688",
   "metadata": {},
   "source": [
    "## Data Type <a name=\"Data_Type\"></a>"
   ]
  },
  {
   "cell_type": "markdown",
   "id": "6e384d87-a160-473d-91a3-83279ad6fc64",
   "metadata": {},
   "source": [
    "Variables can store data of different types, and different types can do different things. The Python's built-in `type()` function allows to determine the type of some data/variables."
   ]
  },
  {
   "cell_type": "markdown",
   "id": "8ed729aa-4a7e-4d32-b3c4-278ef0199429",
   "metadata": {},
   "source": [
    "### Text data <a name=\"Text_data\"></a>"
   ]
  },
  {
   "cell_type": "markdown",
   "id": "b2f0fb7e-389d-4068-936f-fe60689710d8",
   "metadata": {},
   "source": [
    "The first type of data we have encountered is **Text**, such as `\"Hello, world\"`. In Python language, Text type data are called **string**. When asked about the type of `\"Hello, world\"`, the `type()` function will return `str`, the short version of string:"
   ]
  },
  {
   "cell_type": "code",
   "execution_count": 5,
   "id": "d81c1df6-df84-482b-82b5-6282b5ab1c36",
   "metadata": {},
   "outputs": [
    {
     "data": {
      "text/plain": [
       "str"
      ]
     },
     "execution_count": 5,
     "metadata": {},
     "output_type": "execute_result"
    }
   ],
   "source": [
    "type(\"Hello world\")"
   ]
  },
  {
   "cell_type": "markdown",
   "id": "b73e79c5-d113-4c62-9215-9aa81de7040f",
   "metadata": {},
   "source": [
    "Note that there are several ways to define strings. You can use single or double quotes. For instance, `'This is a string'` and `\"This is a string\"` are equivalent. You can also use triple quotes to extend a string over multiple lines:"
   ]
  },
  {
   "cell_type": "code",
   "execution_count": 6,
   "id": "8136255c-b8ec-4385-b7bd-dce68a23fec6",
   "metadata": {},
   "outputs": [
    {
     "name": "stdout",
     "output_type": "stream",
     "text": [
      "Triple quotes allows...\n",
      "to extend strings over multiple lines.\n"
     ]
    }
   ],
   "source": [
    "my_str = '''Triple quotes allows...\n",
    "to extend strings over multiple lines.'''\n",
    "\n",
    "print(my_str)"
   ]
  },
  {
   "cell_type": "markdown",
   "id": "0b6b81cf-17d7-41cc-abf9-48f3390be46b",
   "metadata": {},
   "source": [
    "### Numeric data <a name=\"Numeric_data\"></a>"
   ]
  },
  {
   "cell_type": "markdown",
   "id": "eb57d135-a381-4030-aef0-6b428ad8cebd",
   "metadata": {},
   "source": [
    "There are three numeric types in Python:\n",
    "- integer `int`\n",
    "- real `float`\n",
    "- complex `complex`"
   ]
  },
  {
   "cell_type": "markdown",
   "id": "667268ca-383d-41e6-853a-f195102be638",
   "metadata": {},
   "source": [
    "**Integer** (**int**) is a whole number, positive or negative, without decimals, of unlimited length:"
   ]
  },
  {
   "cell_type": "code",
   "execution_count": 7,
   "id": "2eb57795-bf6e-4f5b-820c-0211b2cae9d6",
   "metadata": {},
   "outputs": [
    {
     "data": {
      "text/plain": [
       "int"
      ]
     },
     "execution_count": 7,
     "metadata": {},
     "output_type": "execute_result"
    }
   ],
   "source": [
    "type(4)"
   ]
  },
  {
   "cell_type": "markdown",
   "id": "c2445263-3808-4890-805d-d60f82851353",
   "metadata": {},
   "source": [
    "**Float** stands for \"floating point number\" and is a number, positive or negative, containing one or more decimals."
   ]
  },
  {
   "cell_type": "code",
   "execution_count": 8,
   "id": "28ebb8c9-0542-43b5-88b6-4f63ad516c57",
   "metadata": {},
   "outputs": [
    {
     "data": {
      "text/plain": [
       "float"
      ]
     },
     "execution_count": 8,
     "metadata": {},
     "output_type": "execute_result"
    }
   ],
   "source": [
    "type(3.9)"
   ]
  },
  {
   "cell_type": "markdown",
   "id": "428e22c3-a234-4c76-a4d9-17df9d764f60",
   "metadata": {},
   "source": [
    "Note that you can also use scientific notation using `e`:"
   ]
  },
  {
   "cell_type": "code",
   "execution_count": 9,
   "id": "547f714a-5085-41c9-bdcd-d3f7e803fae4",
   "metadata": {},
   "outputs": [
    {
     "data": {
      "text/plain": [
       "float"
      ]
     },
     "execution_count": 9,
     "metadata": {},
     "output_type": "execute_result"
    }
   ],
   "source": [
    "type(9.5e-8)"
   ]
  },
  {
   "cell_type": "markdown",
   "id": "670e21b8-3e31-4728-8352-b444b8990b40",
   "metadata": {},
   "source": [
    "Finally, you can define **complex** number. Note that in Python, the imaginary part is defined by `j`:"
   ]
  },
  {
   "cell_type": "code",
   "execution_count": 10,
   "id": "ff5aef15-716d-4a79-938b-69aadfe417a8",
   "metadata": {},
   "outputs": [
    {
     "data": {
      "text/plain": [
       "complex"
      ]
     },
     "execution_count": 10,
     "metadata": {},
     "output_type": "execute_result"
    }
   ],
   "source": [
    "type(1+2j)"
   ]
  },
  {
   "cell_type": "markdown",
   "id": "e68ab962-3e6f-4fd9-912b-18c1ecc95db2",
   "metadata": {},
   "source": [
    "Be careful when you define and operate on data: `3.9` is a float, but `'3.9'` is a string!"
   ]
  },
  {
   "cell_type": "markdown",
   "id": "0a5a8b38-7bf0-4fdf-a48c-1bbd5b27c9f8",
   "metadata": {},
   "source": [
    "### Casting and type conversion <a name=\"casting\"></a>"
   ]
  },
  {
   "cell_type": "markdown",
   "id": "9becfbd6-2d1a-4f85-b949-45f995c81d28",
   "metadata": {},
   "source": [
    "There may be times when you want to specify a type on to a variable. This can be done with \"casting\", using constructor functions:\n",
    "- `int()` - constructs an integer number from an integer literal, a float literal (by removing all decimals), or a string literal (providing the string represents a whole number)\n",
    "- `float()` - constructs a float number from an integer literal, a float literal or a string literal (providing the string represents a float or an integer)\n",
    "- `complex()` - constructs a complex number from a wide variety of data types, including strings, integer literals and float literals\n",
    "- `str()` - constructs a string from a wide variety of data types, including strings, integer literals and float literals"
   ]
  },
  {
   "cell_type": "code",
   "execution_count": 11,
   "id": "ce8159e9-1e0f-409e-b493-77cfc978b5f1",
   "metadata": {},
   "outputs": [
    {
     "name": "stdout",
     "output_type": "stream",
     "text": [
      "<class 'int'> 1\n",
      "<class 'float'> 4.0\n",
      "<class 'complex'> (3.5+0j)\n",
      "<class 'str'> 9.2\n"
     ]
    }
   ],
   "source": [
    "cast_int = int(1.2)\n",
    "cast_float = float(4)\n",
    "cast_complex = complex(3.5)\n",
    "cast_str = str(9.2)\n",
    "\n",
    "print(type(cast_int), cast_int)\n",
    "print(type(cast_float), cast_float)\n",
    "print(type(cast_complex), cast_complex)\n",
    "print(type(cast_str), cast_str)"
   ]
  },
  {
   "cell_type": "markdown",
   "id": "6c8e6223-33d3-4945-b3ff-3a707421981e",
   "metadata": {},
   "source": [
    "Note that when converting a `float` to an `int`, the interpreter does not round the result, but gives the floor."
   ]
  },
  {
   "cell_type": "code",
   "execution_count": 12,
   "id": "0412e131-63cd-441b-8bd2-43e7fb21bef1",
   "metadata": {},
   "outputs": [
    {
     "data": {
      "text/plain": [
       "2"
      ]
     },
     "execution_count": 12,
     "metadata": {},
     "output_type": "execute_result"
    }
   ],
   "source": [
    "int(2.6)"
   ]
  },
  {
   "cell_type": "markdown",
   "id": "e0fee07b-254b-440b-999d-fbc9983b8fa5",
   "metadata": {},
   "source": [
    "The `int()`, `float()`, `complex()`, and `str()` functions are very useful to convert one variable type into another. For example, often times we will import data from a text file, i.e., many strings, but we will want to perform operations on numbers:"
   ]
  },
  {
   "cell_type": "code",
   "execution_count": 13,
   "id": "36cb2745-afe1-4172-9e08-b8d21b157155",
   "metadata": {},
   "outputs": [
    {
     "name": "stdout",
     "output_type": "stream",
     "text": [
      "<class 'str'> 5.3\n",
      "<class 'float'> 5.3\n"
     ]
    }
   ],
   "source": [
    "imp_str = '5.3'\n",
    "conv_str = float('5.3')\n",
    "print(type(imp_str), imp_str)\n",
    "print(type(conv_str), conv_str)"
   ]
  },
  {
   "cell_type": "markdown",
   "id": "6f9f58db-04c5-4411-90fa-2c2ce4c3b15a",
   "metadata": {},
   "source": [
    "## Operators <a name=\"Operators\"></a>"
   ]
  },
  {
   "cell_type": "markdown",
   "id": "08ee8e51-dfe6-4790-ad90-c3390d965013",
   "metadata": {},
   "source": [
    "### Arithmetic operators <a name=\"arithmetic-operators\"></a>"
   ]
  },
  {
   "cell_type": "markdown",
   "id": "f1bdc7cd-d971-4f87-b001-d885d906a6d5",
   "metadata": {},
   "source": [
    "**Operators** allow you to do things with variables, like add them. They are represented by special symbols, like `+` and `*`. For now, we will focus on **arithmetic** operators. Python's arithmetic operators are:\n",
    "\n",
    "|action|operator|\n",
    "|:-------|:----------:|\n",
    "|addition | `+`|\n",
    "|subtraction | `-`|\n",
    "|multiplication | `*`|\n",
    "|division | `/`|\n",
    "|raise to power | `**`|\n",
    "|modulo | `%`|\n",
    "|floor division | `//`|\n",
    "\n",
    "**Warning**: Do not use the `^` operator to raise to a power. That is actually the operator for bitwise XOR, which we will not cover for now."
   ]
  },
  {
   "cell_type": "markdown",
   "id": "68dd647d-ed98-4b92-957d-cf204efbaeb9",
   "metadata": {},
   "source": [
    "#### Operations on integers <a name=\"operating-int\"></a>"
   ]
  },
  {
   "cell_type": "markdown",
   "id": "eb9a2835-92dc-43c0-94e6-dd8e1bc3e617",
   "metadata": {},
   "source": [
    "Let's try the arithmetic operators on integers:"
   ]
  },
  {
   "cell_type": "code",
   "execution_count": 14,
   "id": "f5d6fe56-2e83-44dc-a3b9-36714217ef3d",
   "metadata": {},
   "outputs": [
    {
     "data": {
      "text/plain": [
       "8"
      ]
     },
     "execution_count": 14,
     "metadata": {},
     "output_type": "execute_result"
    }
   ],
   "source": [
    "3+5"
   ]
  },
  {
   "cell_type": "code",
   "execution_count": 15,
   "id": "3bcf795a-e5a0-4947-b15a-092bc700f4f9",
   "metadata": {},
   "outputs": [
    {
     "data": {
      "text/plain": [
       "-2"
      ]
     },
     "execution_count": 15,
     "metadata": {},
     "output_type": "execute_result"
    }
   ],
   "source": [
    "3-5"
   ]
  },
  {
   "cell_type": "code",
   "execution_count": 16,
   "id": "4c4a950d-91cb-4e39-b280-6086641d0c48",
   "metadata": {},
   "outputs": [
    {
     "data": {
      "text/plain": [
       "15"
      ]
     },
     "execution_count": 16,
     "metadata": {},
     "output_type": "execute_result"
    }
   ],
   "source": [
    "3*5"
   ]
  },
  {
   "cell_type": "code",
   "execution_count": 17,
   "id": "ade74b7a-ac2b-4ac5-a237-0ee4ab888823",
   "metadata": {},
   "outputs": [
    {
     "data": {
      "text/plain": [
       "0.6"
      ]
     },
     "execution_count": 17,
     "metadata": {},
     "output_type": "execute_result"
    }
   ],
   "source": [
    "3/5"
   ]
  },
  {
   "cell_type": "code",
   "execution_count": 18,
   "id": "2d6f56eb-69b5-4ee8-b51d-dfee0fc0195a",
   "metadata": {},
   "outputs": [
    {
     "data": {
      "text/plain": [
       "243"
      ]
     },
     "execution_count": 18,
     "metadata": {},
     "output_type": "execute_result"
    }
   ],
   "source": [
    "3**5"
   ]
  },
  {
   "cell_type": "code",
   "execution_count": 19,
   "id": "a513d477-5c0b-4a62-97ea-7a90b170a505",
   "metadata": {},
   "outputs": [
    {
     "data": {
      "text/plain": [
       "3"
      ]
     },
     "execution_count": 19,
     "metadata": {},
     "output_type": "execute_result"
    }
   ],
   "source": [
    "3%5"
   ]
  },
  {
   "cell_type": "code",
   "execution_count": 20,
   "id": "5448ebb1-e753-4280-b85e-23573addc70c",
   "metadata": {},
   "outputs": [
    {
     "data": {
      "text/plain": [
       "0"
      ]
     },
     "execution_count": 20,
     "metadata": {},
     "output_type": "execute_result"
    }
   ],
   "source": [
    "3//5"
   ]
  },
  {
   "cell_type": "markdown",
   "id": "2d97ea06-6ade-4a27-92de-2cac5cd972f8",
   "metadata": {},
   "source": [
    "Notice that `3/5` produces a `float`, even though `3` and `5` are `int`: "
   ]
  },
  {
   "cell_type": "code",
   "execution_count": 21,
   "id": "9615511c-b08a-4708-8096-dea928218853",
   "metadata": {},
   "outputs": [
    {
     "name": "stdout",
     "output_type": "stream",
     "text": [
      "<class 'int'>\n",
      "<class 'float'>\n"
     ]
    }
   ],
   "source": [
    "print(type(3+5))\n",
    "print(type(3/5))"
   ]
  },
  {
   "cell_type": "markdown",
   "id": "7db0824d-e16f-4279-955e-418ca7481c18",
   "metadata": {},
   "source": [
    "Note than you cannot divide by zero:"
   ]
  },
  {
   "cell_type": "code",
   "execution_count": 22,
   "id": "e6e61f6d-8ced-4fde-ac35-609e8d66b8a5",
   "metadata": {},
   "outputs": [
    {
     "ename": "ZeroDivisionError",
     "evalue": "division by zero",
     "output_type": "error",
     "traceback": [
      "\u001b[1;31m---------------------------------------------------------------------------\u001b[0m",
      "\u001b[1;31mZeroDivisionError\u001b[0m                         Traceback (most recent call last)",
      "\u001b[1;32m<ipython-input-22-ff4b999c47a3>\u001b[0m in \u001b[0;36m<module>\u001b[1;34m\u001b[0m\n\u001b[1;32m----> 1\u001b[1;33m \u001b[1;36m7\u001b[0m\u001b[1;33m/\u001b[0m\u001b[1;36m0\u001b[0m\u001b[1;33m\u001b[0m\u001b[1;33m\u001b[0m\u001b[0m\n\u001b[0m",
      "\u001b[1;31mZeroDivisionError\u001b[0m: division by zero"
     ]
    }
   ],
   "source": [
    "7/0"
   ]
  },
  {
   "cell_type": "markdown",
   "id": "3b6e4dd5-978c-462a-9504-71992efade5e",
   "metadata": {},
   "source": [
    "#### Operations on floats <a name=\"operating-float\"></a>"
   ]
  },
  {
   "cell_type": "markdown",
   "id": "7143c8d2-d9ad-4b75-af94-85c355f49628",
   "metadata": {},
   "source": [
    "Let's now try the arithmetic operators on floats:"
   ]
  },
  {
   "cell_type": "code",
   "execution_count": 23,
   "id": "a82fb9eb-9072-41d8-85b0-d5e77b6f44c4",
   "metadata": {},
   "outputs": [
    {
     "data": {
      "text/plain": [
       "5.300000000000001"
      ]
     },
     "execution_count": 23,
     "metadata": {},
     "output_type": "execute_result"
    }
   ],
   "source": [
    "2.1 + 3.2"
   ]
  },
  {
   "cell_type": "markdown",
   "id": "13e8534f-9891-4c37-a976-cc4e7b8baceb",
   "metadata": {},
   "source": [
    "Wait a minute!  We know `2.1 + 3.2 = 5.3`, but Python gives `5.300000000000001`. This is due to the fact that floating point numbers are stored with a finite number of binary bits. There will always be some rounding errors. This means that as far as the computer is concerned, it cannot tell you that `2.1 + 3.2` and `5.3` are equal. This is important to remember when dealing with floats, as we will see later."
   ]
  },
  {
   "cell_type": "code",
   "execution_count": 24,
   "id": "29428ddc-cfc3-4f30-9518-43e50bf2c35f",
   "metadata": {},
   "outputs": [
    {
     "data": {
      "text/plain": [
       "-8.881784197001252e-16"
      ]
     },
     "execution_count": 24,
     "metadata": {},
     "output_type": "execute_result"
    }
   ],
   "source": [
    "# Very very close to zero because of finite precision\n",
    "5.3 - (2.1 + 3.2)"
   ]
  },
  {
   "cell_type": "code",
   "execution_count": 25,
   "id": "da0adc04-3927-4c0c-bae8-aa84baf21173",
   "metadata": {},
   "outputs": [
    {
     "data": {
      "text/plain": [
       "-2.9"
      ]
     },
     "execution_count": 25,
     "metadata": {},
     "output_type": "execute_result"
    }
   ],
   "source": [
    "2.1-3-2"
   ]
  },
  {
   "cell_type": "code",
   "execution_count": 26,
   "id": "02ecaf1c-ab17-4354-ae96-8798a8538362",
   "metadata": {},
   "outputs": [
    {
     "data": {
      "text/plain": [
       "6.720000000000001"
      ]
     },
     "execution_count": 26,
     "metadata": {},
     "output_type": "execute_result"
    }
   ],
   "source": [
    "2.1*3.2"
   ]
  },
  {
   "cell_type": "code",
   "execution_count": 27,
   "id": "e52819a4-9a88-4fb2-9f21-4903ddb94e8d",
   "metadata": {},
   "outputs": [
    {
     "data": {
      "text/plain": [
       "0.65625"
      ]
     },
     "execution_count": 27,
     "metadata": {},
     "output_type": "execute_result"
    }
   ],
   "source": [
    "2.1/3.2"
   ]
  },
  {
   "cell_type": "code",
   "execution_count": 28,
   "id": "1ac8a34c-db3b-49b2-aba2-9f5c260ff121",
   "metadata": {},
   "outputs": [
    {
     "data": {
      "text/plain": [
       "10.74241047739471"
      ]
     },
     "execution_count": 28,
     "metadata": {},
     "output_type": "execute_result"
    }
   ],
   "source": [
    "2.1**3.2"
   ]
  },
  {
   "cell_type": "code",
   "execution_count": 29,
   "id": "b2620983-07a0-46be-b043-1427bce8eade",
   "metadata": {},
   "outputs": [
    {
     "data": {
      "text/plain": [
       "2.1"
      ]
     },
     "execution_count": 29,
     "metadata": {},
     "output_type": "execute_result"
    }
   ],
   "source": [
    "2.1%3.2"
   ]
  },
  {
   "cell_type": "code",
   "execution_count": 30,
   "id": "ff9bb02a-e5b8-4186-a5e2-dcd55b77cf4d",
   "metadata": {},
   "outputs": [
    {
     "data": {
      "text/plain": [
       "0.0"
      ]
     },
     "execution_count": 30,
     "metadata": {},
     "output_type": "execute_result"
    }
   ],
   "source": [
    "2.1//3.2"
   ]
  },
  {
   "cell_type": "markdown",
   "id": "0c5cc502-21c7-4fe0-b289-210aba2a0db4",
   "metadata": {},
   "source": [
    "Everything works as expected aside from the floating point precision previously mentioned. As before, you cannot divide by zero:"
   ]
  },
  {
   "cell_type": "code",
   "execution_count": 31,
   "id": "5de72cdc-d1cb-4098-a6e9-10a0a3c7f91a",
   "metadata": {},
   "outputs": [
    {
     "ename": "ZeroDivisionError",
     "evalue": "float division by zero",
     "output_type": "error",
     "traceback": [
      "\u001b[1;31m---------------------------------------------------------------------------\u001b[0m",
      "\u001b[1;31mZeroDivisionError\u001b[0m                         Traceback (most recent call last)",
      "\u001b[1;32m<ipython-input-31-751fedf37578>\u001b[0m in \u001b[0;36m<module>\u001b[1;34m\u001b[0m\n\u001b[1;32m----> 1\u001b[1;33m \u001b[1;36m7.4\u001b[0m\u001b[1;33m/\u001b[0m\u001b[1;36m0.0\u001b[0m\u001b[1;33m\u001b[0m\u001b[1;33m\u001b[0m\u001b[0m\n\u001b[0m",
      "\u001b[1;31mZeroDivisionError\u001b[0m: float division by zero"
     ]
    }
   ],
   "source": [
    "7.4/0.0"
   ]
  },
  {
   "cell_type": "markdown",
   "id": "4c1c3ca2-dfce-4c78-b44f-0ea29ef77ca9",
   "metadata": {},
   "source": [
    "Note that you can operate on integers and floats. In other words, you do not need to convert integers into floats to perform mixed operations:"
   ]
  },
  {
   "cell_type": "code",
   "execution_count": 32,
   "id": "a93d9f57-476f-4316-881d-df8cdd7d4151",
   "metadata": {},
   "outputs": [
    {
     "data": {
      "text/plain": [
       "7.8"
      ]
     },
     "execution_count": 32,
     "metadata": {},
     "output_type": "execute_result"
    }
   ],
   "source": [
    "1+6.8"
   ]
  },
  {
   "cell_type": "markdown",
   "id": "c3acc89d-a7ba-4e40-af25-89a40fd3f14b",
   "metadata": {},
   "source": [
    "#### Operations on strings <a name=\"operating-str\"></a>"
   ]
  },
  {
   "cell_type": "markdown",
   "id": "5bec7a98-51c6-4123-9e0b-5dd0c8f7fe7c",
   "metadata": {},
   "source": [
    "Finally let's try some of these operations on strings. Yes, we will perform mathematical operations on strings! What will we get? Well, let's see..."
   ]
  },
  {
   "cell_type": "code",
   "execution_count": 33,
   "id": "09b98fa5-8cd9-41bd-8217-55134e5ed1fb",
   "metadata": {},
   "outputs": [
    {
     "data": {
      "text/plain": [
       "'We can add strings!'"
      ]
     },
     "execution_count": 33,
     "metadata": {},
     "output_type": "execute_result"
    }
   ],
   "source": [
    "'We can '+'add strings!'"
   ]
  },
  {
   "cell_type": "markdown",
   "id": "d777ebc0-bc02-44e9-bd96-d04b6e8de786",
   "metadata": {},
   "source": [
    "The result is intuitive: adding strings together concatenates them! How about subtracting strings?"
   ]
  },
  {
   "cell_type": "code",
   "execution_count": 34,
   "id": "9ed9347e-da2d-43bf-bbfc-583cf53eda20",
   "metadata": {},
   "outputs": [
    {
     "ename": "TypeError",
     "evalue": "unsupported operand type(s) for -: 'str' and 'str'",
     "output_type": "error",
     "traceback": [
      "\u001b[1;31m---------------------------------------------------------------------------\u001b[0m",
      "\u001b[1;31mTypeError\u001b[0m                                 Traceback (most recent call last)",
      "\u001b[1;32m<ipython-input-34-cc77b43dc175>\u001b[0m in \u001b[0;36m<module>\u001b[1;34m\u001b[0m\n\u001b[1;32m----> 1\u001b[1;33m \u001b[1;34m'Can we '\u001b[0m\u001b[1;33m-\u001b[0m\u001b[1;34m'subtract strings?'\u001b[0m\u001b[1;33m\u001b[0m\u001b[1;33m\u001b[0m\u001b[0m\n\u001b[0m",
      "\u001b[1;31mTypeError\u001b[0m: unsupported operand type(s) for -: 'str' and 'str'"
     ]
    }
   ],
   "source": [
    "'Can we '-'subtract strings?'"
   ]
  },
  {
   "cell_type": "markdown",
   "id": "39bb1100-f114-41d9-bb0d-c9c7fc74a1d9",
   "metadata": {},
   "source": [
    "Ah, too bad, we cannot subtract strings. Well, it actually makes sense, subtracting strings would be weird. At least, we got a nice error message explaining us that the `str` and `str` are unsupported operant types for the `-` operation. \n",
    "\n",
    "Similarly, we cannot perform multiplication, raising of power, etc., with two strings. How about multiplying a string by an integer?"
   ]
  },
  {
   "cell_type": "code",
   "execution_count": 35,
   "id": "9afacd46-1db6-4320-aac7-9abab4e413f0",
   "metadata": {},
   "outputs": [
    {
     "data": {
      "text/plain": [
       "'cat cat cat '"
      ]
     },
     "execution_count": 35,
     "metadata": {},
     "output_type": "execute_result"
    }
   ],
   "source": [
    "'cat '*3"
   ]
  },
  {
   "cell_type": "markdown",
   "id": "b8103a4d-3a71-43d0-960b-e1e56e1868a4",
   "metadata": {},
   "source": [
    "Wow, three `'cat '`! It makes sense: multiplication by an integer is the same thing as just adding multiple times, so the Python interpreter concatenates the string several times."
   ]
  },
  {
   "cell_type": "markdown",
   "id": "6ee4350f-ef6b-4bae-852b-eecc8eeebbb0",
   "metadata": {},
   "source": [
    "#### Order of operations <a name=\"operating-order\"></a>"
   ]
  },
  {
   "cell_type": "markdown",
   "id": "69f06b1a-31d0-4bdd-af59-1eb389449608",
   "metadata": {},
   "source": [
    "The order of operations follows common convention. Exponentiation comes first, followed by multiplication and division, floor division, and modulo. Next comes addition and subtraction. In order of precedence, our arithmetic operator table is\n",
    "\n",
    "|precedence|operators|\n",
    "|:-------:|:----------:|\n",
    "|1 | `**`|\n",
    "|2 | `*`, `/`, `//`, `%`|\n",
    "|3 | `+`, `-`|\n",
    "\n",
    "You can also group operations with parentheses. Operations within parentheses are always evaluated first."
   ]
  },
  {
   "cell_type": "markdown",
   "id": "c1ebd67d-b628-45b4-87d8-8ce5864f69f0",
   "metadata": {},
   "source": [
    "<span style='color:blue'> **Tips:** </span> *do not* use excessive parentheses. Excessive parentheses makes your code less readable, and can lead to mistakes. Trust the order of operations ;)"
   ]
  },
  {
   "cell_type": "code",
   "execution_count": 36,
   "id": "e063c907-d0dc-4e36-b2d4-8d26118a0d29",
   "metadata": {},
   "outputs": [
    {
     "data": {
      "text/plain": [
       "225"
      ]
     },
     "execution_count": 36,
     "metadata": {},
     "output_type": "execute_result"
    }
   ],
   "source": [
    "1**3 + 2**3 + 3**3 + 4**3 + 5**3"
   ]
  },
  {
   "cell_type": "code",
   "execution_count": 37,
   "id": "eb70eb6b-f675-468f-83b3-97984e7b816c",
   "metadata": {},
   "outputs": [
    {
     "data": {
      "text/plain": [
       "225"
      ]
     },
     "execution_count": 37,
     "metadata": {},
     "output_type": "execute_result"
    }
   ],
   "source": [
    "(1+2+3+4+5)**2"
   ]
  },
  {
   "cell_type": "markdown",
   "id": "eaf28d49-da45-4988-8b03-3af5e2206a03",
   "metadata": {},
   "source": [
    "Wooow! The sum of the cubes of 1, 2, ..., 5 is equal to the square of the sum from 1 to 5. Can you demonstrate that this property is true for all *n*?"
   ]
  },
  {
   "cell_type": "markdown",
   "id": "50291e70-0e44-476c-9e9f-1d5355d4b4b5",
   "metadata": {},
   "source": [
    "### Assignment operators <a name=\"assignment-operators\"></a>"
   ]
  },
  {
   "cell_type": "markdown",
   "id": "8e08f3cf-1bce-4f08-b1e8-0337af4e2cfa",
   "metadata": {},
   "source": [
    "Assignment operators are used to assign values to variables. We have already encountered one of them: that's right, the  `=` operator that allows to initiate a variable."
   ]
  },
  {
   "cell_type": "code",
   "execution_count": 38,
   "id": "9d6b820a-0a3a-4c89-ba42-153f56606324",
   "metadata": {},
   "outputs": [
    {
     "name": "stdout",
     "output_type": "stream",
     "text": [
      "<class 'int'> 7\n"
     ]
    }
   ],
   "source": [
    "var = 7\n",
    "print(type(var), var)"
   ]
  },
  {
   "cell_type": "markdown",
   "id": "9e987c36-47e0-43ea-adc3-da98a5dafe53",
   "metadata": {},
   "source": [
    "Now, let's say we want to update the value of our variable `var`. As previously mentioned, you can directly overwrite a variable. You can also use operations. For instance, suppose we want to add `3.9` to `var`. You can use the `+` operator:"
   ]
  },
  {
   "cell_type": "code",
   "execution_count": 39,
   "id": "93bd8c9c-727f-4182-a7d3-a9444e5eb922",
   "metadata": {},
   "outputs": [
    {
     "name": "stdout",
     "output_type": "stream",
     "text": [
      "<class 'float'> 10.9\n"
     ]
    }
   ],
   "source": [
    "var = var+3.9\n",
    "print(type(var), var)"
   ]
  },
  {
   "cell_type": "markdown",
   "id": "9b18a443-2c9f-482c-93ad-d7dfdafdc02b",
   "metadata": {},
   "source": [
    "Notice that we changed the type of our variable `var` from an `int` to a `float`."
   ]
  },
  {
   "cell_type": "markdown",
   "id": "c5de4387-ab4a-43e6-ae92-324e3272e735",
   "metadata": {},
   "source": [
    "Instead of using the `+` arithmetic operator to update our variable, there was a more efficient way, using the assignment operator `+=`:"
   ]
  },
  {
   "cell_type": "code",
   "execution_count": 40,
   "id": "10b1f0ac-9e7a-43b9-8443-c0c6c5c4f42e",
   "metadata": {},
   "outputs": [
    {
     "name": "stdout",
     "output_type": "stream",
     "text": [
      "10.9\n"
     ]
    }
   ],
   "source": [
    "var = 7\n",
    "var+= 3.9\n",
    "print(var)"
   ]
  },
  {
   "cell_type": "markdown",
   "id": "f427edf6-9a71-487b-b44d-6bb6fbccd0a8",
   "metadata": {},
   "source": [
    "The `+=` operator told the interpreter to take the value of `var` and add `3.9` to it, changing the type of `var` in the intuitive way if need be. \n",
    "\n",
    "Similarly, the other arithmetic operators have similar assignment operators:\n",
    "\n",
    "|Operator|Example|Same as|\n",
    "|:-------:|:----------:|:----------:|\n",
    "|`=` | `var = 7` | `var = 7` |  \n",
    "|`+=` | `var += 7` | `var = var + 7`| \n",
    "|`-=` | `var -= 7` | `var = var - 7`|\n",
    "|`*=` | `var *= 7` | `var = var * 7`|\n",
    "|`/=` | `var /= 7` | `var = var / 7`|\n",
    "|`**=` | `var **= 7` | `var = var ** 7`|\n",
    "|`%=` | `var %= 7` | `var = var % 7`| \n",
    "|`//=` | `var //= 7` | `var = var // 7`|"
   ]
  },
  {
   "cell_type": "markdown",
   "id": "1fc63c32-fe57-4770-8b08-4c87f281273b",
   "metadata": {},
   "source": [
    "### Comparison operators and Boolean <a name=\"comparison-operators\"></a>"
   ]
  },
  {
   "cell_type": "markdown",
   "id": "a4b53e7a-e396-43e5-88ff-700b49a2411c",
   "metadata": {},
   "source": [
    "**Comparison operators** (also called **relational operators**) are used to compare two values."
   ]
  },
  {
   "cell_type": "markdown",
   "id": "e506da8d-d104-4f9e-9ea5-30231a3f4f15",
   "metadata": {},
   "source": [
    "Let's start by assessing if two values are equal. We use the `==` operator:"
   ]
  },
  {
   "cell_type": "code",
   "execution_count": 41,
   "id": "93d56f02-50d0-4fab-8730-906f8ad86db0",
   "metadata": {},
   "outputs": [
    {
     "data": {
      "text/plain": [
       "True"
      ]
     },
     "execution_count": 41,
     "metadata": {},
     "output_type": "execute_result"
    }
   ],
   "source": [
    "8 == 8"
   ]
  },
  {
   "cell_type": "code",
   "execution_count": 42,
   "id": "265f5274-e516-4a6d-911d-720ee4b1fe64",
   "metadata": {},
   "outputs": [
    {
     "data": {
      "text/plain": [
       "False"
      ]
     },
     "execution_count": 42,
     "metadata": {},
     "output_type": "execute_result"
    }
   ],
   "source": [
    "8==9"
   ]
  },
  {
   "cell_type": "markdown",
   "id": "9bd747d6-6de0-4aa1-91be-2e1cc3019ae7",
   "metadata": {},
   "source": [
    "Wow! Python confirmed that 8 is equal to 8 but is not equal to 9!\n",
    "\n",
    "Wait a minute, we know what \"True\" and \"False\" mean in English, i.e., words that indicate truth. We can guess they have the same meaning in Python. But what is their type? After all, we have so far seen `str`, `int`, `float`, and `complex` data types. Are `True` and `False` strings? No! `True` and `False` have a special type, called `bool`, short for **Boolean**."
   ]
  },
  {
   "cell_type": "code",
   "execution_count": 43,
   "id": "ef92fa03-b8b9-48f4-b219-b64720cd5090",
   "metadata": {},
   "outputs": [
    {
     "name": "stdout",
     "output_type": "stream",
     "text": [
      "<class 'bool'>\n",
      "<class 'bool'>\n"
     ]
    }
   ],
   "source": [
    "print(type(True))\n",
    "print(type(False))"
   ]
  },
  {
   "cell_type": "markdown",
   "id": "35d5ef5e-7186-4556-a248-a0d0fea4f99d",
   "metadata": {},
   "source": [
    "Boolean are associated to numerical value: `True`has the value `1`, and `False` has the value `0`:"
   ]
  },
  {
   "cell_type": "code",
   "execution_count": 44,
   "id": "2f035f72-7ed3-4abc-ae89-64c0888e34e1",
   "metadata": {},
   "outputs": [
    {
     "data": {
      "text/plain": [
       "True"
      ]
     },
     "execution_count": 44,
     "metadata": {},
     "output_type": "execute_result"
    }
   ],
   "source": [
    "True == 1"
   ]
  },
  {
   "cell_type": "code",
   "execution_count": 45,
   "id": "0c6f1b27-b91c-4f07-a7e7-cc6f55a400b8",
   "metadata": {},
   "outputs": [
    {
     "data": {
      "text/plain": [
       "True"
      ]
     },
     "execution_count": 45,
     "metadata": {},
     "output_type": "execute_result"
    }
   ],
   "source": [
    "False == 0"
   ]
  },
  {
   "cell_type": "markdown",
   "id": "7dc2a71f-326b-40fd-8156-9fdbc3dabf80",
   "metadata": {},
   "source": [
    "You can even perform arithmetic operations on boolean. The result will be an `int`:"
   ]
  },
  {
   "cell_type": "code",
   "execution_count": 46,
   "id": "dce81323-b408-4706-a3d8-e8feadbd4ffa",
   "metadata": {},
   "outputs": [
    {
     "name": "stdout",
     "output_type": "stream",
     "text": [
      "<class 'int'> 1\n"
     ]
    }
   ],
   "source": [
    "sum_bool = True + False\n",
    "\n",
    "print(type(sum_bool), sum_bool)"
   ]
  },
  {
   "cell_type": "markdown",
   "id": "7f60c1d9-c28b-4d1d-a4cc-a70aedd75ae2",
   "metadata": {},
   "source": [
    "Ok, now that we understand what boolean are, let's test it with some floats:"
   ]
  },
  {
   "cell_type": "code",
   "execution_count": 47,
   "id": "988ff0bc-30bb-4705-b13e-2f5239a2ecdc",
   "metadata": {},
   "outputs": [
    {
     "data": {
      "text/plain": [
       "True"
      ]
     },
     "execution_count": 47,
     "metadata": {},
     "output_type": "execute_result"
    }
   ],
   "source": [
    "5.3 == 5.3 "
   ]
  },
  {
   "cell_type": "markdown",
   "id": "c190eb92-ab3b-4f03-8aac-bfda03fb5400",
   "metadata": {},
   "source": [
    "As expected. One more time:"
   ]
  },
  {
   "cell_type": "code",
   "execution_count": 48,
   "id": "a3d90fbb-2967-4574-893c-2788b8ebf606",
   "metadata": {},
   "outputs": [
    {
     "data": {
      "text/plain": [
       "False"
      ]
     },
     "execution_count": 48,
     "metadata": {},
     "output_type": "execute_result"
    }
   ],
   "source": [
    "2.1+3.2 == 5.3"
   ]
  },
  {
   "cell_type": "markdown",
   "id": "40e1ab87-4934-45eb-9743-06841562d8f8",
   "metadata": {},
   "source": [
    "As expect... Wait, what?! How come `2.1 + 3.2` is not `5.3`? Well, remember, there was rounding errors when summing `2.1` and `3.2`. This is the floating point arithmetic issue. Note that floating point numbers that can be exactly represented with binary numbers do not have this problem:"
   ]
  },
  {
   "cell_type": "code",
   "execution_count": 49,
   "id": "55b1a1d0-e138-49db-a646-22c743267a16",
   "metadata": {},
   "outputs": [
    {
     "data": {
      "text/plain": [
       "True"
      ]
     },
     "execution_count": 49,
     "metadata": {},
     "output_type": "execute_result"
    }
   ],
   "source": [
    "2.2+3.2 == 5.4"
   ]
  },
  {
   "cell_type": "markdown",
   "id": "10e9a253-f9a8-4b26-bc5d-46546ae3ae1b",
   "metadata": {},
   "source": [
    "Unfortunately, this behavior is unpredictable, so **never use the `==` operator with `float`**."
   ]
  },
  {
   "cell_type": "markdown",
   "id": "6c7c89d8-adff-47ce-a060-8ceee5275519",
   "metadata": {},
   "source": [
    "Comparison is not restricted to equality. Here are the other comparison operators:\n",
    "\n",
    "|English|Python|\n",
    "|:-------|:----------:|\n",
    "|is equal to | `==`|\n",
    "|is not equal to | `!=`|\n",
    "|is greater than | `>`|\n",
    "|is less than | `<`|\n",
    "|is greater than or equal to | `>=`|\n",
    "|is less than or equal to | `<=`|\n",
    "\n",
    "Let's try them!"
   ]
  },
  {
   "cell_type": "code",
   "execution_count": 50,
   "id": "0dc4b63e-35ed-4ad8-857d-c8e31f7b42cd",
   "metadata": {},
   "outputs": [
    {
     "data": {
      "text/plain": [
       "False"
      ]
     },
     "execution_count": 50,
     "metadata": {},
     "output_type": "execute_result"
    }
   ],
   "source": [
    "-1 > 6"
   ]
  },
  {
   "cell_type": "code",
   "execution_count": 51,
   "id": "05666003-0237-4862-8eb1-b05368550e7c",
   "metadata": {},
   "outputs": [
    {
     "data": {
      "text/plain": [
       "True"
      ]
     },
     "execution_count": 51,
     "metadata": {},
     "output_type": "execute_result"
    }
   ],
   "source": [
    "4 <= 4"
   ]
  },
  {
   "cell_type": "markdown",
   "id": "b5edf96d-94b5-491b-8428-d8455c02268c",
   "metadata": {},
   "source": [
    "We can even chain comparison operators:"
   ]
  },
  {
   "cell_type": "code",
   "execution_count": 52,
   "id": "4af9632d-a08e-4979-8a64-b24ab7fd95a7",
   "metadata": {},
   "outputs": [
    {
     "data": {
      "text/plain": [
       "True"
      ]
     },
     "execution_count": 52,
     "metadata": {},
     "output_type": "execute_result"
    }
   ],
   "source": [
    "1<2<3"
   ]
  },
  {
   "cell_type": "markdown",
   "id": "ed34002f-431f-4066-9f32-0aead6432ffd",
   "metadata": {},
   "source": [
    "However, even if it is legal, do not mix the direction of the comparison operators: "
   ]
  },
  {
   "cell_type": "code",
   "execution_count": 53,
   "id": "50a7f61a-15bf-4e2f-9305-dbd718f88fff",
   "metadata": {},
   "outputs": [
    {
     "data": {
      "text/plain": [
       "True"
      ]
     },
     "execution_count": 53,
     "metadata": {},
     "output_type": "execute_result"
    }
   ],
   "source": [
    "1 < 3 > 2"
   ]
  },
  {
   "cell_type": "markdown",
   "id": "f44a0ada-2afb-4b5e-b506-4dc50152c442",
   "metadata": {},
   "source": [
    "See, chaining comparison operators check the relation element-by-element. In the above example, it means that `1` and `2` are not compared. "
   ]
  },
  {
   "cell_type": "markdown",
   "id": "c0491768-53f8-433f-95d4-01818d339344",
   "metadata": {},
   "source": [
    "Finally, we can use comparison operators on strings:"
   ]
  },
  {
   "cell_type": "code",
   "execution_count": 54,
   "id": "762a3a13-8057-4638-b721-cd41f2ecfea5",
   "metadata": {},
   "outputs": [
    {
     "data": {
      "text/plain": [
       "False"
      ]
     },
     "execution_count": 54,
     "metadata": {},
     "output_type": "execute_result"
    }
   ],
   "source": [
    "'Federer' > 'Nadal'"
   ]
  },
  {
   "cell_type": "markdown",
   "id": "7ce9285a-4647-4945-86d3-7b3f0cd928c2",
   "metadata": {},
   "source": [
    "Wait, what?! Python got crazy! I mean, Python has never seen a tennis match so how does it compares tennis players anyway? Well, it does not. It actually compares the characters of strings. \n",
    "\n",
    "How so? In Python, characters are encoded with [Unicode](https://en.wikipedia.org/wiki/Unicode). This is a standardized library of characters from many languages around the world that contains over 100,000 characters. Each character has a unique number associated with it. We can access what number is assigned to a character using Python's built-in `ord()` function."
   ]
  },
  {
   "cell_type": "code",
   "execution_count": 55,
   "id": "9e6278c7-83c7-47a0-8c59-baa1accc0838",
   "metadata": {},
   "outputs": [
    {
     "data": {
      "text/plain": [
       "97"
      ]
     },
     "execution_count": 55,
     "metadata": {},
     "output_type": "execute_result"
    }
   ],
   "source": [
    "ord('a')"
   ]
  },
  {
   "cell_type": "markdown",
   "id": "e6c65ccd-dcd8-4b54-9f96-f1cbc41a4498",
   "metadata": {},
   "source": [
    "The relational operators on characters compare the values that the `ord` function returns. So, using a relational operator on `'a'` and `'b'` means you are comparing `ord('a')` and `ord('b')`. When comparing strings, the interpreter first compares the first character of each string. If they are equal, it compares the second character, and so on. So, the reason that `'Federer' > 'Nadal'` gives a value of `False` is because `ord('F') < ord('N')`. We're safe, but the debate is still not settled...\n",
    "\n",
    "Note that a result of this scheme is that testing for equality of strings means that **all** characters must be equal. This is the most common use case for relational operators with strings."
   ]
  },
  {
   "cell_type": "markdown",
   "id": "ed912259-4fb3-4656-87ea-9431d66ea63d",
   "metadata": {},
   "source": [
    "### Identity operators <a name=\"identity\"></a>"
   ]
  },
  {
   "cell_type": "markdown",
   "id": "6afa6cb9-95df-49ba-8534-af55d2e7097b",
   "metadata": {},
   "source": [
    "**Identity operators** are used to compare objects, not if they are equal, but if they are actually the same object, with the same memory location. The two identity operators are:\n",
    "\n",
    "|English|Python|\n",
    "|:-------|:----------:|\n",
    "|is the same object | **`is`**|\n",
    "|is not the same object | **`is not`**|\n",
    "\n",
    "That's right. The operators are pretty much the same as English! Let's see these operators in action and get at the difference between `==` and `is`. Let's use the **`is`** operator to investigate how Python stored variables in memory, starting with `float`s."
   ]
  },
  {
   "cell_type": "code",
   "execution_count": 56,
   "id": "0567fcf5-ae37-48f2-af82-907ce581a993",
   "metadata": {},
   "outputs": [
    {
     "data": {
      "text/plain": [
       "(True, False)"
      ]
     },
     "execution_count": 56,
     "metadata": {},
     "output_type": "execute_result"
    }
   ],
   "source": [
    "a = 6.1\n",
    "b = 6.1\n",
    "\n",
    "a == b, a is b"
   ]
  },
  {
   "cell_type": "markdown",
   "id": "f3214d50-37dc-4cd7-a77e-53a53da016c2",
   "metadata": {},
   "source": [
    "See, `a` and `b` have the same value so the `==` operators returns `True`. However, they are not the same object because they are stored in different places in memory, so the `is` operator returns `False`. \n",
    "\n",
    "They can occupy the same place in memory if we do a `b = a` assignment:"
   ]
  },
  {
   "cell_type": "code",
   "execution_count": 57,
   "id": "2995999c-9149-4cb3-b514-bcf56daa1665",
   "metadata": {},
   "outputs": [
    {
     "data": {
      "text/plain": [
       "(True, True)"
      ]
     },
     "execution_count": 57,
     "metadata": {},
     "output_type": "execute_result"
    }
   ],
   "source": [
    "a = 6.1\n",
    "b = a\n",
    "\n",
    "a == b, a is b"
   ]
  },
  {
   "cell_type": "markdown",
   "id": "965781f5-0742-4023-88a1-d77af59471ad",
   "metadata": {},
   "source": [
    "Because we assigned `b = a`, they necessarily have the same (immutable) value. The two variables also occupy the same place in memory for efficiency. Thus, both `==` and `is` operators return `True`."
   ]
  },
  {
   "cell_type": "markdown",
   "id": "34bcb528-aee0-41aa-9643-0d6b83e4e958",
   "metadata": {},
   "source": [
    "However, if we reassign the value of `a`, then the interpreter is placing `a` in a new space in memory, so `a` and `b` are not longer the same object:"
   ]
  },
  {
   "cell_type": "code",
   "execution_count": 58,
   "id": "dd5639f3-1509-484d-b6dd-9281479b1d5d",
   "metadata": {},
   "outputs": [
    {
     "data": {
      "text/plain": [
       "(False, False)"
      ]
     },
     "execution_count": 58,
     "metadata": {},
     "output_type": "execute_result"
    }
   ],
   "source": [
    "a = 6.1\n",
    "b = a\n",
    "a = 8.5\n",
    "\n",
    "a == b, a is b"
   ]
  },
  {
   "cell_type": "markdown",
   "id": "eb5c89d5-1ee5-450f-ba16-4b3c44a910c8",
   "metadata": {},
   "source": [
    "The same discussion is valid for most `int` and `str`. Why most and not all?\n",
    "\n",
    "For integers between between `-5` and `256`, Python employs **integer caching**, meaning that these integers will occupy the same space in memory. This caching does not happen for more negative or larger integers:"
   ]
  },
  {
   "cell_type": "code",
   "execution_count": 59,
   "id": "8b925eae-a3a4-429a-9bcc-629dc952d3ff",
   "metadata": {},
   "outputs": [
    {
     "data": {
      "text/plain": [
       "(True, False)"
      ]
     },
     "execution_count": 59,
     "metadata": {},
     "output_type": "execute_result"
    }
   ],
   "source": [
    "a = 93\n",
    "b = 93\n",
    "c = 708\n",
    "d = 708\n",
    "\n",
    "a is b, c is d"
   ]
  },
  {
   "cell_type": "markdown",
   "id": "30f9a57c-1a97-4b86-9668-8c6f2e0a1d62",
   "metadata": {},
   "source": [
    "Similarly, Python is sometimes doing [**string interning**](https://en.wikipedia.org/wiki/String_interning) which allows for (sometimes very) efficient string processing. Whether two strings occupy the same place in memory depends on what the strings are:"
   ]
  },
  {
   "cell_type": "code",
   "execution_count": 60,
   "id": "06bb5d29-74e8-48c0-a708-0ab25c8ac79b",
   "metadata": {},
   "outputs": [
    {
     "data": {
      "text/plain": [
       "(True, False)"
      ]
     },
     "execution_count": 60,
     "metadata": {},
     "output_type": "execute_result"
    }
   ],
   "source": [
    "a = 'Hello'\n",
    "b = 'Hello'\n",
    "c = 'Hello world!'\n",
    "d = 'Hello world!'\n",
    "\n",
    "a is b, c is d"
   ]
  },
  {
   "cell_type": "markdown",
   "id": "8bd0de6f-b1dc-4a5a-bc7d-f72c19e9e1c8",
   "metadata": {},
   "source": [
    "You generally do not need to worry about caching and interning for **immutable** variables. Immutable means that once the variables are created, their values cannot be changed. If we do change the value the variable gets a new place in memory. All variables we've encountered so far (`int`, `float`, `complex` and `str`) are immutable."
   ]
  },
  {
   "cell_type": "markdown",
   "id": "404c7579-fa09-474f-9ca4-a9498d273941",
   "metadata": {},
   "source": [
    "### Logical operators <a name=\"logical\"></a>"
   ]
  },
  {
   "cell_type": "markdown",
   "id": "6dd2a7d0-bd75-4ed8-b156-228af431bb4e",
   "metadata": {},
   "source": [
    "**Logical operators** can be used to connect relational and identity operators. Python has three logical operators.\n",
    "\n",
    "|Logic|Python|\n",
    "|:-------|:----------:|\n",
    "|AND | `and`|\n",
    "|OR | `or`|\n",
    "|NOT | `not`|\n",
    "\n",
    "The `and` operator means that if both operands are `True`, return `True`. The `or` operator gives `True` if *either* of the operands are `True`. Finally, the `not` operator negates the logical result."
   ]
  },
  {
   "cell_type": "code",
   "execution_count": 61,
   "id": "9702c959-4233-4b1c-9336-6103f5c4e921",
   "metadata": {},
   "outputs": [
    {
     "data": {
      "text/plain": [
       "True"
      ]
     },
     "execution_count": 61,
     "metadata": {},
     "output_type": "execute_result"
    }
   ],
   "source": [
    "True and True"
   ]
  },
  {
   "cell_type": "code",
   "execution_count": 62,
   "id": "baee3ac4-10f8-43c0-8da3-c535220b7ce8",
   "metadata": {},
   "outputs": [
    {
     "data": {
      "text/plain": [
       "False"
      ]
     },
     "execution_count": 62,
     "metadata": {},
     "output_type": "execute_result"
    }
   ],
   "source": [
    "True and False"
   ]
  },
  {
   "cell_type": "code",
   "execution_count": 63,
   "id": "7e954a45-5b33-47a5-8933-b3d3901786ea",
   "metadata": {},
   "outputs": [
    {
     "data": {
      "text/plain": [
       "False"
      ]
     },
     "execution_count": 63,
     "metadata": {},
     "output_type": "execute_result"
    }
   ],
   "source": [
    "False and False"
   ]
  },
  {
   "cell_type": "code",
   "execution_count": 64,
   "id": "9f930985-9676-4f73-be70-db67f2d20847",
   "metadata": {},
   "outputs": [
    {
     "data": {
      "text/plain": [
       "True"
      ]
     },
     "execution_count": 64,
     "metadata": {},
     "output_type": "execute_result"
    }
   ],
   "source": [
    "True or False"
   ]
  },
  {
   "cell_type": "code",
   "execution_count": 65,
   "id": "faf4987a-4c05-46ce-b4be-d5d6bac3ff03",
   "metadata": {},
   "outputs": [
    {
     "data": {
      "text/plain": [
       "True"
      ]
     },
     "execution_count": 65,
     "metadata": {},
     "output_type": "execute_result"
    }
   ],
   "source": [
    "not False"
   ]
  },
  {
   "cell_type": "code",
   "execution_count": 66,
   "id": "4d17d49e-d352-4f33-be0c-3a3a4cc68ad6",
   "metadata": {},
   "outputs": [
    {
     "data": {
      "text/plain": [
       "True"
      ]
     },
     "execution_count": 66,
     "metadata": {},
     "output_type": "execute_result"
    }
   ],
   "source": [
    "not False and True"
   ]
  },
  {
   "cell_type": "code",
   "execution_count": 67,
   "id": "3354f911-717d-4345-87c1-31af1343a94b",
   "metadata": {},
   "outputs": [
    {
     "data": {
      "text/plain": [
       "True"
      ]
     },
     "execution_count": 67,
     "metadata": {},
     "output_type": "execute_result"
    }
   ],
   "source": [
    "not (True and False)"
   ]
  },
  {
   "cell_type": "markdown",
   "id": "bd0537f9-1eb1-4ae1-aedc-600eab89818f",
   "metadata": {},
   "source": [
    "Note that it is important to specify the ordering of your operations, particularly when using the `not` operator.\n",
    "\n",
    "Note also that\n",
    "\n",
    "    a < b < c\n",
    "    \n",
    "is equivalent to\n",
    "\n",
    "    (a < b) and (b < c)\n",
    "\n",
    "With these new types of operators in hand, we can construct a more complete table of operator precedence.\n",
    "\n",
    "|precedence|operators|\n",
    "|:-------|:----------:|\n",
    "|1 | `**`|\n",
    "|2 | `*`, `/`, `//`, `%`|\n",
    "|3 | `+`, `-`|\n",
    "|4 | `<`, `>`, `<=`, `>=`|\n",
    "|5 | `==`, `!=`|\n",
    "|6 | `=`, `+=`, `-=`, `*=`, `/=`, `**=`, `%=`, `//=`|\n",
    "|7 | `is`, `is not`|\n",
    "|8 | `and`, `or`, `not`|"
   ]
  },
  {
   "cell_type": "markdown",
   "id": "2eaec2f4-bf23-4484-b20d-0d24fe86a299",
   "metadata": {},
   "source": [
    "## Conditionals <a name=\"Conditionals\"></a>"
   ]
  },
  {
   "cell_type": "markdown",
   "id": "7649684f-e0f8-4fd4-ae64-3f42e08a9588",
   "metadata": {},
   "source": [
    "**Conditionals** are used to tell your computer to do a set of instructions depending on whether or not a Boolean is `True`. In other words, we are telling the computer:\n",
    "\n",
    "    if something is true:\n",
    "        do task a\n",
    "    otherwise:\n",
    "        do task b\n",
    "\n",
    "In fact, the syntax in Python is almost exactly the same. As always, an example speaks volumes. \n",
    "\n",
    "We are going to study the condition for cooperation in [collective action problem](https://en.wikipedia.org/wiki/Collective_action_problem), also called social dilemma. In such situation, all individuals would be better off cooperating but fail to do so because of conflicting interests between them, which discourage joint action (see illustration below). Many environmental issues takes the form of a social dilemma. For example, recycling requires time and efforts but decreases the consumption of materials if widely adopted. Purchasing an electric vehicle is costly but reduces air pollutants, associated with various respiratory and cardio-vascular health diseases, and greenhouse gas emissions, responsible for climate change.\n",
    "\n",
    "We will assume that individuals have *homo moralis* preferences: they consider not only their selfish payoff but also what happens when all others do the same action. The weight of selfishness and morality depends on the individual degree of morality. Recent economic literature has demonstrated that such preference provides an evolutionary advantage (see e.g., Alger & Weibull, 2013).\n",
    "\n",
    "We can demonstrate that *homo moralis* individuals cooperate in a social dilemma (e.g., perform a pro-environmental action) when their social benefit weighted by their degree of morality is greater than their individual cost of acting weighted by their degree of selfishness. \n",
    "\n",
    "<img src='https://i.postimg.cc/44HkDp79/Social-Dilemma.png' width=\"800\">\n",
    "\n",
    "Ok, enough words, let's assess whether a given *homo moralis* cooperates.\n",
    "\n",
    "*Reference*\n",
    "Alger, I., & Weibull, J. W. (2013). Homo moralis—preference evolution under incomplete information and assortative matching. Econometrica, 81(6), 2269-2302. [DOI: 10.3982/ECTA10637](https://doi.org/10.3982/ECTA10637)"
   ]
  },
  {
   "cell_type": "code",
   "execution_count": 68,
   "id": "d4227c24-f50e-4202-a17d-d8e54c160ea7",
   "metadata": {},
   "outputs": [
    {
     "name": "stdout",
     "output_type": "stream",
     "text": [
      "The individual cooperates!\n"
     ]
    }
   ],
   "source": [
    "cost = 1            # individual cost \n",
    "benefit = 3         # social benefit\n",
    "kappa = 0.5         # degree of morality\n",
    "\n",
    "# condition for cooperation: \n",
    "# social benefit times kappa is greater than individual cost times (1-kappa)\n",
    "\n",
    "if benefit*kappa >= cost*(1-kappa):\n",
    "    print('The individual cooperates!')"
   ]
  },
  {
   "cell_type": "markdown",
   "id": "41b00bba-04ee-462d-a8bb-16555ed0d13f",
   "metadata": {},
   "source": [
    "Youhouuu, good news for nature, the individual performs an environmental-friendly action!\n",
    "\n",
    "Now, let's review the syntax of the `if` statement. The Boolean expression, `benefit*kappa >= cost*(1-kappa)`, is called the **condition**. If it is `True`, the indented statement below is executed. In this case, we print the string `'The individual cooperates!'`. Also, do not forget the `:` at the end of the `if` statement!\n",
    "\n",
    "This brings up a very important aspect of Python syntax: <span style=\"color: dodgerblue; font-weight: bold;\">\n",
    "Indentation matters.\n",
    "</span> Any lines with the same level of indentation will be evaluated together."
   ]
  },
  {
   "cell_type": "code",
   "execution_count": 69,
   "id": "7d362850-610b-4351-9f7a-1b2c6a5b6405",
   "metadata": {},
   "outputs": [
    {
     "name": "stdout",
     "output_type": "stream",
     "text": [
      "The individual cooperates!\n",
      "Same level of intentation, so still printed!\n"
     ]
    }
   ],
   "source": [
    "if benefit*kappa >= cost*(1-kappa):\n",
    "    print('The individual cooperates!')\n",
    "    print('Same level of intentation, so still printed!')"
   ]
  },
  {
   "cell_type": "markdown",
   "id": "ea6c53be-9845-4360-9de0-7db9b05e3e89",
   "metadata": {},
   "source": [
    "What happens if the condition is `False`? Let's try with an individual with degree of morality `kappa=0`, i.e., the infamous fully-selfish *homo oeconomicus*:"
   ]
  },
  {
   "cell_type": "code",
   "execution_count": 70,
   "id": "cbe6d12f-a510-4315-b848-ea93f1f01679",
   "metadata": {},
   "outputs": [],
   "source": [
    "kappa = 0                # degree of morality\n",
    "\n",
    "# condition for cooperation: \n",
    "# social benefit times kappa is greater than individual cost times (1-kappa)\n",
    "\n",
    "if benefit*kappa >= cost*(1-kappa):\n",
    "    print('The individual cooperates!')"
   ]
  },
  {
   "cell_type": "markdown",
   "id": "cf029270-2bf7-44ce-a589-39cd2547bea7",
   "metadata": {},
   "source": [
    "Nothing happened. This is because we did not tell Python what to do if the condition was evaluated as `False`. We can add that with an `else` **clause** in the conditional."
   ]
  },
  {
   "cell_type": "code",
   "execution_count": 71,
   "id": "dd39d428-8553-477c-98e9-08d963b67851",
   "metadata": {},
   "outputs": [
    {
     "name": "stdout",
     "output_type": "stream",
     "text": [
      "What a shame, the individual does not cooperate...\n"
     ]
    }
   ],
   "source": [
    "kappa = 0      # degree of morality\n",
    "\n",
    "# condition for cooperation: \n",
    "# social benefit times kappa is greater than individual cost times (1-kappa)\n",
    "\n",
    "if benefit*kappa >= cost*(1-kappa):\n",
    "    print('The individual cooperates!')\n",
    "else:\n",
    "    print('What a shame, the individual does not cooperate...')"
   ]
  },
  {
   "cell_type": "markdown",
   "id": "86becf05-e23e-4094-89d4-9da0d7aed496",
   "metadata": {},
   "source": [
    "We can assess several conditions by using an `elif` clause. For example, say we have two individuals, Edoardo and Quentin, and we want to check if they both cooperates, if only one of them cooperates, or if they both do not care for the environment:"
   ]
  },
  {
   "cell_type": "code",
   "execution_count": 72,
   "id": "6e45afcd-b8c8-46d6-833e-e5b978566fff",
   "metadata": {},
   "outputs": [
    {
     "name": "stdout",
     "output_type": "stream",
     "text": [
      "Only one individual cooperates\n"
     ]
    }
   ],
   "source": [
    "kappa_1 = 0.2     # degree of morality of the first individual\n",
    "kappa_2 = 0.3     # degree of morality of the second individual\n",
    "\n",
    "# condition for cooperation: \n",
    "# social benefit times kappa is greater than individual cost times (1-kappa)\n",
    "\n",
    "if benefit*kappa_1 >= cost*(1-kappa_1) and benefit*kappa_2 >= cost*(1-kappa_2):\n",
    "    print('Both individual cooperates!')\n",
    "elif benefit*kappa_1 < cost*(1-kappa_1) and benefit*kappa_2 < cost*(1-kappa_2):\n",
    "    print('What a shame, nobody cooperates...')\n",
    "else:\n",
    "    print('Only one individual cooperates')"
   ]
  },
  {
   "cell_type": "markdown",
   "id": "1f9a4a01-5500-4f5d-95a7-848625929d7c",
   "metadata": {},
   "source": [
    "It seems like either Edoardo or Quentin are not cooperating... Anyway, notice the use of the logical operator `and` in addition of the comparison operators `>=` and `<`."
   ]
  },
  {
   "cell_type": "markdown",
   "id": "34474870-f8ab-488c-b301-b739d7879ca2",
   "metadata": {},
   "source": [
    "## Collection of elements <a name=\"collection\"></a>"
   ]
  },
  {
   "cell_type": "markdown",
   "id": "58fed09b-238e-4410-83c9-f43d1c121f15",
   "metadata": {},
   "source": [
    "We will now explore two important data types in Python: lists and tuples. They are both sequences of objects. Just like a string is a sequence (that is, an ordered collection) of characters, lists and tuples are sequences of arbitrary objects, called items or elements. They are a way to make a single object that contains many other objects."
   ]
  },
  {
   "cell_type": "markdown",
   "id": "a08f3cf5-4579-44e6-bba6-904f5409d209",
   "metadata": {},
   "source": [
    "### Lists <a name=\"Lists\"></a>"
   ]
  },
  {
   "cell_type": "markdown",
   "id": "015a7089-e3d3-4bfc-b04d-662e170553ee",
   "metadata": {},
   "source": [
    "**Lists** are used to store multiple items in a single variable. We create lists by putting Python values or expressions inside **square brackets**, separated by **commas**:"
   ]
  },
  {
   "cell_type": "code",
   "execution_count": 73,
   "id": "d12f54c2-c9d2-4ed7-ad0d-2b8c2b8f44ea",
   "metadata": {},
   "outputs": [
    {
     "name": "stdout",
     "output_type": "stream",
     "text": [
      "<class 'list'> [2, 3.7, (4+5j), 'dog']\n"
     ]
    }
   ],
   "source": [
    "my_list = [2, 3.7, 4+5j, 'dog']\n",
    "print(type(my_list),my_list)"
   ]
  },
  {
   "cell_type": "markdown",
   "id": "431a6a47-a0cf-442a-9405-f5a198b8fe17",
   "metadata": {},
   "source": [
    "Note that the type of a list is... a `list`! Also, any Python expression can be part of a list, including another list:"
   ]
  },
  {
   "cell_type": "code",
   "execution_count": 74,
   "id": "adacee1e-aacf-4f6f-8dfd-c887541dd21f",
   "metadata": {},
   "outputs": [
    {
     "name": "stdout",
     "output_type": "stream",
     "text": [
      "[2, 3.7, (4+5j), 'dog', [0, 'Hi!']]\n"
     ]
    }
   ],
   "source": [
    "my_list2 = [2, 3.7, 4+5j, 'dog', [0,'Hi!']]\n",
    "print(my_list2)"
   ]
  },
  {
   "cell_type": "markdown",
   "id": "197e02f9-2096-41be-a954-254f3371a298",
   "metadata": {},
   "source": [
    "You can also perform operations inside a list. If so, the operations get evaluated:"
   ]
  },
  {
   "cell_type": "code",
   "execution_count": 75,
   "id": "75d29592-3c5d-472f-b265-4a5905f58ee1",
   "metadata": {},
   "outputs": [
    {
     "name": "stdout",
     "output_type": "stream",
     "text": [
      "[17, -1, 72]\n"
     ]
    }
   ],
   "source": [
    "my_list3 = [8+9, 8-9, 8*9]\n",
    "print(my_list3)"
   ]
  },
  {
   "cell_type": "markdown",
   "id": "78cf86c1-1167-46cf-b0ef-cd581896b03e",
   "metadata": {},
   "source": [
    "Now what happens when you perform operations on lists? Let's find out!"
   ]
  },
  {
   "cell_type": "markdown",
   "id": "0ec1542e-85d5-4065-9c85-0b8f02a46ef2",
   "metadata": {},
   "source": [
    "Operators on lists behave much like operators on strings. The `+` operator on lists means list concatenation."
   ]
  },
  {
   "cell_type": "code",
   "execution_count": 76,
   "id": "5b760de0-fc70-40f2-a15d-24a89fdb6318",
   "metadata": {},
   "outputs": [
    {
     "data": {
      "text/plain": [
       "[1, 2, 3, 4, 5, 6]"
      ]
     },
     "execution_count": 76,
     "metadata": {},
     "output_type": "execute_result"
    }
   ],
   "source": [
    "[1,2,3]+[4,5,6]"
   ]
  },
  {
   "cell_type": "markdown",
   "id": "36fa411f-d576-4b48-a2c6-c5d58e3d6330",
   "metadata": {},
   "source": [
    "The * operator on lists means list replication and concatenation."
   ]
  },
  {
   "cell_type": "code",
   "execution_count": 77,
   "id": "b1297d64-9fe7-42fd-b53e-3852acbdb2cb",
   "metadata": {},
   "outputs": [
    {
     "data": {
      "text/plain": [
       "[1, 2, 3, 1, 2, 3]"
      ]
     },
     "execution_count": 77,
     "metadata": {},
     "output_type": "execute_result"
    }
   ],
   "source": [
    "[1,2,3]*2"
   ]
  },
  {
   "cell_type": "markdown",
   "id": "df774d23-9ec9-4813-a70c-b21377b18840",
   "metadata": {},
   "source": [
    "### Tuples <a name=\"Tuples\"></a>"
   ]
  },
  {
   "cell_type": "markdown",
   "id": "9ba3f2d7-45fc-4b33-92e5-cb58ca76d009",
   "metadata": {},
   "source": [
    "As lists, **tuples** are used to store multiple items in a single variable. We create tuples by putting Python values or expressions inside **parenthesis**, separated by **commas**:"
   ]
  },
  {
   "cell_type": "code",
   "execution_count": 78,
   "id": "59eb84f8-2aa7-4df7-bfe0-e47ebb5bbce9",
   "metadata": {},
   "outputs": [
    {
     "name": "stdout",
     "output_type": "stream",
     "text": [
      "<class 'tuple'> (2, 3.7, (4+5j), 'dog', (0, 'Hi!'))\n"
     ]
    }
   ],
   "source": [
    "my_tuple = (2, 3.7, 4+5j, 'dog', (0,'Hi!'))\n",
    "print(type(my_tuple),my_tuple)"
   ]
  },
  {
   "cell_type": "markdown",
   "id": "79c6a407-8d72-4521-820e-06a8d4e0ffe9",
   "metadata": {},
   "source": [
    "The type of a tuple is, you guessed it, a `tuple`. As with lists, any Python expression can be part of a tuple, including another tuple, and you can also perform operations inside tuples:"
   ]
  },
  {
   "cell_type": "code",
   "execution_count": 79,
   "id": "bab5b9e6-ce13-4444-92f0-6188a2376031",
   "metadata": {},
   "outputs": [
    {
     "data": {
      "text/plain": [
       "(17, -1, 72)"
      ]
     },
     "execution_count": 79,
     "metadata": {},
     "output_type": "execute_result"
    }
   ],
   "source": [
    "(8+9, 8-9, 8*9)"
   ]
  },
  {
   "cell_type": "markdown",
   "id": "9215e682-8220-4a72-89e0-40132aaa210e",
   "metadata": {},
   "source": [
    "Just be careful when you create a tuple with a single item: you need to include a comma after the item:"
   ]
  },
  {
   "cell_type": "code",
   "execution_count": 80,
   "id": "c248975c-68bc-47a1-8106-d5ad80524dc3",
   "metadata": {},
   "outputs": [
    {
     "data": {
      "text/plain": [
       "(tuple, int)"
      ]
     },
     "execution_count": 80,
     "metadata": {},
     "output_type": "execute_result"
    }
   ],
   "source": [
    "my_tuple = (0,)\n",
    "not_a_tuple = (0) # this is just the number 0 (normal use of parantheses)\n",
    "\n",
    "type(my_tuple), type(not_a_tuple)"
   ]
  },
  {
   "cell_type": "markdown",
   "id": "48109599-5ec8-4a76-aa78-c225be20fe0b",
   "metadata": {},
   "source": [
    "Operators on tuples work as for lists, i.e., you can concatenate tuples with the `+` and `*`operators:"
   ]
  },
  {
   "cell_type": "code",
   "execution_count": 81,
   "id": "bb854034-74e6-4e09-913e-3f71dba4cdee",
   "metadata": {},
   "outputs": [
    {
     "data": {
      "text/plain": [
       "(1, 2, 3, 4, 5, 6)"
      ]
     },
     "execution_count": 81,
     "metadata": {},
     "output_type": "execute_result"
    }
   ],
   "source": [
    "(1,2,3)+(4,5,6)"
   ]
  },
  {
   "cell_type": "code",
   "execution_count": 82,
   "id": "a25d3c63-696d-45dd-9b7e-4de1fd0a27b3",
   "metadata": {},
   "outputs": [
    {
     "data": {
      "text/plain": [
       "(1, 2, 3, 1, 2, 3)"
      ]
     },
     "execution_count": 82,
     "metadata": {},
     "output_type": "execute_result"
    }
   ],
   "source": [
    "(1,2,3)*2"
   ]
  },
  {
   "cell_type": "markdown",
   "id": "34f328ef-e6a4-4b31-b46c-2259f1e95821",
   "metadata": {},
   "source": [
    "### Conversion <a name=\"Conversion\"></a>"
   ]
  },
  {
   "cell_type": "markdown",
   "id": "29d7d518-235e-4f32-855a-df7693c5b35a",
   "metadata": {},
   "source": [
    "You can convert `tuple` into `list` using the function `list()`:"
   ]
  },
  {
   "cell_type": "code",
   "execution_count": 83,
   "id": "840f6313-69ef-4d55-883f-133c4c24d780",
   "metadata": {},
   "outputs": [
    {
     "data": {
      "text/plain": [
       "[0, 1, 2, 3]"
      ]
     },
     "execution_count": 83,
     "metadata": {},
     "output_type": "execute_result"
    }
   ],
   "source": [
    "tuple_to_convert = (0,1,2,3)\n",
    "converted_list = list(tuple_to_convert)\n",
    "\n",
    "converted_list"
   ]
  },
  {
   "cell_type": "markdown",
   "id": "c718e48e-e119-4d3e-b398-e0f39fbfb762",
   "metadata": {},
   "source": [
    "Similarly, you can convert `list` into `tuple` using the function `tuple()`:"
   ]
  },
  {
   "cell_type": "code",
   "execution_count": 84,
   "id": "21e53e71-9063-45e5-9463-ffcca80e82a8",
   "metadata": {},
   "outputs": [
    {
     "data": {
      "text/plain": [
       "(0, 1, 2, 3)"
      ]
     },
     "execution_count": 84,
     "metadata": {},
     "output_type": "execute_result"
    }
   ],
   "source": [
    "list_to_convert = [0,1,2,3]\n",
    "converted_tuple = tuple(list_to_convert)\n",
    "\n",
    "converted_tuple"
   ]
  },
  {
   "cell_type": "markdown",
   "id": "0d5024ba-4ef0-43c1-959f-36019c8f9885",
   "metadata": {},
   "source": [
    "### Indexing <a name=\"Indexing\"></a>"
   ]
  },
  {
   "cell_type": "markdown",
   "id": "e5237054-1ba2-4f9e-9592-71d7f76564d0",
   "metadata": {},
   "source": [
    "Lists and tuples are **ordered**, meaning that the items have a defined order. Thus, we can access a given item in a list or a tuple. To do so, we use **brackets**. We first write the name of our list/tuple and then enclosed in square brackets we write the location (**index**) of the desired element:"
   ]
  },
  {
   "cell_type": "code",
   "execution_count": 85,
   "id": "17875cd3-9d1c-4342-89a8-311195777bed",
   "metadata": {},
   "outputs": [
    {
     "data": {
      "text/plain": [
       "3.7"
      ]
     },
     "execution_count": 85,
     "metadata": {},
     "output_type": "execute_result"
    }
   ],
   "source": [
    "list_index = [2, 3.7, 4+5j, 'dog', [0,'Hi!']]\n",
    "\n",
    "list_index[1]"
   ]
  },
  {
   "cell_type": "markdown",
   "id": "92cc42ec-b39e-4543-8dc6-f9f05ea1ae26",
   "metadata": {},
   "source": [
    "Wait, what?! We asked for the first element and we got the second element of our list. Does Python not know how to count? Don't worry, this behavior happens because <span style='color:red'> **indexing in Python starts at zero** </span>. This is very important. (Historical note: [Why Python uses 0-based indexing](http://python-history.blogspot.com/2013/10/why-python-uses-0-based-indexing.html).)"
   ]
  },
  {
   "cell_type": "code",
   "execution_count": 86,
   "id": "68c885c2-908c-4f9e-b188-1dad06054d08",
   "metadata": {},
   "outputs": [
    {
     "name": "stdout",
     "output_type": "stream",
     "text": [
      "2\n",
      "[0, 'Hi!']\n"
     ]
    }
   ],
   "source": [
    "print(list_index[0])\n",
    "print(list_index[4])"
   ]
  },
  {
   "cell_type": "markdown",
   "id": "f4530a3c-5c8b-4205-be98-5587654945f3",
   "metadata": {},
   "source": [
    "Much better! \n",
    "\n",
    "In our second example, we accessed the list that was within our list, i.e., a sublist. A list that contain another list is called a **nested list**. The sublist can also contain another list (i.e., a subsublist), and so on. We can index a sublist by adding another set of brackets:"
   ]
  },
  {
   "cell_type": "code",
   "execution_count": 87,
   "id": "8e9c225f-f50e-4a63-81a4-6e4814ee8932",
   "metadata": {},
   "outputs": [
    {
     "name": "stdout",
     "output_type": "stream",
     "text": [
      "2\n",
      "4\n"
     ]
    }
   ],
   "source": [
    "nested_list = [[1,2,3],[4,5,6]]\n",
    "\n",
    "print(nested_list[0][1])\n",
    "print(nested_list[1][0])"
   ]
  },
  {
   "cell_type": "markdown",
   "id": "72070214-03b3-4877-a403-1d0cc0113138",
   "metadata": {},
   "source": [
    "The same is true for tuples: you can index nested tuples with multiple set of brackets:"
   ]
  },
  {
   "cell_type": "code",
   "execution_count": 88,
   "id": "372fb229-0a90-4951-b09b-b0ccbde6d3c8",
   "metadata": {},
   "outputs": [
    {
     "name": "stdout",
     "output_type": "stream",
     "text": [
      "3\n",
      "5\n"
     ]
    }
   ],
   "source": [
    "nested_tuple = ((1,2,3),(4,5,6))\n",
    "\n",
    "print(nested_tuple[0][2])\n",
    "print(nested_tuple[1][1])"
   ]
  },
  {
   "cell_type": "markdown",
   "id": "2470614c-5e1a-4248-a16f-bd09f4b5afe5",
   "metadata": {},
   "source": [
    "Ok, now we know the basics of indexing. An amazing feature allowed by Python is **negative indexing**. This just means we start indexing from the last entry, starting at `-1`:"
   ]
  },
  {
   "cell_type": "code",
   "execution_count": 89,
   "id": "7e9aa9b4-ae5b-43c1-9bca-04dbcbacc05e",
   "metadata": {},
   "outputs": [
    {
     "data": {
      "text/plain": [
       "'dog'"
      ]
     },
     "execution_count": 89,
     "metadata": {},
     "output_type": "execute_result"
    }
   ],
   "source": [
    "list_index2 = [2, 3.7, 4+5j, 'dog']\n",
    "\n",
    "list_index2[-1]"
   ]
  },
  {
   "cell_type": "markdown",
   "id": "c4d3cf09-6604-4a7f-b117-44b310425dad",
   "metadata": {},
   "source": [
    "Indexing in reverse is sometimes very convenient. Let's recap the forward and backward indices for lists and tuples:\n",
    "\n",
    "|Element|1|2|3|4|5|6|7|8|9|10|\n",
    "|------|-:|-:|-:|-:|-:|-:|-:|-:|-:|-:|\n",
    "|Forward indices|0|1|2|3|4|5|6|7|8|9|\n",
    "|Reverse indices|-10|-9|-8|-7|-6|-5|-4|-3|-2|-1|"
   ]
  },
  {
   "cell_type": "code",
   "execution_count": 90,
   "id": "bed10a77-3d4e-42b0-ab4c-f54c68b4e798",
   "metadata": {},
   "outputs": [
    {
     "name": "stdout",
     "output_type": "stream",
     "text": [
      "8\n",
      "8\n"
     ]
    }
   ],
   "source": [
    "tuple_index = (1,2,3,4,5,6,7,8,9,10)\n",
    "\n",
    "print(tuple_index[7])\n",
    "print(tuple_index[-3])"
   ]
  },
  {
   "cell_type": "markdown",
   "id": "64b859a9-810d-4278-9ff8-dcbca7507689",
   "metadata": {},
   "source": [
    "### Slicing <a name=\"Slicing\"></a>"
   ]
  },
  {
   "cell_type": "markdown",
   "id": "b40a23b1-039b-410a-a1d2-59d8977df6ca",
   "metadata": {},
   "source": [
    "With indexing, we have accessed a given element. How to **slice** a list or a tuple, i.e., extract several elements? We can use semicolon `[:]` for that:"
   ]
  },
  {
   "cell_type": "code",
   "execution_count": 91,
   "id": "ad19961e-e03b-49a8-a977-a1290c72834c",
   "metadata": {},
   "outputs": [
    {
     "data": {
      "text/plain": [
       "[0, 1, 2, 3]"
      ]
     },
     "execution_count": 91,
     "metadata": {},
     "output_type": "execute_result"
    }
   ],
   "source": [
    "slicing_list = [0,1,2,3,4,5,6,7,8,9]\n",
    "\n",
    "slicing_list[0:4]"
   ]
  },
  {
   "cell_type": "markdown",
   "id": "d074138d-efce-492b-ae19-7508ba7c9a4b",
   "metadata": {},
   "source": [
    "In the above, we extracted a list with elements from `0` to `3`, despite writing `[0:4]`. In other words, the last element (`4`) is not included. \n",
    "\n",
    "More generally, when using colon indexing `[i:j]`, we get items `i` through `j-1`.  I.e., the range is **inclusive of the first index and exclusive of the last**. If the slice's final index is larger than the length of the sequence, the slice ends at the last element. Thus, be careful when you slice lists/tuples. "
   ]
  },
  {
   "cell_type": "code",
   "execution_count": 92,
   "id": "c9f74d26-5e91-49c6-9273-101b23b5be18",
   "metadata": {},
   "outputs": [
    {
     "data": {
      "text/plain": [
       "[3, 4, 5, 6, 7, 8, 9]"
      ]
     },
     "execution_count": 92,
     "metadata": {},
     "output_type": "execute_result"
    }
   ],
   "source": [
    "slicing_list[3:100]"
   ]
  },
  {
   "cell_type": "markdown",
   "id": "7bb2717b-cb1c-4165-981f-d27e1cfce930",
   "metadata": {},
   "source": [
    "As before, you can use negative indices:"
   ]
  },
  {
   "cell_type": "code",
   "execution_count": 93,
   "id": "b52a924f-552c-4ce6-bc86-c5e868344640",
   "metadata": {},
   "outputs": [
    {
     "data": {
      "text/plain": [
       "[3, 4, 5, 6, 7]"
      ]
     },
     "execution_count": 93,
     "metadata": {},
     "output_type": "execute_result"
    }
   ],
   "source": [
    "slicing_list[3:-2]"
   ]
  },
  {
   "cell_type": "markdown",
   "id": "16450b1d-eb6f-4361-8093-373c9e48996a",
   "metadata": {},
   "source": [
    "When `i` is larger than `j` when using colon indexing `[i:j]` (in terms of indices), then we get an empty list:"
   ]
  },
  {
   "cell_type": "code",
   "execution_count": 94,
   "id": "b3c3ecd4-c6ba-4c68-aa27-80abb4e28d07",
   "metadata": {},
   "outputs": [
    {
     "data": {
      "text/plain": [
       "[]"
      ]
     },
     "execution_count": 94,
     "metadata": {},
     "output_type": "execute_result"
    }
   ],
   "source": [
    "slicing_list[7:-5]"
   ]
  },
  {
   "cell_type": "markdown",
   "id": "a90f08cd-0978-49fb-9607-c83f0f0a1474",
   "metadata": {},
   "source": [
    "We have so far extracted consecutive elements. What if you only want even numbers from our list `[0,1,2,3,4,5,6,7,8,9]`? Well then, you can specify a **stride** using a second colon:"
   ]
  },
  {
   "cell_type": "code",
   "execution_count": 95,
   "id": "ef3ffa72-6017-4b66-ac85-af0c9f1f9697",
   "metadata": {},
   "outputs": [
    {
     "data": {
      "text/plain": [
       "[0, 2, 4, 6, 8]"
      ]
     },
     "execution_count": 95,
     "metadata": {},
     "output_type": "execute_result"
    }
   ],
   "source": [
    "slicing_list[0::2]"
   ]
  },
  {
   "cell_type": "markdown",
   "id": "858c310d-4bac-421d-a90c-e8d6c422703d",
   "metadata": {},
   "source": [
    "In the above example, `0` is the start index and `2` defines the stride, i.e., the step. When the start is not defined, the default is zero:"
   ]
  },
  {
   "cell_type": "code",
   "execution_count": 96,
   "id": "f6f80584-d727-4eb1-81b7-ea4cce10d1d9",
   "metadata": {},
   "outputs": [
    {
     "data": {
      "text/plain": [
       "[0, 2, 4, 6, 8]"
      ]
     },
     "execution_count": 96,
     "metadata": {},
     "output_type": "execute_result"
    }
   ],
   "source": [
    "slicing_list[::2]   #no need to specify \"0\" when we want to start at the first index"
   ]
  },
  {
   "cell_type": "markdown",
   "id": "33964b10-6f23-4cde-9f55-9e0a422fb0f4",
   "metadata": {},
   "source": [
    "Suppose we now want the odd numbers, how do we do it? Simple, we just modify the start value of our stride!"
   ]
  },
  {
   "cell_type": "code",
   "execution_count": 97,
   "id": "90bfaff4-e2d5-49b0-8c2f-b5bfe26fc9ca",
   "metadata": {},
   "outputs": [
    {
     "data": {
      "text/plain": [
       "[1, 3, 5, 7, 9]"
      ]
     },
     "execution_count": 97,
     "metadata": {},
     "output_type": "execute_result"
    }
   ],
   "source": [
    "slicing_list[1::2]"
   ]
  },
  {
   "cell_type": "markdown",
   "id": "dbf38a35-e966-4da7-9526-a5333ce853eb",
   "metadata": {},
   "source": [
    "And if we want the multiple of three? We modify the stride:"
   ]
  },
  {
   "cell_type": "code",
   "execution_count": 98,
   "id": "c1422d38-8a2f-47d7-b76e-2e2e528aeeff",
   "metadata": {},
   "outputs": [
    {
     "data": {
      "text/plain": [
       "[0, 3, 6, 9]"
      ]
     },
     "execution_count": 98,
     "metadata": {},
     "output_type": "execute_result"
    }
   ],
   "source": [
    "slicing_list[::3]"
   ]
  },
  {
   "cell_type": "markdown",
   "id": "86a1d19b-ff09-4503-9da3-7e6bd074e526",
   "metadata": {},
   "source": [
    "What about the value in-between the two colons? Until now, we left it undefined. It is actually the end index:"
   ]
  },
  {
   "cell_type": "code",
   "execution_count": 99,
   "id": "34bbc875-0805-4198-90b0-a0e7be3a7b4e",
   "metadata": {},
   "outputs": [
    {
     "data": {
      "text/plain": [
       "[0, 2, 4]"
      ]
     },
     "execution_count": 99,
     "metadata": {},
     "output_type": "execute_result"
    }
   ],
   "source": [
    "slicing_list[:6:2]"
   ]
  },
  {
   "cell_type": "markdown",
   "id": "6343bac5-5128-4dcf-8307-b9bca5bde213",
   "metadata": {},
   "source": [
    "Let's recap how indexing and slicing work. The general structure is: `[start:end:stride]`\n",
    "\n",
    "* If there are no colons, a single element is returned.\n",
    "* If there are any colons, we are slicing the list, and a list is returned.\n",
    "* If there is one colon, `stride` is assumed to be 1.\n",
    "* If `start` is not specified, it is assumed to be zero.\n",
    "* If `end` is not specified, it is assumed you want the entire list.\n",
    "* If `stride` is not specified, it is assumed to be 1.\n",
    "\n",
    "Now let's do some crazy slicing! Imagine we want to reverse a list/tuple. Can you think of a way to do this operation using slicing? Well, we can use a negative stride!"
   ]
  },
  {
   "cell_type": "code",
   "execution_count": 100,
   "id": "cdabc0b0-214a-436d-9710-e46505fcf22e",
   "metadata": {},
   "outputs": [
    {
     "data": {
      "text/plain": [
       "[9, 8, 7, 6, 5, 4, 3, 2, 1, 0]"
      ]
     },
     "execution_count": 100,
     "metadata": {},
     "output_type": "execute_result"
    }
   ],
   "source": [
    "slicing_list[::-1]"
   ]
  },
  {
   "cell_type": "markdown",
   "id": "2962502e-4192-4d0a-b651-4311bfa5db6b",
   "metadata": {},
   "source": [
    "Note that the meaning of the \"start\" and \"end\" index is a bit ambiguous when you have a negative stride. When the stride is negative, we still slice from start to end, but the order is reversed. "
   ]
  },
  {
   "cell_type": "code",
   "execution_count": 101,
   "id": "e309338a-2d15-49ee-a93d-f20c3f3eb530",
   "metadata": {},
   "outputs": [
    {
     "data": {
      "text/plain": [
       "[9, 7]"
      ]
     },
     "execution_count": 101,
     "metadata": {},
     "output_type": "execute_result"
    }
   ],
   "source": [
    "slicing_list[-1:6:-2]"
   ]
  },
  {
   "cell_type": "markdown",
   "id": "298c357d-822d-405b-9bd3-e8e4c2552488",
   "metadata": {},
   "source": [
    "Take some time to practice slicing since this is a very important concept :)"
   ]
  },
  {
   "cell_type": "markdown",
   "id": "ae5c7aa3-0cb9-4546-9f66-a9064d969614",
   "metadata": {},
   "source": [
    "### Membership operators <a name=\"membership-operators\"></a>"
   ]
  },
  {
   "cell_type": "markdown",
   "id": "71a19236-82d8-4ffb-854a-075088995b5f",
   "metadata": {},
   "source": [
    "**Membership operators** are used to test if a sequence is present in an object such as a list or a tuple. The two membership operators are:\n",
    "\n",
    "|English|operator|\n",
    "|:-------|:----------:|\n",
    "|is a member of | `in`|\n",
    "|is not a member of | `not in`|\n",
    "\n",
    "The result of the operator is `True` or `False`. Let's have a look at some examples:"
   ]
  },
  {
   "cell_type": "code",
   "execution_count": 102,
   "id": "03c244be-b775-4630-a5ee-2dee879fc91a",
   "metadata": {},
   "outputs": [
    {
     "data": {
      "text/plain": [
       "True"
      ]
     },
     "execution_count": 102,
     "metadata": {},
     "output_type": "execute_result"
    }
   ],
   "source": [
    "my_list = [2, 3.7, 4+5j, 'dog', [0,'Hi!']]\n",
    "\n",
    "2 in my_list"
   ]
  },
  {
   "cell_type": "markdown",
   "id": "13ba23a2-d206-4749-9038-5eda8714ab9c",
   "metadata": {},
   "source": [
    "Indeed, `2` is in our list, it is the first element. What about `'Hi!`? "
   ]
  },
  {
   "cell_type": "code",
   "execution_count": 103,
   "id": "0e2fa587-1313-4c62-9b0b-3aabc2e4522b",
   "metadata": {},
   "outputs": [
    {
     "data": {
      "text/plain": [
       "False"
      ]
     },
     "execution_count": 103,
     "metadata": {},
     "output_type": "execute_result"
    }
   ],
   "source": [
    "'Hi' in my_list"
   ]
  },
  {
   "cell_type": "markdown",
   "id": "03f7646a-8ecd-42d6-8109-603e92c80d38",
   "metadata": {},
   "source": [
    "Why `'Hi!'` is not in our list? Well, it is part of our sublist `[0, 'Hi!']` but not of our \"main\" list `my_list`. `my_list` actually contains five elements, and `'Hi!'` is not one of them.\n",
    "\n",
    "Let's look at an example with a tuple to make sure we master membership operators:"
   ]
  },
  {
   "cell_type": "code",
   "execution_count": 104,
   "id": "390569ea-b05d-4a44-b8df-4aef1cf86d00",
   "metadata": {},
   "outputs": [
    {
     "data": {
      "text/plain": [
       "True"
      ]
     },
     "execution_count": 104,
     "metadata": {},
     "output_type": "execute_result"
    }
   ],
   "source": [
    "my_tuple = (2, 3.7, 4+5j, 'dog', [0,'Hi!'])\n",
    "\n",
    "'cat' not in my_tuple"
   ]
  },
  {
   "cell_type": "markdown",
   "id": "f7dfa20c-0365-4c9d-97b2-29c358f00609",
   "metadata": {},
   "source": [
    "That's it for now, we'll use more membership operators later..."
   ]
  },
  {
   "cell_type": "markdown",
   "id": "548162ec-ef93-445a-ae17-c05bbdd645fa",
   "metadata": {},
   "source": [
    "### Mutability <a name=\"Mutability\"></a>"
   ]
  },
  {
   "cell_type": "markdown",
   "id": "5433f2d3-1e4e-4cde-9490-51107b56d9ea",
   "metadata": {},
   "source": [
    "So far it seems `list` and `tuple` are very similar. So why would there be two different types if they behave exactly the same? Well, as you might guess, they do not. The important different between `list` and `tuple` are their mutability. \n",
    "\n",
    "Lists are **mutable** objects: you can change their values without creating a new list:"
   ]
  },
  {
   "cell_type": "code",
   "execution_count": 105,
   "id": "2b985ee7-5c0b-4bbf-8087-77196bf52505",
   "metadata": {},
   "outputs": [
    {
     "data": {
      "text/plain": [
       "[0, 1, 2, 'two', 4, 5]"
      ]
     },
     "execution_count": 105,
     "metadata": {},
     "output_type": "execute_result"
    }
   ],
   "source": [
    "mutable_list = [0, 1, 2, 3, 4, 5]\n",
    "mutable_list[3] = 'two'\n",
    "\n",
    "mutable_list"
   ]
  },
  {
   "cell_type": "markdown",
   "id": "47171f8b-9524-479d-8e9a-373057ae9fd3",
   "metadata": {},
   "source": [
    "`list` is the only data type we have encountered so far that is mutable. In other words, `int`, `float`, `complex`, `str`, and `bool` are **immutable**. Immutable means that once the variables are created, their values cannot be changed. If we do change the value the variable gets a new place in memory. `tuple` is also an immutable object. Let's try the same operation we performed above on our list and wee what happens: "
   ]
  },
  {
   "cell_type": "code",
   "execution_count": 106,
   "id": "0ad01a9a-0a74-4420-807d-241d2ca7b0bf",
   "metadata": {},
   "outputs": [
    {
     "ename": "TypeError",
     "evalue": "'tuple' object does not support item assignment",
     "output_type": "error",
     "traceback": [
      "\u001b[1;31m---------------------------------------------------------------------------\u001b[0m",
      "\u001b[1;31mTypeError\u001b[0m                                 Traceback (most recent call last)",
      "\u001b[1;32m<ipython-input-106-6a033eeba469>\u001b[0m in \u001b[0;36m<module>\u001b[1;34m\u001b[0m\n\u001b[0;32m      1\u001b[0m \u001b[0mimmutable_tuple\u001b[0m \u001b[1;33m=\u001b[0m \u001b[1;33m(\u001b[0m\u001b[1;36m0\u001b[0m\u001b[1;33m,\u001b[0m \u001b[1;36m1\u001b[0m\u001b[1;33m,\u001b[0m \u001b[1;36m2\u001b[0m\u001b[1;33m,\u001b[0m \u001b[1;36m3\u001b[0m\u001b[1;33m,\u001b[0m \u001b[1;36m4\u001b[0m\u001b[1;33m,\u001b[0m \u001b[1;36m5\u001b[0m\u001b[1;33m)\u001b[0m\u001b[1;33m\u001b[0m\u001b[1;33m\u001b[0m\u001b[0m\n\u001b[1;32m----> 2\u001b[1;33m \u001b[0mimmutable_tuple\u001b[0m\u001b[1;33m[\u001b[0m\u001b[1;36m3\u001b[0m\u001b[1;33m]\u001b[0m \u001b[1;33m=\u001b[0m \u001b[1;34m'two'\u001b[0m\u001b[1;33m\u001b[0m\u001b[1;33m\u001b[0m\u001b[0m\n\u001b[0m\u001b[0;32m      3\u001b[0m \u001b[1;33m\u001b[0m\u001b[0m\n\u001b[0;32m      4\u001b[0m \u001b[0mimmutable_tuple\u001b[0m\u001b[1;33m\u001b[0m\u001b[1;33m\u001b[0m\u001b[0m\n",
      "\u001b[1;31mTypeError\u001b[0m: 'tuple' object does not support item assignment"
     ]
    }
   ],
   "source": [
    "immutable_tuple = (0, 1, 2, 3, 4, 5)\n",
    "immutable_tuple[3] = 'two'\n",
    "\n",
    "immutable_tuple"
   ]
  },
  {
   "cell_type": "markdown",
   "id": "80a36911-52b9-4d6c-bc80-fe789e25e49d",
   "metadata": {},
   "source": [
    "We get an error message and rightfully so: since `tuple` is immutable, it does not support item assignment."
   ]
  },
  {
   "cell_type": "markdown",
   "id": "ac2c59cb-b270-448d-b38e-84f9561d72e5",
   "metadata": {},
   "source": [
    "We can use the `id()` function to understand a bit more the mutability property. This function tells us where in memory the variable is stored. Let's try:"
   ]
  },
  {
   "cell_type": "code",
   "execution_count": 107,
   "id": "6376717d-fddd-4cd6-a98e-6169d7d17230",
   "metadata": {},
   "outputs": [
    {
     "name": "stdout",
     "output_type": "stream",
     "text": [
      "2333706441840\n",
      "2333706441872\n"
     ]
    }
   ],
   "source": [
    "immutable_int = 89\n",
    "print(id(immutable_int))\n",
    "\n",
    "immutable_int = 90\n",
    "print(id(immutable_int))"
   ]
  },
  {
   "cell_type": "markdown",
   "id": "be9c340f-4170-46a5-978c-d8fa3976b4d4",
   "metadata": {},
   "source": [
    "See, when we change the value of `immutable_int`, we didn't actually change its value; we made a new variable! Lists behave differently:"
   ]
  },
  {
   "cell_type": "code",
   "execution_count": 108,
   "id": "599fc337-2754-4484-b8f4-c1b3a887cb25",
   "metadata": {},
   "outputs": [
    {
     "name": "stdout",
     "output_type": "stream",
     "text": [
      "2333780786688\n",
      "2333780786688\n"
     ]
    }
   ],
   "source": [
    "mutable_list = [0, 1, 2, 3, 4, 5]\n",
    "print(id(mutable_list))\n",
    "\n",
    "mutable_list[1] = 'one'\n",
    "print(id(mutable_list))"
   ]
  },
  {
   "cell_type": "markdown",
   "id": "7871f1a2-a12c-4673-beb8-ee276e9628c8",
   "metadata": {},
   "source": [
    "It is still the same list even though we changed the value of the second element."
   ]
  },
  {
   "cell_type": "markdown",
   "id": "1dd5a936-74ec-4e3e-b94f-c46fb4496774",
   "metadata": {},
   "source": [
    "At this point you may wonder: why do we care? Well, suppose that we have a list, which we wish to keep, and that we want to make a copy of this list with one element that differs. What happens then?"
   ]
  },
  {
   "cell_type": "code",
   "execution_count": 109,
   "id": "1dace7d1-ce39-42b9-803b-2567654a35b5",
   "metadata": {},
   "outputs": [
    {
     "name": "stdout",
     "output_type": "stream",
     "text": [
      "['zero', 1, 2, 3, 4, 5] ['zero', 1, 2, 3, 4, 5]\n"
     ]
    }
   ],
   "source": [
    "mutable_list = [0, 1, 2, 3, 4, 5]\n",
    "mutable_list_2 = mutable_list     # copy of my_list?\n",
    "mutable_list_2[0] = 'zero'\n",
    "\n",
    "print(mutable_list, mutable_list_2)"
   ]
  },
  {
   "cell_type": "markdown",
   "id": "856b090d-e6ae-42c2-af06-7743293f2c79",
   "metadata": {},
   "source": [
    "Disaster! We lost `mutable_list`!\n",
    "\n",
    "What happened? Well, assigning a list to a variable does not copy the list in a new object, it just creates a new reference to the same object. Thus, when we modified the first element of `mutable_list_2`, we also modified `mutable_list`! This behavior can lead to nasty bugs that will bite you!\n",
    "\n",
    "Is there a way to solve this issue? Of course there is: we can use slicing! If both the slice's starting and ending indices of a list are left out, the slice is a copy of the entire list in a new hunk of memory."
   ]
  },
  {
   "cell_type": "code",
   "execution_count": 110,
   "id": "cc34483c-fcbc-4a47-8a64-211d4d35652c",
   "metadata": {},
   "outputs": [
    {
     "name": "stdout",
     "output_type": "stream",
     "text": [
      "[0, 1, 2, 3, 4, 5] ['zero', 1, 2, 3, 4, 5]\n"
     ]
    }
   ],
   "source": [
    "mutable_list = [0, 1, 2, 3, 4, 5]\n",
    "mutable_list_2 = mutable_list[:]\n",
    "mutable_list_2[0] = 'zero'\n",
    "\n",
    "print(mutable_list, mutable_list_2)"
   ]
  },
  {
   "cell_type": "markdown",
   "id": "b8d6da63-1c0f-497f-9407-311b6766ec08",
   "metadata": {},
   "source": [
    "What a relief!\n",
    "\n",
    "We have seen that tuples and lists are very similar, differing essentially only in mutability (actually the differences are more profound, see for instance a discussion here: [aforementioned blog post](http://www.asmeurer.com/blog/posts/tuples/)).  \n",
    "\n",
    "So you may ask: \"When should I use a tuple and when should I use a list?\". Here is the advice of [Justin Bois](http://bois.caltech.edu/), whose [course](http://justinbois.github.io/bootcamp/2022_epfl/) heavily influenced this notebook:\n",
    "\n",
    "\"<span style=\"color: dodgerblue; font-weight: bold;\">\n",
    "Always use tuples instead of lists unless you need mutability.\n",
    "</span>\n",
    "This keeps you out of trouble. It is very easy to inadvertently change one list, and then another list (that is actually the same, but with a different variable name) gets mangled. That said, mutability is often very useful, so you can use it to make your list and adjust it as you need. However, after you have finalized your list, you should convert it to a tuple so it cannot get mangled.\""
   ]
  },
  {
   "cell_type": "markdown",
   "id": "82e2a23f-2407-467c-891f-1899837705c0",
   "metadata": {},
   "source": [
    "### Methods for lists and tuples <a name=\"methods\"></a>"
   ]
  },
  {
   "cell_type": "markdown",
   "id": "b628830b-f984-4fb3-a3fb-786e0276a2b6",
   "metadata": {},
   "source": [
    "We have previously performed operations on `list`. Using slicing, we have extracted elements of lists, we copied a list with `[:]`, and we even reversed a list with `[::-1]`.\n",
    "\n",
    "What if we wish to add an element at the end of a list? Or better, insert or remove an element at a given position. In this case, we can use built-in functions. \n",
    "\n",
    "We already mentioned that lists are objects. Objects contain: 1) data; 2) functions that can operate on the data. The functions inside an object are called methods. Here are the built-in methods you can use on lists:\n",
    "\n",
    "|Method|Description|\n",
    "|:-------|:----------|\n",
    "|`append()` | Adds an element at the end of the list|\n",
    "|`clear()` | Removes all the elements from the list|\n",
    "|`copy()` | Returns a copy of the list|\n",
    "|`count()` | Returns the number of elements with the specified value|\n",
    "|`extend()` | Add the elements of a list (or any iterable), to the end of the current list|\n",
    "|`index()` | Returns the index of the first element with the specified value|\n",
    "|`insert()` | Adds an element at the specified position|\n",
    "|`pop()` | Removes the element at the specified position|\n",
    "|`remove()` | Removes the item with the specified value|\n",
    "|`reverse()` | Reverses the order of the list|\n",
    "|`sort()` | Sorts the list|\n",
    "\n",
    "\n",
    "Another useful function (that is not a method), is the `len()` function. It returns the total number of items in a list. Let's try it!\n"
   ]
  },
  {
   "cell_type": "code",
   "execution_count": 111,
   "id": "9114adf6-ec56-49ee-9941-f4b24d3a174c",
   "metadata": {},
   "outputs": [
    {
     "data": {
      "text/plain": [
       "7"
      ]
     },
     "execution_count": 111,
     "metadata": {},
     "output_type": "execute_result"
    }
   ],
   "source": [
    "my_list = [1,2,3,4,5,6,7]\n",
    "len(my_list)"
   ]
  },
  {
   "cell_type": "markdown",
   "id": "d87c1a9e-b9b7-4811-b3b9-ea9628edd235",
   "metadata": {},
   "source": [
    "We have indeed seven elements in our list. Now let's count how many times does the value `3` appear in our list:"
   ]
  },
  {
   "cell_type": "code",
   "execution_count": 112,
   "id": "c2f12922-d08d-4762-889a-3cc60d86a739",
   "metadata": {},
   "outputs": [
    {
     "data": {
      "text/plain": [
       "1"
      ]
     },
     "execution_count": 112,
     "metadata": {},
     "output_type": "execute_result"
    }
   ],
   "source": [
    "my_list.count(3)"
   ]
  },
  {
   "cell_type": "markdown",
   "id": "c8eb3f6d-ce88-43ec-a859-03fdcbc9fe53",
   "metadata": {},
   "source": [
    "As expected, we count one occurrence of the value `3`. But let's pause a minute. Did you notice the syntax? We first specify our list, then `.`, and finally the `count()` function. This is the structure for method. Now let's extract the index of the first element whose value is `3`. Recall that indexing starts at `0`."
   ]
  },
  {
   "cell_type": "code",
   "execution_count": 113,
   "id": "332b6ce4-dd67-4062-9ee6-72cece2fc49d",
   "metadata": {},
   "outputs": [
    {
     "data": {
      "text/plain": [
       "2"
      ]
     },
     "execution_count": 113,
     "metadata": {},
     "output_type": "execute_result"
    }
   ],
   "source": [
    "my_list.index(3)"
   ]
  },
  {
   "cell_type": "markdown",
   "id": "84483e1b-3495-4d6a-aee8-305a90642cc4",
   "metadata": {},
   "source": [
    "Let's keep going by adding elements and list of elements to our list."
   ]
  },
  {
   "cell_type": "code",
   "execution_count": 114,
   "id": "fc4ee967-ccd4-4401-969b-d1e7a734ff0a",
   "metadata": {
    "tags": []
   },
   "outputs": [
    {
     "data": {
      "text/plain": [
       "[1, 2, 3, 4, 5, 6, 7, 8]"
      ]
     },
     "execution_count": 114,
     "metadata": {},
     "output_type": "execute_result"
    }
   ],
   "source": [
    "my_list.append(8)\n",
    "\n",
    "my_list"
   ]
  },
  {
   "cell_type": "code",
   "execution_count": 115,
   "id": "62c8ce6d-fefc-4c81-a707-0d4c38f1146f",
   "metadata": {},
   "outputs": [
    {
     "data": {
      "text/plain": [
       "[1, 2, 3, 4, 5, 6, 7, 8, 9, 10]"
      ]
     },
     "execution_count": 115,
     "metadata": {},
     "output_type": "execute_result"
    }
   ],
   "source": [
    "my_list_2 = [9,10]\n",
    "my_list.extend(my_list_2)\n",
    "\n",
    "my_list"
   ]
  },
  {
   "cell_type": "markdown",
   "id": "b568d4e6-19df-4834-af58-c985365584fb",
   "metadata": {},
   "source": [
    "Now, let's do a bit of magic: we will make the element `4` disappear!"
   ]
  },
  {
   "cell_type": "code",
   "execution_count": 116,
   "id": "b3a2cea7-27a1-4448-abd9-27ac463653b7",
   "metadata": {},
   "outputs": [
    {
     "data": {
      "text/plain": [
       "[1, 2, 3, 5, 6, 7, 8, 9, 10]"
      ]
     },
     "execution_count": 116,
     "metadata": {},
     "output_type": "execute_result"
    }
   ],
   "source": [
    "my_list.remove(4)\n",
    "my_list"
   ]
  },
  {
   "cell_type": "markdown",
   "id": "d5ee7302-f4aa-4efe-8cb0-2f89ec74e4fb",
   "metadata": {},
   "source": [
    "Woow! Let's make it appear again. Again, be careful, indexing starts at `0`:"
   ]
  },
  {
   "cell_type": "code",
   "execution_count": 117,
   "id": "470ef82a-1df8-4cad-a873-b178a2f60e60",
   "metadata": {},
   "outputs": [
    {
     "data": {
      "text/plain": [
       "[1, 2, 3, 4, 5, 6, 7, 8, 9, 10]"
      ]
     },
     "execution_count": 117,
     "metadata": {},
     "output_type": "execute_result"
    }
   ],
   "source": [
    "my_list.insert(3,4) #insert the value 4 at the index 3 in our list\n",
    "my_list"
   ]
  },
  {
   "cell_type": "markdown",
   "id": "f5e5c1a4-2b50-491d-a33e-d4e7bf7d4374",
   "metadata": {},
   "source": [
    "Ta-da! Instead of making a value disappear, we can also remove an element at a given position:"
   ]
  },
  {
   "cell_type": "code",
   "execution_count": 118,
   "id": "bac85fd0-d2e6-4917-a976-ee56c1bb1394",
   "metadata": {},
   "outputs": [
    {
     "data": {
      "text/plain": [
       "[1, 2, 3, 4, 5, 6, 7, 8, 10]"
      ]
     },
     "execution_count": 118,
     "metadata": {},
     "output_type": "execute_result"
    }
   ],
   "source": [
    "my_list.pop(8)\n",
    "my_list"
   ]
  },
  {
   "cell_type": "markdown",
   "id": "7846fc87-ffb7-413b-8477-587bf9ce64d8",
   "metadata": {},
   "source": [
    "Let's insert the ninth element again:"
   ]
  },
  {
   "cell_type": "code",
   "execution_count": 119,
   "id": "9ecc8d9a-f50a-49c8-a7b9-af5b11f1eb8f",
   "metadata": {},
   "outputs": [
    {
     "data": {
      "text/plain": [
       "[1, 2, 3, 4, 5, 6, 7, 8, 9, 10]"
      ]
     },
     "execution_count": 119,
     "metadata": {},
     "output_type": "execute_result"
    }
   ],
   "source": [
    "my_list.insert(8,9) #insert the value 8 at the index 9 in our list\n",
    "my_list"
   ]
  },
  {
   "cell_type": "markdown",
   "id": "f0c496a9-3d95-4518-8299-4a9687c618e5",
   "metadata": {},
   "source": [
    "Ok, all good! Now we can reverse sort our list:"
   ]
  },
  {
   "cell_type": "code",
   "execution_count": 120,
   "id": "5e45c66d-ebb3-4c30-b0df-8ecbfea98833",
   "metadata": {},
   "outputs": [
    {
     "data": {
      "text/plain": [
       "[10, 9, 8, 7, 6, 5, 4, 3, 2, 1]"
      ]
     },
     "execution_count": 120,
     "metadata": {},
     "output_type": "execute_result"
    }
   ],
   "source": [
    "my_list.reverse()\n",
    "my_list"
   ]
  },
  {
   "cell_type": "markdown",
   "id": "05f2b7d4-56a2-4435-a051-4d67bb6ae8a8",
   "metadata": {},
   "source": [
    "And sort it again:"
   ]
  },
  {
   "cell_type": "code",
   "execution_count": 121,
   "id": "8aefd961-58ae-4f14-a407-c062318ce5ca",
   "metadata": {},
   "outputs": [
    {
     "data": {
      "text/plain": [
       "[1, 2, 3, 4, 5, 6, 7, 8, 9, 10]"
      ]
     },
     "execution_count": 121,
     "metadata": {},
     "output_type": "execute_result"
    }
   ],
   "source": [
    "my_list.sort() #Alternatively, we could reverse it again!\n",
    "my_list"
   ]
  },
  {
   "cell_type": "markdown",
   "id": "b63596c9-8d1e-4184-8613-694fbdb9bd86",
   "metadata": {},
   "source": [
    "Finally, let's remove all the elements of our list:"
   ]
  },
  {
   "cell_type": "code",
   "execution_count": 122,
   "id": "24c5e469-886c-4e7e-9f1b-59569d52402b",
   "metadata": {},
   "outputs": [
    {
     "data": {
      "text/plain": [
       "[]"
      ]
     },
     "execution_count": 122,
     "metadata": {},
     "output_type": "execute_result"
    }
   ],
   "source": [
    "my_list.clear()\n",
    "my_list"
   ]
  },
  {
   "cell_type": "markdown",
   "id": "17c7d88f-d840-4760-bcd4-34f9471501ea",
   "metadata": {},
   "source": [
    "`clear` creates an empty list. In other words, our list was not totally erased from existence, only its values were deleted."
   ]
  },
  {
   "cell_type": "markdown",
   "id": "c7da469d-59e2-4973-98cf-a1290defa0fa",
   "metadata": {},
   "source": [
    "We have performed some neat operations on lists. What about tuples? The `count()`, `index()`, and `len()` works the same with `tuple`. What about the others? Well, unfortunately they do not. Indeed we have seen before that we cannot modify a tuple or a given element of a tuple, because - let's repeat it, tuples are immutable. So what can you do when you actually want to update your tuple? Do you have to create a new one? No, there is a way! Remember that you can convert a tuple into a list using the function `list()` and then convert back your list into a tuple using the function `tuple()`:"
   ]
  },
  {
   "cell_type": "code",
   "execution_count": 123,
   "id": "9e1fd68f-aa95-4bf5-bbd1-9403c8881373",
   "metadata": {},
   "outputs": [
    {
     "data": {
      "text/plain": [
       "(0, 'one', 2, 3)"
      ]
     },
     "execution_count": 123,
     "metadata": {},
     "output_type": "execute_result"
    }
   ],
   "source": [
    "my_tuple = (0,1,2,3)\n",
    "my_list = list(my_tuple)\n",
    "my_list[1]='one'\n",
    "my_tuple = tuple(my_list)\n",
    "\n",
    "my_tuple"
   ]
  },
  {
   "cell_type": "markdown",
   "id": "41e8f7e3-1e5a-4e3d-991b-c9e8406b5dee",
   "metadata": {},
   "source": [
    "By doing the conversion to a `list`, you can use all the methods that are working on lists, and then convert back to a `tuple`!"
   ]
  },
  {
   "cell_type": "markdown",
   "id": "9fcf1042-cac3-4e47-afa6-943726452cf5",
   "metadata": {},
   "source": [
    "In addition, we can do other cool things with tuples. One is called **unpacking**, and consists in a multiple assignment statement. Let's see an example:"
   ]
  },
  {
   "cell_type": "code",
   "execution_count": 124,
   "id": "defe4963-58ca-4120-a6da-8d9adfdbe598",
   "metadata": {},
   "outputs": [
    {
     "name": "stdout",
     "output_type": "stream",
     "text": [
      "1 2 3\n"
     ]
    }
   ],
   "source": [
    "unpacking_tuple = (1, 2, 3)\n",
    "a, b, c = unpacking_tuple  \n",
    "\n",
    "print(a, b, c)"
   ]
  },
  {
   "cell_type": "markdown",
   "id": "7f65bd49-4b63-4097-8315-bbb736c21e12",
   "metadata": {},
   "source": [
    "This is useful when we want to return more than one value from a function and further using the values as stored in different variables. "
   ]
  },
  {
   "cell_type": "markdown",
   "id": "1b80b739-a2ee-4ca6-b0d2-a5ee1bb55cc8",
   "metadata": {},
   "source": [
    "## Iteration <a name=\"Iteration\"></a>"
   ]
  },
  {
   "cell_type": "markdown",
   "id": "7e8b36c3-92c7-4c53-bfe9-afb66a8b5175",
   "metadata": {},
   "source": [
    "### For loop <a name=\"for-loop\"></a>"
   ]
  },
  {
   "cell_type": "markdown",
   "id": "10888f49-4994-48c4-b920-3fea3a1dc537",
   "metadata": {},
   "source": [
    "A `for` loop is used for iterating over a sequence, such as a list or a tuple.\n",
    "\n",
    "Let's start with a simple example. We will print all the elements of a list:"
   ]
  },
  {
   "cell_type": "code",
   "execution_count": 125,
   "id": "83ab0af2-b585-4e3b-bf82-50ff3be2373c",
   "metadata": {},
   "outputs": [
    {
     "name": "stdout",
     "output_type": "stream",
     "text": [
      "Jura\n",
      "Neuchâtel\n",
      "Vaud\n",
      "Genève\n",
      "Berne\n",
      "Fribourg\n",
      "Valais\n"
     ]
    }
   ],
   "source": [
    "canton_romand = ['Jura', 'Neuchâtel', 'Vaud', 'Genève', 'Berne', 'Fribourg', 'Valais']\n",
    "\n",
    "for c in canton_romand:\n",
    "    print(c)"
   ]
  },
  {
   "cell_type": "markdown",
   "id": "743c2067-6efd-49b0-94d0-850276f7b3a4",
   "metadata": {},
   "source": [
    "We printed a list of the Romandy cantons. \n",
    "\n",
    "Let's review what we did. For every item in our list `canton_romand`, we printed this item (canton). More generally, a `for` loop will do something for every item `in` a sequence. \n",
    "\n",
    "Note that a `str` is also sequence: just like a list or tuple, a string is an ordered collection of characters. Thus, we can use a `for` loop on a string:"
   ]
  },
  {
   "cell_type": "code",
   "execution_count": 126,
   "id": "f2ca03eb-e3f4-40b2-899e-c351caa49a89",
   "metadata": {},
   "outputs": [
    {
     "name": "stdout",
     "output_type": "stream",
     "text": [
      "c\n",
      "i\n",
      "r\n",
      "c\n",
      "u\n",
      "l\n",
      "a\n",
      "r\n",
      " \n",
      "e\n",
      "c\n",
      "o\n",
      "n\n",
      "o\n",
      "m\n",
      "y\n"
     ]
    }
   ],
   "source": [
    "for c in 'circular economy':\n",
    "    print(c)"
   ]
  },
  {
   "cell_type": "markdown",
   "id": "a3040f64-64f8-42d9-841b-1d9d9cf92073",
   "metadata": {},
   "source": [
    "Let's go back to our illustration on cooperation in social dilemma. Remember the condition for cooperation that we previously discovered: individuals cooperate if their social benefit weighted by their degree of morality is greater or equal than their individual cost weighted by their degree of selfishness. Suppose we have several individuals with various degrees of morality stored in a list. For each of them, we wish to know if they cooperate or not. Let's try!"
   ]
  },
  {
   "cell_type": "code",
   "execution_count": 127,
   "id": "e11f8694-bb30-4800-8924-9767d8820b3a",
   "metadata": {},
   "outputs": [
    {
     "name": "stdout",
     "output_type": "stream",
     "text": [
      "Individual 1 does not cooperate.\n",
      "Individual 2 does not cooperate.\n",
      "Individual 3 cooperates.\n",
      "Individual 4 cooperates.\n",
      "Individual 5 cooperates.\n",
      "Individual 6 cooperates.\n"
     ]
    }
   ],
   "source": [
    "cost = 1            # individual cost \n",
    "benefit = 3         # social benefit\n",
    "\n",
    "kappa_list = [0, 0.2, 0.3, 0.5, 0.7, 1]     # list of degrees of morality\n",
    "\n",
    "for i in range(len(kappa_list)):\n",
    "    if benefit*kappa_list[i] >= cost*(1-kappa_list[i]):\n",
    "        print('Individual '+str(i+1)+' cooperates.')\n",
    "    else:\n",
    "        print('Individual '+str(i+1)+' does not cooperate.')"
   ]
  },
  {
   "cell_type": "markdown",
   "id": "e8111ecc-6f95-4f17-95be-dc39c5e772d5",
   "metadata": {},
   "source": [
    "Wow, we start to do really cool stuffs! Ok, what actually happened? \n",
    "\n",
    "First, we used `len(kappa_list)` to know the length of our list `kappa_list` :"
   ]
  },
  {
   "cell_type": "code",
   "execution_count": 128,
   "id": "2ea9a8d7-e6d1-4a6c-bcfd-9845f6a91a24",
   "metadata": {},
   "outputs": [
    {
     "data": {
      "text/plain": [
       "6"
      ]
     },
     "execution_count": 128,
     "metadata": {},
     "output_type": "execute_result"
    }
   ],
   "source": [
    "len(kappa_list)"
   ]
  },
  {
   "cell_type": "markdown",
   "id": "8ba6a33f-462e-4e52-b491-5031495fe127",
   "metadata": {},
   "source": [
    "Then, we created a **range** with the `range()` function. This function gives an iterable that enables counting: "
   ]
  },
  {
   "cell_type": "code",
   "execution_count": 129,
   "id": "2db4728a-dd58-4934-961b-20566030842f",
   "metadata": {},
   "outputs": [
    {
     "name": "stdout",
     "output_type": "stream",
     "text": [
      "0  1  2  3  4  5  "
     ]
    }
   ],
   "source": [
    "for i in range(6):\n",
    "    print(i, end='  ')"
   ]
  },
  {
   "cell_type": "markdown",
   "id": "7304313b-fc6f-4c6b-afe0-6eaf107cfb02",
   "metadata": {},
   "source": [
    "We see that `range(6)` gives us six numbers, from `0` to `5`. As with indexing, `range()` inclusively starts at zero by default, and the ending is exclusive. It turns out that the arguments of the `range()` function work much like indexing. If you have a single argument, you get that many integers, starting at 0 and incrementing by one. If you give two arguments, you start inclusively at the first and increment by one ending exclusively at the second argument. Finally, you can specify a stride with the third argument.\n",
    "\n",
    "Going back to our loop. We iterated over our range, and we mixed a `for` loop with a `if` statement. For every element of our range (`0`, `1`, `2`, `3`, `4`, `5`), we assessed whether the condition `benefit*kappa_list[i] >= cost*(1-kappa_list[i])` was `True`. As we have seen before, `kappa_list[i]` extracts the element of the list `kappa_list` located at index `i`. Because we combined `range` and `len`, we iterate over all the elements of the lists, checking our condition for each degree of morality.\n",
    "\n",
    "Finally, when the condition is `True`, we `print()` the string `'Individual '+str(i+1)+' cooperates.'`. This string joins three strings: `'Individual '`, `str(i+1)` where we converted our `int` variable `i+1` into a string using the `str()` function, and `' cooperates.'`. Similarly, when the condition is `False`, we printed `'Individual '+str(i+1)+' does not cooperate.'`.\n",
    "\n",
    "Neat!\n",
    "\n",
    "Well, technically, there was an even better way to obtain the same result, using the `enumerate()` function. This function gives an iterator that provides both the index and the item of a sequence. Again, this is best demonstrated in practice:"
   ]
  },
  {
   "cell_type": "code",
   "execution_count": 130,
   "id": "cdf9f065-667f-439e-a644-6bb9cd154261",
   "metadata": {},
   "outputs": [
    {
     "name": "stdout",
     "output_type": "stream",
     "text": [
      "Individual 1 does not cooperate.\n",
      "Individual 2 does not cooperate.\n",
      "Individual 3 cooperates.\n",
      "Individual 4 cooperates.\n",
      "Individual 5 cooperates.\n",
      "Individual 6 cooperates.\n"
     ]
    }
   ],
   "source": [
    "cost = 1            # individual cost \n",
    "benefit = 3         # social benefit\n",
    "\n",
    "kappa_list = [0, 0.2, 0.3, 0.5, 0.7, 1]     # list of degrees of morality\n",
    "\n",
    "for i, kappa in enumerate(kappa_list):\n",
    "    if benefit*kappa >= cost*(1-kappa):\n",
    "        print('Individual '+str(i+1)+' cooperates.')\n",
    "    else:\n",
    "        print('Individual '+str(i+1)+' does not cooperate.')"
   ]
  },
  {
   "cell_type": "markdown",
   "id": "afb6eb06-f98e-41f7-b925-8d61775617a7",
   "metadata": {},
   "source": [
    "The `enumerate()` function allowed us to use an index and a degree of morality `kappa` at the same time. Let's visualize this by printing the index and degree of morality for each individual:"
   ]
  },
  {
   "cell_type": "code",
   "execution_count": 131,
   "id": "0e349752-0b95-41d3-937a-e0d3aab0b930",
   "metadata": {},
   "outputs": [
    {
     "name": "stdout",
     "output_type": "stream",
     "text": [
      "0 0\n",
      "1 0.2\n",
      "2 0.3\n",
      "3 0.5\n",
      "4 0.7\n",
      "5 1\n"
     ]
    }
   ],
   "source": [
    "for i, kappa in enumerate(kappa_list):\n",
    "    print(i, kappa)"
   ]
  },
  {
   "cell_type": "markdown",
   "id": "5b805ecb-66df-48b9-a3b0-eaa7067bd616",
   "metadata": {},
   "source": [
    "The `enumerate()` function is really useful and should be used in favor of just doing indexing. It is indeed more generic: the `range(len())` construct will break on an object without support for `len()`. \n",
    "\n",
    "Note that you can use the underscore, `_`, as a throwaway variable when you do not use it. There is no rule for this, but this is generally accepted Python syntax and helps signal that you are not going to use the variable."
   ]
  },
  {
   "cell_type": "markdown",
   "id": "4ab738d4-1087-4150-8aa0-6ae909513108",
   "metadata": {},
   "source": [
    "Here are a two other useful iterators functions. First, the `zip()` function enables us to iterate over several iterables at once. In the example below we iterate over the jersey numbers and names of ice hockey players playing for the Detroit Red Wings (What do you mean you do not know them??)"
   ]
  },
  {
   "cell_type": "code",
   "execution_count": 132,
   "id": "f23e2452-dd50-4636-bf56-90a0014baab6",
   "metadata": {},
   "outputs": [
    {
     "name": "stdout",
     "output_type": "stream",
     "text": [
      "23 Raymond\n",
      "53 Seider\n",
      "71 Larkin\n"
     ]
    }
   ],
   "source": [
    "names = ('Raymond', 'Seider', 'Larkin')\n",
    "numbers = (23, 53, 71)\n",
    "\n",
    "for num, name in zip(numbers, names):\n",
    "    print(num, name)"
   ]
  },
  {
   "cell_type": "markdown",
   "id": "7870789c-be48-4aa1-a581-0cadf34830e8",
   "metadata": {},
   "source": [
    "Second, the `reversed()` function  is useful for giving an iterator that goes in the reverse direction. Imagine we are the NASA counting down:"
   ]
  },
  {
   "cell_type": "code",
   "execution_count": 133,
   "id": "a43a3d40-10fe-4cb9-90b2-b8d95556b967",
   "metadata": {},
   "outputs": [
    {
     "name": "stdout",
     "output_type": "stream",
     "text": [
      "10\n",
      "9\n",
      "8\n",
      "7\n",
      "6\n",
      "5\n",
      "4\n",
      "3\n",
      "2\n",
      "1\n",
      "ignition\n"
     ]
    }
   ],
   "source": [
    "count_up = ('ignition', 1, 2, 3, 4, 5, 6, 7, 8 ,9, 10)\n",
    "\n",
    "for count in reversed(count_up):\n",
    "    print(count)"
   ]
  },
  {
   "cell_type": "markdown",
   "id": "20e21b49-b8a3-4426-a9ca-9b811dc95d2f",
   "metadata": {},
   "source": [
    "### While loop <a name=\"while-loop\"></a>"
   ]
  },
  {
   "cell_type": "markdown",
   "id": "7b450ba8-c161-42cc-8be4-9c1ad7eff5c4",
   "metadata": {},
   "source": [
    "A `while` loop allows iteration until a conditional expression evaluates `False`. \n",
    "\n",
    "Let's go back to our example on cooperation in a social dilemma. Suppose we would like to find the threshold degree of morality allowing cooperation. We can use a `while` loop:"
   ]
  },
  {
   "cell_type": "code",
   "execution_count": 134,
   "id": "c65a4a9a-7cef-49a5-9a68-890e81218a11",
   "metadata": {},
   "outputs": [
    {
     "name": "stdout",
     "output_type": "stream",
     "text": [
      "0.25000000000000006\n"
     ]
    }
   ],
   "source": [
    "cost = 1            # individual cost \n",
    "benefit = 3         # social benefit\n",
    "\n",
    "# Initialize sequence index\n",
    "k = 0               # degree of morality\n",
    "\n",
    "# condition for not cooperating: \n",
    "# social benefit times k is stricly lower than individual cost times (1-k)\n",
    "while benefit*k < cost*(1-k):\n",
    "    k+=0.01\n",
    "\n",
    "print(k)"
   ]
  },
  {
   "cell_type": "markdown",
   "id": "489f08b5-980c-4364-b9a6-f333d217074f",
   "metadata": {},
   "source": [
    "Thus, in this illustration, all individuals with a degree of morality greater than 0.25 will cooperate. \n",
    "\n",
    "Let's take a minute to understand what is happening in a `while` loop. The value of `k` is changing with each iteration, being incremented by `0.01`. Each time we consider doing another iteration, the condition is checked: is the social benefit weighted by the degree of morality strictly lower than the individual cost weighted by the degree of selfishness? If yes, i.e., the condition is evaluated to `True`, then the iteration continues. In other words, iteration continues in a `while` loop until the condition returns `False`.\n",
    "\n",
    "<img src='https://www.freecodecamp.org/news/content/images/size/w1000/2020/11/image-24.png' width=\"600\">\n",
    "\n",
    "Image : Estefania Cassingena Navone - [Python While Loop Tutorial](https://www.freecodecamp.org/news/python-while-loop-tutorial/)\n",
    "\n",
    "We have to be extra cautious when using `while` loop. If the condition is always `True`, then the condition can never returns `False`. We are thus stuck in an **infinite loop** and the code runs forever! If this happen, you can interrupt the kernel to stop the endless calculation. \n",
    "\n",
    "Better, do not be stuck in infinite loop! For example, you can first check the condition with a few values before writing the while loop to make sure it can returns `False`. Also check that your incrementation is working as expected outside of the loop. You can add a second condition, one that will for sure returns `False` after a given number of iterations. For instance:\n",
    "\n",
    "```python\n",
    "cost = 1            # individual cost \n",
    "benefit = 3         # social benefit\n",
    "\n",
    "# Initialize sequence index\n",
    "k = 0               # degree of morality\n",
    "i = 0               # iteration\n",
    "max_it = 1000       # maximum number of iteration\n",
    "\n",
    "# condition for cooperation: \n",
    "# social benefit times k is greater than individual cost times (1-k)\n",
    "while benefit*k < cost*(1-k) and i < max_it:\n",
    "    k+=0.01\n",
    "    i+=1\n",
    "```\n",
    "\n",
    "In the above code, `i` keeps track of the number of iteration and `max_it` defines a maximum number of iteration (1000). We added the condition `i < max_it`. This condition will for sure returns `False` if we reach 1000 iterations.\n",
    "\n",
    "Finally, another way to avoid infinite loop is to use the `break` statement that we will discover below.\n",
    "\n",
    "Now you may wonder, when to use `for` loop and when to use `while` loop? In most cases, you could use one or the other. Here is a general rule:\n",
    "- If you know how many times you have to do something (or if your program knows), use a `for` loop. \n",
    "- If you don't know how many times the loop needs to run until you run it, use a `while` loop. "
   ]
  },
  {
   "cell_type": "markdown",
   "id": "9458c02c-f302-40e5-b6eb-66c7f2772c19",
   "metadata": {},
   "source": [
    "### Break, continue, else <a name=\"break-continue-else\"></a>"
   ]
  },
  {
   "cell_type": "markdown",
   "id": "43e4b712-69f2-43f7-8b7c-21c71b2b4d93",
   "metadata": {},
   "source": [
    "The `break` statement can stop a `for` or `while` loop before it has looped through all the items. \n",
    "\n",
    "For example, going back to our example on Romandy cantons, imagine we wish to stop the loop once we have reached `'Vaud'`:"
   ]
  },
  {
   "cell_type": "code",
   "execution_count": 135,
   "id": "ce98a613-27b3-419e-bf5d-b40bc3c471c1",
   "metadata": {},
   "outputs": [
    {
     "name": "stdout",
     "output_type": "stream",
     "text": [
      "Jura\n",
      "Neuchâtel\n",
      "Vaud\n"
     ]
    }
   ],
   "source": [
    "canton_romand = ['Jura', 'Neuchâtel', 'Vaud', 'Genève', 'Berne', 'Fribourg', 'Valais']\n",
    "\n",
    "for c in canton_romand:\n",
    "    print(c)\n",
    "    if c == 'Vaud':\n",
    "        break"
   ]
  },
  {
   "cell_type": "markdown",
   "id": "cb6c0ed7-dd2a-4b32-be3c-bb6d93c1ed81",
   "metadata": {},
   "source": [
    "The `continue` statement can stop the current iteration of the loop, and continue with the next.\n",
    "\n",
    "For example, let's print all the cantons except `'Vaud'`:"
   ]
  },
  {
   "cell_type": "code",
   "execution_count": 136,
   "id": "55f8e489-9219-42d0-b9cc-5df70a48ab32",
   "metadata": {},
   "outputs": [
    {
     "name": "stdout",
     "output_type": "stream",
     "text": [
      "Jura\n",
      "Neuchâtel\n",
      "Genève\n",
      "Berne\n",
      "Fribourg\n",
      "Valais\n"
     ]
    }
   ],
   "source": [
    "canton_romand = ['Jura', 'Neuchâtel', 'Vaud', 'Genève', 'Berne', 'Fribourg', 'Valais']\n",
    "\n",
    "for c in canton_romand:\n",
    "    if c == 'Vaud':\n",
    "        continue\n",
    "    print(c)"
   ]
  },
  {
   "cell_type": "markdown",
   "id": "025a80a4-35ac-4d34-bcc7-0c7bb7987ff9",
   "metadata": {},
   "source": [
    "The `else` keyword specifies a block of code to be executed when the loop is finished."
   ]
  },
  {
   "cell_type": "code",
   "execution_count": 137,
   "id": "499b1854-c8c0-4d0d-b3de-b7612e41fbdd",
   "metadata": {},
   "outputs": [
    {
     "name": "stdout",
     "output_type": "stream",
     "text": [
      "Jura\n",
      "Neuchâtel\n",
      "Vaud\n",
      "Genève\n",
      "Berne\n",
      "Fribourg\n",
      "Valais\n",
      "In Romandy cantons, French is an official language. Unfortunately, Python is not.\n"
     ]
    }
   ],
   "source": [
    "canton_romand = ['Jura', 'Neuchâtel', 'Vaud', 'Genève', 'Berne', 'Fribourg', 'Valais']\n",
    "\n",
    "for c in canton_romand:\n",
    "    print(c)\n",
    "else:\n",
    "    print('In Romandy cantons, French is an official language. Unfortunately, Python is not.')"
   ]
  },
  {
   "cell_type": "markdown",
   "id": "b5105417-5084-4d4d-8c1f-0615a7403590",
   "metadata": {},
   "source": [
    "Note that the `else` block will NOT be executed if the loop is stopped by a `break` statement:"
   ]
  },
  {
   "cell_type": "code",
   "execution_count": 138,
   "id": "16431b9f-cbdb-4c27-bd7f-b312aaf3c2d8",
   "metadata": {},
   "outputs": [
    {
     "name": "stdout",
     "output_type": "stream",
     "text": [
      "Jura\n",
      "Neuchâtel\n",
      "Vaud\n"
     ]
    }
   ],
   "source": [
    "canton_romand = ['Jura', 'Neuchâtel', 'Vaud', 'Genève', 'Berne', 'Fribourg', 'Valais']\n",
    "\n",
    "for c in canton_romand:\n",
    "    print(c)\n",
    "    if c == 'Vaud':\n",
    "        break\n",
    "else:\n",
    "    print('In Romandy cantons, French is an official language. Unfortunately, Python is not.')"
   ]
  },
  {
   "cell_type": "markdown",
   "id": "5e77bc84-9f07-4f09-818f-d4aeef92c5e9",
   "metadata": {
    "tags": []
   },
   "source": [
    "## Function <a name=\"Function\"></a>"
   ]
  },
  {
   "cell_type": "markdown",
   "id": "92d28174-3930-43f0-8e42-84577057dba3",
   "metadata": {},
   "source": [
    "A function is a key element in writing programs. You can think of a function in a computing language in much the same way you think of a mathematical function. The function takes in arguments, performs some operation based on the identities of the arguments, and then returns a result."
   ]
  },
  {
   "cell_type": "markdown",
   "id": "7ecd6271-63b9-4960-8ad5-b316ea2d07df",
   "metadata": {},
   "source": [
    "### Defining a function <a name=\"define-function\"></a>"
   ]
  },
  {
   "cell_type": "markdown",
   "id": "20f5dddf-9222-45d1-a2e4-d019919307b5",
   "metadata": {},
   "source": [
    "As always, let's take an example. We will use the [Cobb-Douglas production function](https://en.wikipedia.org/wiki/Cobb%E2%80%93Douglas_production_function), which models the relationship between production output and production inputs (factors). It was put forward by mathematician Charles Cobb and economist Paul Douglas between 1927 and 1947 (Cobb & Douglas, 1928). They studied the relative importance of the two input factors, labor and capital, in manufacturing output in the USA over the period 1899 to 1922. Their model was the following:\n",
    "\n",
    "$Y = A L^{\\alpha} K^{1-\\alpha} $\n",
    "\n",
    "Where $Y$ is the output, $A$ is the efficiency parameter, $L$ labor, $K$ capital, and $\\alpha \\in (0,1)$ is the output-elasticity of labor.\n",
    "\n",
    "Cobb and Douglas estimated the parameters using standard econometrics tools. They found $\\alpha = 0.75$, implying that labor accounted for three quarters of the value of US manufacturing output (capital accounting for the remaining quarter) over the period studied. For the efficiency parameter, they got $A=1.01$, which, since it is greater than 1, reflects the positive effects of unobservable forces on production through the combination of labor and capital. \n",
    "\n",
    "Reference: Cobb, C. W., & Douglas, P. H. (1928). A theory of production.\n",
    "\n",
    "The mathematical form that we used, with $\\alpha + (1-\\alpha)=1$ implies constant return to scale: output increases by the same proportional change as all inputs change. In addition, the cross-partial derivative of production output $Y$ with respect to labor $L$ and capital $K$ is positive and the second-order partial derivatives are both negative (because $\\alpha \\in (0,1)$). It means that adding either more labor or more capital (but not both) to the production process increases output, though at a diminishing rate. Finally, because $\\alpha$ is a constant, it implies that the shares of labor and capital are constant. \n",
    "\n",
    "The design of the Cobb-Douglas production function was influenced by statistical evidence: it appeared that labor and capital shares of total output were constant over time in developed countries. However, Cobb and Douglas themselves acknowledged that their production function does not rest on solid theoretical foundations, nor should it be understood as a law of production! Still, nowadays, the Cobb-Douglas production function is often used in economics models. The main reason: its simple mathematical properties are attractive, in the sense that it is relatively easy to derive analytical solutions using such function. Obviously, this is very questionable. Many other models were developed to remedy the shortcomings of Cobb-Douglas, which will be discussion for your economics courses...\n",
    "\n",
    "Here is the lesson though: **always question the assumptions behind models**, both theoretical and empirical. Do the assumptions have a large influence on the results? Can you back up the assumptions with data or theory? Also remember, even unrealistic assumption (e.g., *homo oeconomicus*) can lead to interesting results. A model is like a map. For example, think about a metro map: such map represents the metro lines and their connections, but is obviously not a faithful representation of reality! Still, it is very convenient to find your way from one place to another. What matters here is the goal. You would not use your metro map to walk from one station to another. Similarly, with economic/statistical models, ask yourself the question: **Can we extrapolate?**\n",
    "\n",
    "Ok, enough discussion of the history of economics and economic models, and back to Python. Let's implement our Cobb-Douglas production function!"
   ]
  },
  {
   "cell_type": "code",
   "execution_count": 3,
   "id": "8b9cc9ef-8000-4663-8662-adb0cb74ae1d",
   "metadata": {},
   "outputs": [],
   "source": [
    "def cobb_douglas(l, k):\n",
    "    \"\"\"This function computes the Cobb Douglas production function from labor and capital.\"\"\"\n",
    "    A = 1.01          # efficiency parameter        \n",
    "    alpha = 0.75      # output elasticity of labor\n",
    "    return A* l**alpha * k**(1-alpha)"
   ]
  },
  {
   "cell_type": "markdown",
   "id": "75491111-576d-4cd9-917d-7efa0277bfd5",
   "metadata": {},
   "source": [
    "Pay attention to the syntax. A function is **defined** using the `def` keyword. \n",
    "\n",
    "Following the `def` keyword is a **function signature** which indicates the function's name and its arguments. Here the signature is `cobb_douglas(l, k)`. Just like in mathematics, the arguments are separated by commas and enclosed in parentheses. \n",
    "\n",
    "The indentation following the `def` line specifies what is part of the function. As soon as the indentation goes to the left again, aligned with `def`, the contents of the functions are complete.\n",
    "\n",
    "Immediately following the function definition is the **doc string** (short for documentation string), a brief description of the function. The first string after the function definition is always defined as the doc string. Usually, it is in triple quotes, as doc strings often span multiple lines.\n",
    "\n",
    "Doc strings are more than just comments for your code, the doc string is what is returned by the native python function `help()` when someone is looking to learn more about your function. For example:"
   ]
  },
  {
   "cell_type": "code",
   "execution_count": 4,
   "id": "8db03b4b-eb24-45d9-a9b2-add7d6fd8f01",
   "metadata": {},
   "outputs": [
    {
     "name": "stdout",
     "output_type": "stream",
     "text": [
      "Help on function cobb_douglas in module __main__:\n",
      "\n",
      "cobb_douglas(l, k)\n",
      "    This function computes the Cobb Douglas production function from labor and capital.\n",
      "\n"
     ]
    }
   ],
   "source": [
    "help(cobb_douglas)"
   ]
  },
  {
   "cell_type": "markdown",
   "id": "2f7f6027-3c22-4783-aaa9-51c6cbd4352d",
   "metadata": {},
   "source": [
    "You can also print out the documentation by using `?` in a Jupyter notebook or JupyterLab console."
   ]
  },
  {
   "cell_type": "code",
   "execution_count": 5,
   "id": "a21ae191-26fc-49a2-82bf-a3319adcfa89",
   "metadata": {},
   "outputs": [
    {
     "data": {
      "text/plain": [
       "\u001b[1;31mSignature:\u001b[0m \u001b[0mcobb_douglas\u001b[0m\u001b[1;33m(\u001b[0m\u001b[0ml\u001b[0m\u001b[1;33m,\u001b[0m \u001b[0mk\u001b[0m\u001b[1;33m)\u001b[0m\u001b[1;33m\u001b[0m\u001b[1;33m\u001b[0m\u001b[0m\n",
       "\u001b[1;31mDocstring:\u001b[0m This function computes the Cobb Douglas production function from labor and capital.\n",
       "\u001b[1;31mFile:\u001b[0m      c:\\users\\thurm\\github\\mgt-499\\class_datascience\\notebooks\\week_02\\<ipython-input-3-f6f1b3ebed26>\n",
       "\u001b[1;31mType:\u001b[0m      function\n"
      ]
     },
     "metadata": {},
     "output_type": "display_data"
    }
   ],
   "source": [
    "cobb_douglas?"
   ]
  },
  {
   "cell_type": "markdown",
   "id": "1a810f2b-6eca-41bd-9ec5-041b64480eb0",
   "metadata": {},
   "source": [
    "You are free to type whatever you like in doc strings, or even omit them, but you should always have a doc string with some information about what your function is doing. Again: all functions should have doc strings.\n",
    "\n",
    "In the next line of the function, we see a `return` keyword. Whatever is after the `return` statement is, you guessed it, returned by the function. Any code after the `return` is *not* executed because the function has already returned!\n",
    "\n",
    "Now that we have defined our function, we can **call** it:"
   ]
  },
  {
   "cell_type": "code",
   "execution_count": 13,
   "id": "82b8e7bf-c9da-416f-8922-fc3596b388ee",
   "metadata": {},
   "outputs": [
    {
     "data": {
      "text/plain": [
       "63.6812112530437"
      ]
     },
     "execution_count": 13,
     "metadata": {},
     "output_type": "execute_result"
    }
   ],
   "source": [
    "cobb_douglas(74, 39)"
   ]
  },
  {
   "cell_type": "code",
   "execution_count": 14,
   "id": "be040a28-dc15-48f2-8e16-b764680718ad",
   "metadata": {},
   "outputs": [
    {
     "data": {
      "text/plain": [
       "0.636812112530437"
      ]
     },
     "execution_count": 14,
     "metadata": {},
     "output_type": "execute_result"
    }
   ],
   "source": [
    "cobb_douglas(0.74, 0.39)"
   ]
  },
  {
   "cell_type": "markdown",
   "id": "36963e1c-9da5-4bf3-bac1-09d1610e6e8f",
   "metadata": {},
   "source": [
    "See, when we divided both labor and capital by 100, we also reduced production by 100: this the constant return to scale property in action!"
   ]
  },
  {
   "cell_type": "markdown",
   "id": "bb714bcb-ff98-44e6-9f62-9f0dfdab4893",
   "metadata": {},
   "source": [
    "A function does not need arguments. As a silly example, let's consider a function that just returns 42 every time. Of course, it does not matter what its arguments are, so we can define a function without arguments."
   ]
  },
  {
   "cell_type": "code",
   "execution_count": 15,
   "id": "745bbf9e-207e-4e35-97d6-43f5ba832cc4",
   "metadata": {},
   "outputs": [],
   "source": [
    "def answer_to_everything():\n",
    "    \"\"\"This function answers the ultimate question of life, the universe, and everything.\"\"\"\n",
    "    return 42"
   ]
  },
  {
   "cell_type": "markdown",
   "id": "973b8342-b560-49c4-b4c0-83c552ed5395",
   "metadata": {},
   "source": [
    "We still needed the open and closed parentheses at the end of the function name. Similarly, even though it has no arguments, we still have to call it with parentheses."
   ]
  },
  {
   "cell_type": "code",
   "execution_count": 16,
   "id": "5fa2da2b-d11e-40c6-93c6-3a9b1c481581",
   "metadata": {},
   "outputs": [
    {
     "data": {
      "text/plain": [
       "42"
      ]
     },
     "execution_count": 16,
     "metadata": {},
     "output_type": "execute_result"
    }
   ],
   "source": [
    "answer_to_everything()"
   ]
  },
  {
   "cell_type": "markdown",
   "id": "fe42644c-267a-4ca5-aefc-12f0816114d2",
   "metadata": {},
   "source": [
    "Just like they do not necessarily need arguments, functions also do not need to return anything. If a function does not have a `return` statement (or it is never encountered in the execution of the function), the function runs to completion and returns `None` by default. `None` is a special Python keyword which basically means \"nothing.\" For example, a function could simply print something to the screen."
   ]
  },
  {
   "cell_type": "code",
   "execution_count": 17,
   "id": "1b9a175a-a31d-41c6-a00f-8b31ca85a072",
   "metadata": {},
   "outputs": [],
   "source": [
    "def circular_economy():\n",
    "    \"\"\"Prints the definition of circular economy\"\"\"\n",
    "    print(\"\"\"A circular economy is a regenerative economic system that\n",
    "    uses renewable energy and resources, \n",
    "    reuses materials and products as long as possible, \n",
    "    and recycles resources rather than disposing them as waste. \"\"\")"
   ]
  },
  {
   "cell_type": "markdown",
   "id": "29de8636-7dcc-4169-8e21-a5d8ae52e53e",
   "metadata": {},
   "source": [
    "We call this function as all others, but we can show that the result it returns is `None`."
   ]
  },
  {
   "cell_type": "code",
   "execution_count": 27,
   "id": "0778c56f-0d03-4cd3-af99-3889a8e87457",
   "metadata": {},
   "outputs": [
    {
     "name": "stdout",
     "output_type": "stream",
     "text": [
      "A circular economy is a regenerative economic system that\n",
      "    uses renewable energy and resources, \n",
      "    reuses materials and products as long as possible, \n",
      "    and recycles resources rather than disposing them as waste. \n"
     ]
    }
   ],
   "source": [
    "circ_eco = circular_economy()"
   ]
  },
  {
   "cell_type": "code",
   "execution_count": 28,
   "id": "c8261e5b-5e74-4e8f-a2b6-96d4939e96fc",
   "metadata": {},
   "outputs": [
    {
     "name": "stdout",
     "output_type": "stream",
     "text": [
      "None\n"
     ]
    }
   ],
   "source": [
    "print(circ_eco)"
   ]
  },
  {
   "cell_type": "markdown",
   "id": "b236dc6a-f4c5-4dc5-9020-0cfb6446e146",
   "metadata": {},
   "source": [
    "See, when we print the variable `circ_eco`, the answer is `None`. So apparently, circular economy models are not yet standard..."
   ]
  },
  {
   "cell_type": "markdown",
   "id": "a990782d-f697-4441-820e-4ff3f175f1d6",
   "metadata": {},
   "source": [
    "Finally, here is a very important tips:\n",
    "\n",
    "<span style=\"color: dodgerblue; font-weight: bold;\"> Always test your function! </span>"
   ]
  },
  {
   "cell_type": "markdown",
   "id": "a3190bcc-ac26-4d69-bf8c-8e9a1be59f19",
   "metadata": {},
   "source": [
    "### Built-in functions <a name=\"built-in-function\"></a>\n",
    "\n",
    "The Python programming language has several built-in functions. We have already encountered a few of them such as `print()`, `len()`, `range()`, and `enumerate()`, in addition to type conversions such as `str`, `list()` and `tuple()`.  The complete set of **built-in functions** can be found [here](https://docs.python.org/3/library/functions.html). A word of warning about these functions and naming your own.\n",
    "\n",
    "<span style=\"color: dodgerblue; font-weight: bold;\"> Never define a function or variable with the same name as a built-in function. </span>\n",
    "\n",
    "Additionally, Python has **keywords** (such as `def`, `for`, `in`, `if`, `True`, `None`, etc.), many of which we have already encountered. A complete list of them is [here](https://docs.python.org/3/reference/lexical_analysis.html#keywords). The interpreter will throw an error if you try to define a function or variable with the same name as a keyword."
   ]
  },
  {
   "cell_type": "markdown",
   "id": "eb0b596d-fee5-4807-b56a-11b5bc6997d2",
   "metadata": {},
   "source": [
    "### Keyword argument <a name=\"kwarg\"></a>"
   ]
  },
  {
   "cell_type": "markdown",
   "id": "a406718e-c551-4969-83be-59317fea1ade",
   "metadata": {},
   "source": [
    "When we defined our `cobb-douglas()` function, we defined the efficiency parameter and the output-elasticity of labor inside the function. With that structure, we cannot modify the parameters. Would there be a better way? Of course there is, we can use **named keyword argument**, also known as a **named kwarg**. Here is how it looks:"
   ]
  },
  {
   "cell_type": "code",
   "execution_count": 46,
   "id": "9ec017ce-f351-4b7e-a556-b1048019d795",
   "metadata": {},
   "outputs": [],
   "source": [
    "def cobb_douglas_kwarg(l, k, A=1.01, alpha = 0.75):\n",
    "    \"\"\"This function computes the Cobb Douglas production function from labor and capital.\"\"\"\n",
    "    return A* l**alpha * k**(1-alpha)"
   ]
  },
  {
   "cell_type": "markdown",
   "id": "fb5cc5d4-5c4e-4685-8627-947bf6544de7",
   "metadata": {},
   "source": [
    "The syntax for a named kwarg is\n",
    "\n",
    "    kwarg_name = default_value\n",
    "    \n",
    "in the `def` clause of the function definition. In this case, we added the efficiency parameter and output-elasticity of labor. Conveniently, if you can call the function without specifying the kwargs, they are assigned to their default values. Hence, we can omit kwargs when calling our function:"
   ]
  },
  {
   "cell_type": "code",
   "execution_count": 47,
   "id": "d47acc19-0587-4950-b598-9d2725e1a0f6",
   "metadata": {},
   "outputs": [
    {
     "data": {
      "text/plain": [
       "63.6812112530437"
      ]
     },
     "execution_count": 47,
     "metadata": {},
     "output_type": "execute_result"
    }
   ],
   "source": [
    "cobb_douglas_kwarg(74, 39)"
   ]
  },
  {
   "cell_type": "markdown",
   "id": "bfa1692d-897d-4ab6-8351-28f35f55ff9a",
   "metadata": {},
   "source": [
    "But know we can also modify the values of the parameters!"
   ]
  },
  {
   "cell_type": "code",
   "execution_count": 50,
   "id": "87d9bc99-d085-4a28-a44a-36afed492ab5",
   "metadata": {},
   "outputs": [
    {
     "data": {
      "text/plain": [
       "67.16983339223331"
      ]
     },
     "execution_count": 50,
     "metadata": {},
     "output_type": "execute_result"
    }
   ],
   "source": [
    "cobb_douglas_kwarg(74, 39, A=1.1, alpha=0.70)"
   ]
  },
  {
   "cell_type": "markdown",
   "id": "2662ce90-1f92-4715-b6d1-d5d0bfc84156",
   "metadata": {},
   "source": [
    "### Splat <a name=\"Splat\"></a>"
   ]
  },
  {
   "cell_type": "markdown",
   "id": "0a544dd8-58f4-49c9-8876-bc0c80b0a94e",
   "metadata": {},
   "source": [
    "Python offers another convenient way to call functions. Suppose we want to know whether or not a triangle is a right triangle. We will write a function taking three arguments, `a`, `b`, and `c` (the sides of a triangle), which checks if $a^2 + b^2 = c^2$."
   ]
  },
  {
   "cell_type": "code",
   "execution_count": 57,
   "id": "2f4e1630-6096-46ea-858a-f30d80bd7de1",
   "metadata": {},
   "outputs": [],
   "source": [
    "def is_right_triangle(a, b, c):\n",
    "    \"\"\"\n",
    "    Checks if a triangle with side lengths\n",
    "    `a`, `b`, and `c` is right.\n",
    "    \"\"\"\n",
    "    \n",
    "    # Use sorted(), which gives a sorted list\n",
    "    a, b, c = sorted([a, b, c])\n",
    "    \n",
    "    # Check to see if it is almost a right triangle (1e-12 is our precision)\n",
    "    if abs(a**2 + b**2 - c**2) < 1e-12:\n",
    "        return True\n",
    "    else:\n",
    "        return False"
   ]
  },
  {
   "cell_type": "markdown",
   "id": "aece7401-f8a5-4b79-abf9-835760d3e96e",
   "metadata": {},
   "source": [
    "Let's test our function:"
   ]
  },
  {
   "cell_type": "code",
   "execution_count": 58,
   "id": "9fabc2a6-fb5f-4302-9319-8ed547252447",
   "metadata": {},
   "outputs": [
    {
     "data": {
      "text/plain": [
       "True"
      ]
     },
     "execution_count": 58,
     "metadata": {},
     "output_type": "execute_result"
    }
   ],
   "source": [
    "is_right_triangle(5,3,4)"
   ]
  },
  {
   "cell_type": "code",
   "execution_count": 59,
   "id": "6570701f-0f10-487a-98b1-a57a69e3b28d",
   "metadata": {},
   "outputs": [
    {
     "data": {
      "text/plain": [
       "False"
      ]
     },
     "execution_count": 59,
     "metadata": {},
     "output_type": "execute_result"
    }
   ],
   "source": [
    "is_right_triangle(1,2,3)"
   ]
  },
  {
   "cell_type": "markdown",
   "id": "a346cb0c-0682-4f8d-9510-a6fc39e9a3c5",
   "metadata": {},
   "source": [
    "Ok, it seems alright. Now, let's say we have a tupple with the triangle side `(a,b,c)`. We can pass these all in separately by splitting the tuple. However, there is a more efficient way using the **unpacking operator** `*` before a tuple, which is referred to as a \"splat.\""
   ]
  },
  {
   "cell_type": "code",
   "execution_count": 60,
   "id": "171c7135-da8c-4b69-b49d-777c98f780cb",
   "metadata": {},
   "outputs": [
    {
     "data": {
      "text/plain": [
       "True"
      ]
     },
     "execution_count": 60,
     "metadata": {},
     "output_type": "execute_result"
    }
   ],
   "source": [
    "side_triangle = (5,3,4)\n",
    "\n",
    "is_right_triangle(*side_triangle)"
   ]
  },
  {
   "cell_type": "markdown",
   "id": "047a6f37-b7a7-4172-a09f-e06054ff6d70",
   "metadata": {},
   "source": [
    "### Recursive function <a name=\"recursive-function\"></a>"
   ]
  },
  {
   "cell_type": "markdown",
   "id": "f78bf30f-f251-44b7-812a-617db4bc877c",
   "metadata": {},
   "source": [
    "A function that calls itself is said to be **recursive**, and the technique of employing a recursive function is called **recursion**.\n",
    "\n",
    "Let's take an example. Imagine you wish to compute [Fibonacci numbers](https://en.wikipedia.org/wiki/Fibonacci_number). The Fibonacci numbers form the Fibonacci sequence, , in which each number is the sum of the two preceding ones. The sequence commonly starts from 0 and 1: \n",
    "\n",
    "$0, 1, 1, 2, 3, 5, 8, 13, 21, 34, 55, 89, 144, ...$ \n",
    "\n",
    "The Fibonacci numbers can also be expressed using a closed form solution, using the [Golden ratio].(https://en.wikipedia.org/wiki/Golden_ratio)\n",
    "\n",
    "The Fibonacci numbers have some amazing applications. For instance, they often appear in Nature, such as branching in trees, arrangement of leaves on a stem, the fruitlets of a pineapple, the flowering of artichoke, an uncurling fern and the arrangement of a pine cone, etc.\n",
    "\n",
    "<img src='https://upload.wikimedia.org/wikipedia/commons/5/5a/FibonacciChamomile.PNG?20140804210532' width=\"350\">\n",
    "\n",
    "Image: By User:Alvesgaspar:derivative work: RDBury (talk) - Mother_and_daughter.jpg, CC BY 2.5, https://commons.wikimedia.org/w/index.php?curid=15047443\n",
    "\n",
    "In the above image, yellow chamomile head are arranged in 21 (blue) and 13 (aqua) spirals, both Fibonacci numbers. What is this miracle?? Well, there is a reason. This pattern allows to maximize the numbers of cells. Explore further on [Math is Fun](https://www.mathsisfun.com/numbers/nature-golden-ratio-fibonacci.html). Such arrangements involving consecutive Fibonacci numbers appear in a wide variety of plants. See for instance [14 examples of Fibonacci numbers and the Golden ratio in Nature](https://www.mathnasium.com/blog/14-interesting-examples-of-the-golden-ratio-in-nature#:~:text=The%20Fibonacci%20sequence%20can%20also,each%20of%20the%20new%20stems.)\n",
    "\n",
    "Anyway, let's try to define a function to compute Fibonacci numbers. We have:\n",
    "\n",
    "$F(0)=0$\n",
    "\n",
    "$F(1)=1$\n",
    "\n",
    "$F(n)=F(n-1)+F(n-2)$\n",
    "\n"
   ]
  },
  {
   "cell_type": "code",
   "execution_count": 41,
   "id": "6466cd0e-c79b-4340-9fa0-5ae27016f449",
   "metadata": {},
   "outputs": [],
   "source": [
    "def fibonacci(n):\n",
    "    \"\"\"This function computes the n-th Fibonacci number\"\"\"\n",
    "    if n in (0, 1):              # We know the solution F(0)=0 and F(1)=1\n",
    "        return n\n",
    "    else:\n",
    "        return fibonacci(n - 1) + fibonacci(n - 2)  # Else, we need a recursion"
   ]
  },
  {
   "cell_type": "markdown",
   "id": "a66bb860-0217-40ec-9ce6-2bb4a9c6cc40",
   "metadata": {},
   "source": [
    "Let's try our function:"
   ]
  },
  {
   "cell_type": "code",
   "execution_count": 43,
   "id": "5ab688a4-db7e-4283-b194-3531f35981c4",
   "metadata": {},
   "outputs": [
    {
     "name": "stdout",
     "output_type": "stream",
     "text": [
      "0\n",
      "1\n",
      "1\n",
      "2\n",
      "3\n",
      "5\n",
      "8\n",
      "13\n",
      "21\n",
      "34\n"
     ]
    }
   ],
   "source": [
    "for i in range(10):\n",
    "    print(fibonacci(i))"
   ]
  },
  {
   "cell_type": "markdown",
   "id": "90224bb5-9e55-4e20-bc23-7c575c28c430",
   "metadata": {},
   "source": [
    "We define `fibonacci()` using a recursive function. In other word, the function will calls itself as many times as needed until it computes the desired Fibonacci number. This structure was not very efficient. For example, to compute $F(5)$, we need $F(4)$ and $F(3)$, but to know $F(4)$ you need to compute $F(3)$ and $F(2)$, and so on. Since Fibonacci numbers are not stored in memory, he function calculates many identical subproblems over and over again.\n",
    "\n",
    "This function quickly falls into the repetition issue you saw in the above section. The computation gets more and more expensive as n gets bigger. The required time grows exponentially because the function calculates many identical subproblems over and over again. How to avoid wasting resources? Here is a very nice [Python Guide to the Fibonacci Sequence](https://realpython.com/fibonacci-sequence-python/)."
   ]
  }
 ],
 "metadata": {
  "kernelspec": {
   "display_name": "Python 3 (ipykernel)",
   "language": "python",
   "name": "python3"
  },
  "language_info": {
   "codemirror_mode": {
    "name": "ipython",
    "version": 3
   },
   "file_extension": ".py",
   "mimetype": "text/x-python",
   "name": "python",
   "nbconvert_exporter": "python",
   "pygments_lexer": "ipython3",
   "version": "3.11.3"
  },
  "toc-showmarkdowntxt": false
 },
 "nbformat": 4,
 "nbformat_minor": 5
}
