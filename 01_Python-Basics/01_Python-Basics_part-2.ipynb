{
 "cells": [
  {
   "cell_type": "markdown",
   "id": "1d888fa0-4629-42a3-a111-8d8a84086c18",
   "metadata": {},
   "source": [
    "<a href=\"https://colab.research.google.com/github/edoardochiarotti/class_datascience/blob/main/2023/01_Introduction/Resources/01_Python-Basics_part-2.ipynb\" target=\"_blank\" rel=\"noopener\"><img src=\"https://colab.research.google.com/assets/colab-badge.svg\" alt=\"Open In Colab\"/></a>"
   ]
  },
  {
   "cell_type": "markdown",
   "id": "2bab199f-4ae1-4d52-890a-b2c9b70d06d8",
   "metadata": {
    "tags": []
   },
   "source": [
    "# Statistics and Data Science: Python-Basics, part 2!"
   ]
  },
  {
   "cell_type": "markdown",
   "id": "915dc561-8d61-4533-a745-a19e156c10ae",
   "metadata": {},
   "source": [
    "<img src='https://imgs.xkcd.com/comics/data_trap.png' width=\"350\">\n",
    "\n",
    "Source: [xqcd 2582](https://xkcd.com/2582/)"
   ]
  },
  {
   "cell_type": "markdown",
   "id": "20d24526-076b-46a7-b8f8-c074ba76199c",
   "metadata": {},
   "source": [
    "## Content\n",
    "\n",
    "- [Dictionary](#Dictionary)\n",
    "   - [What is a dictionary?](#dico-def)\n",
    "   - [Indexing dictionaries](#dico-index)\n",
    "   - [Dictionary methods, built-in functions and operations](#dico-methods)\n",
    "      - [Extracting keys and values](#dico-extract)\n",
    "      - [Iterate over dictionary](#dico-iterate)\n",
    "      - [Slice and remove elements](#dico-slice)\n",
    "      - [Get and update one value](#dico-get)\n",
    "      - [Check if a key belongs to a dictionary](#dico-check)\n",
    "   - [Merging dictionaries](#dico-merge)\n",
    "- [Improving your functions: *args and **kwargs](#arg-kwarg)\n",
    "- [Comprehensions](#Comprehensions)\n",
    "- [String methods](#string-methods)\n",
    "   - [Indexing and slicing of strings](#string-index)\n",
    "   - [Counting](#Counting)\n",
    "   - [Case conversion](#case-conversion)\n",
    "   - [Finding substring](#find)\n",
    "   - [Replacing substring](#replace)\n",
    "   - [Joining](#Joining)\n",
    "   - [Formatting](#Formatting)\n",
    "   - [f-strings](#f-strings)"
   ]
  },
  {
   "cell_type": "markdown",
   "id": "a3a205b8-b2d5-4804-8456-540f039bf6f1",
   "metadata": {
    "tags": []
   },
   "source": [
    "## Dictionary <a name=\"Dictionary\"></a>\n",
    "\n",
    "### What is a dictionary? <a name=\"dico-def\"></a>\n",
    "\n",
    "We have so far seen two collection data types: lists and tuples. In both cases, the sequence of data was referenced by the index number. For example, say we have a tuple gathering the degree of morality of Florence, Jordane, and Julia:"
   ]
  },
  {
   "cell_type": "code",
   "execution_count": 92,
   "id": "356273d6-e808-48f1-a7e6-8a2e6059e6f8",
   "metadata": {
    "tags": []
   },
   "outputs": [
    {
     "name": "stdout",
     "output_type": "stream",
     "text": [
      "0.3\n",
      "0.2\n",
      "0.5\n"
     ]
    }
   ],
   "source": [
    "degree_morality = (0.3, 0.2, 0.5) \n",
    "\n",
    "print(degree_morality[0])\n",
    "print(degree_morality[1])\n",
    "print(degree_morality[2])"
   ]
  },
  {
   "cell_type": "markdown",
   "id": "a0d9a7df-2334-4ab5-8cfd-40d6a2f1216f",
   "metadata": {},
   "source": [
    "Instead of individuals \"0\", \"1\", \"2\", we might want to refer to the name of our individuals name, i.e., we would like to do something like `degree_morality['Florence']` instead of `degree_morality[0]`. This is possible by using a **dictionary**. Language dictionaries associate a word to its definition. A dictionary in Python is very similar: it maps a **key**, e.g., `'Florence'` with an associated **value**, e.g., `0.3`. \n",
    "\n",
    "We create dictionaries using curly braces `{}`. The syntax is then: `{key_1: value_1, key_2: value_2, ...}`:"
   ]
  },
  {
   "cell_type": "code",
   "execution_count": 93,
   "id": "94b883f5-6275-410e-8b91-dde9646701ef",
   "metadata": {},
   "outputs": [
    {
     "name": "stdout",
     "output_type": "stream",
     "text": [
      "<class 'dict'> {'Florence': 0.3, 'Jordane': 0.2, 'Julia': 0.5}\n"
     ]
    }
   ],
   "source": [
    "dictionary_morality = {\n",
    "    'Florence': 0.3,     # You do not need to write each entry on separate lines, but it helps clarity\n",
    "    'Jordane': 0.2,      # Disclaimer: the names and values are fictitious. No identification with actual persons should be inferred.\n",
    "    'Julia': 0.5}\n",
    "print(type(dictionary_morality), dictionary_morality)"
   ]
  },
  {
   "cell_type": "markdown",
   "id": "4d9ab79b-641d-477a-8c7e-4fb60f7705c1",
   "metadata": {},
   "source": [
    "Instead of curly braces, we can use the built-in `dict()` function to create dictionaries. One way is to use as argument a tuple of 2-tuples, each one containing a key-value pair: "
   ]
  },
  {
   "cell_type": "code",
   "execution_count": 24,
   "id": "25b05a9e-fb94-4c95-ad2b-17429f44562f",
   "metadata": {},
   "outputs": [
    {
     "data": {
      "text/plain": [
       "{'Florence': 0.3, 'Jordane': 0.2, 'Julia': 0.5}"
      ]
     },
     "execution_count": 24,
     "metadata": {},
     "output_type": "execute_result"
    }
   ],
   "source": [
    "dict((('Florence',0.3), ('Jordane', 0.2), ('Julia', 0.5)))    # 1st parenthesis for dict() function, 2nd parenthesis outer tuple"
   ]
  },
  {
   "cell_type": "markdown",
   "id": "74d6d3cf-44c1-4336-9a8d-7479046d5c20",
   "metadata": {},
   "source": [
    "Another possibility is to make a dictionary with keyword arguments - kwargs:  "
   ]
  },
  {
   "cell_type": "code",
   "execution_count": 26,
   "id": "5830b68a-83c4-4b9e-92f9-d1ad6f2d6d33",
   "metadata": {},
   "outputs": [
    {
     "data": {
      "text/plain": [
       "{'Florence': 0.3, 'Jordane': 0.2, 'Julia': 0.5}"
      ]
     },
     "execution_count": 26,
     "metadata": {},
     "output_type": "execute_result"
    }
   ],
   "source": [
    "dict(Florence=0.3, Jordane=0.2, Julia=0.5)      # note that you do not need to write strings"
   ]
  },
  {
   "cell_type": "markdown",
   "id": "64447065-3392-4b18-8775-80dbcffd60b2",
   "metadata": {},
   "source": [
    "In this example, we used strings as keys, which is the most common case, but any *immutable* object (e.g., `int`, `float`, `tuple`) can serve as key while the values can be of any type. You can even mix different type of keys and values in the same dictionary: "
   ]
  },
  {
   "cell_type": "code",
   "execution_count": 28,
   "id": "abecb3c5-5b84-415d-8c6d-6db37b4d5a1a",
   "metadata": {},
   "outputs": [
    {
     "data": {
      "text/plain": [
       "{'string key': 0,\n",
       " 34: 87.2,\n",
       " 7.9: 'string value',\n",
       " ('tuple', 'key'): ['list', 'value']}"
      ]
     },
     "execution_count": 28,
     "metadata": {},
     "output_type": "execute_result"
    }
   ],
   "source": [
    "{'string key': 0, 34: 87.2, 7.9: 'string value', ('tuple','key'): ['list', 'value']}"
   ]
  },
  {
   "cell_type": "markdown",
   "id": "69dbb231-00ce-493f-8a9e-6e38223d12bc",
   "metadata": {},
   "source": [
    "However, you cannot use *mutable* object as key:"
   ]
  },
  {
   "cell_type": "code",
   "execution_count": 29,
   "id": "544baeac-cdb4-4153-be90-7f6a42fb2ba1",
   "metadata": {},
   "outputs": [
    {
     "ename": "TypeError",
     "evalue": "unhashable type: 'list'",
     "output_type": "error",
     "traceback": [
      "\u001b[1;31m---------------------------------------------------------------------------\u001b[0m",
      "\u001b[1;31mTypeError\u001b[0m                                 Traceback (most recent call last)",
      "\u001b[1;32m<ipython-input-29-770501f674a9>\u001b[0m in \u001b[0;36m<module>\u001b[1;34m\u001b[0m\n\u001b[1;32m----> 1\u001b[1;33m \u001b[1;33m{\u001b[0m\u001b[1;34m'immutable is ok'\u001b[0m\u001b[1;33m:\u001b[0m \u001b[1;36m1\u001b[0m\u001b[1;33m,\u001b[0m \u001b[1;33m[\u001b[0m\u001b[1;34m'mutable'\u001b[0m\u001b[1;33m,\u001b[0m \u001b[1;34m'key'\u001b[0m\u001b[1;33m,\u001b[0m \u001b[1;34m'not'\u001b[0m\u001b[1;33m,\u001b[0m \u001b[1;34m'ok'\u001b[0m\u001b[1;33m]\u001b[0m\u001b[1;33m:\u001b[0m \u001b[1;36m0\u001b[0m\u001b[1;33m}\u001b[0m\u001b[1;33m\u001b[0m\u001b[1;33m\u001b[0m\u001b[0m\n\u001b[0m",
      "\u001b[1;31mTypeError\u001b[0m: unhashable type: 'list'"
     ]
    }
   ],
   "source": [
    "{'immutable is ok': 1, ['mutable', 'key', 'not', 'ok']: 0}"
   ]
  },
  {
   "cell_type": "markdown",
   "id": "6899e677-cbb0-4261-aa2b-aeedd5672c9f",
   "metadata": {},
   "source": [
    "In addition, the key shall be **unique**! Reusing the same key twice will overwrite the previous value stored:"
   ]
  },
  {
   "cell_type": "code",
   "execution_count": 27,
   "id": "804c2c91-ed6f-4a00-a87a-0b3499d89e80",
   "metadata": {
    "tags": []
   },
   "outputs": [
    {
     "data": {
      "text/plain": [
       "{'Florence': 0.2}"
      ]
     },
     "execution_count": 27,
     "metadata": {},
     "output_type": "execute_result"
    }
   ],
   "source": [
    "{'Florence': 0.3, 'Florence': 0.2}"
   ]
  },
  {
   "cell_type": "markdown",
   "id": "8193bfe5-57b2-4be2-88c7-792a650dab01",
   "metadata": {},
   "source": [
    "### Indexing dictionaries <a name=\"dico-index\"></a>\n",
    "\n",
    "The whole point of creating a dictionary was to extract a value using a key instead of an index number:"
   ]
  },
  {
   "cell_type": "code",
   "execution_count": 30,
   "id": "06adf391-ed79-47b1-bb31-e635f8bd7257",
   "metadata": {},
   "outputs": [
    {
     "data": {
      "text/plain": [
       "0.5"
      ]
     },
     "execution_count": 30,
     "metadata": {},
     "output_type": "execute_result"
    }
   ],
   "source": [
    "dictionary_morality['Julia']"
   ]
  },
  {
   "cell_type": "markdown",
   "id": "08693b98-2db5-4215-8131-f20391933b03",
   "metadata": {},
   "source": [
    "That's very convenient, isn't it? Even better, since dictionaries are *mutable* objects, we can add new entries to our dictionary:"
   ]
  },
  {
   "cell_type": "code",
   "execution_count": 34,
   "id": "9f293614-808b-49b8-88e9-cd47ca6ce91e",
   "metadata": {},
   "outputs": [
    {
     "data": {
      "text/plain": [
       "{'Florence': 0.3, 'Jordane': 0.2, 'Julia': 0.5, 'Ale': 0.5}"
      ]
     },
     "execution_count": 34,
     "metadata": {},
     "output_type": "execute_result"
    }
   ],
   "source": [
    "dictionary_morality['Ale']=0.5\n",
    "dictionary_morality"
   ]
  },
  {
   "cell_type": "markdown",
   "id": "3940f2c4-f17a-4195-80ee-a24339cce8de",
   "metadata": {},
   "source": [
    "Oups, I made a mistake while entering Ale's degree of morality. Luckily, we can change an entry:  "
   ]
  },
  {
   "cell_type": "code",
   "execution_count": 94,
   "id": "5591cbec-dbe5-4587-a5fd-c3383b28a093",
   "metadata": {},
   "outputs": [
    {
     "data": {
      "text/plain": [
       "{'Florence': 0.3, 'Jordane': 0.2, 'Julia': 0.5, 'Ale': 0.4}"
      ]
     },
     "execution_count": 94,
     "metadata": {},
     "output_type": "execute_result"
    }
   ],
   "source": [
    "dictionary_morality['Ale']=0.4\n",
    "dictionary_morality"
   ]
  },
  {
   "cell_type": "markdown",
   "id": "b68416fa-d7cd-4fd0-a511-cd27377150c9",
   "metadata": {},
   "source": [
    "### Dictionary methods, built-in functions and operations <a name=\"dico-methods\"></a>\n",
    "\n",
    "We have previously seen some methods for lists. Remember that a method is a function that is available for a given object because of the object's type. As everything in Python, dictionaries are objects and thus have built-in methods. Here are these methods:\n",
    "\n",
    "|Method|Description|\n",
    "|:-------|:----------|\n",
    "|`d.clear()` | Removes all the elements from dictionary `d`|\n",
    "|`d.copy()` | Returns a copy of `d`|\n",
    "|`d.fromkeys(keys, value)` | Returns a dictionary with the specified keys and value (optional)|\n",
    "|`d.get(key, default = None)` | Returns the value associated with `key`. The second argument specifies what should be returned if the key is absent|\n",
    "|`d.items()` | Returns a list containing a tuple for each key value pair|\n",
    "|`d.keys()` | Returns a list containing the dictionary's keys|\n",
    "|`d.pop(key)` | Removes the element with the specified `key`|\n",
    "|`d.popitem()` | Removes the last inserted key-value pair|\n",
    "|`d.setdefault(key, value)` | Returns the value of the specified `key`. If the key does not exist: insert the key, with the specified `value` (optional)|\n",
    "|`d.update({key: value})` | Updates `d` with the specified key-value pairs|\n",
    "|`d.values()` | Returns a list of all the values in `d`|\n",
    "\n",
    "In addition, you can apply built-in functions to dictionaries such as:\n",
    "\n",
    "|Function|Description|\n",
    "|:-------|:----------|\n",
    "|`len(d)` | Gives the number of entries of the dictionary `d`|\n",
    "|`list(d)` | Extract a list of the keys of `d`|\n",
    "|`del d[key]` | Deletes entry `key` from `d`|\n",
    "\n",
    "Let's try some of these. "
   ]
  },
  {
   "cell_type": "markdown",
   "id": "fcffb8af-7ef3-4945-99b4-65c802852c67",
   "metadata": {},
   "source": [
    "#### Extracting keys and values <a name=\"dico-extract\"></a>\n",
    "\n",
    "First, let's extract the keys of our dictionary. We can either use the method `d.keys()` or the function `list()`:"
   ]
  },
  {
   "cell_type": "code",
   "execution_count": 80,
   "id": "428be786-f282-46ac-867f-3b98934113e5",
   "metadata": {},
   "outputs": [
    {
     "data": {
      "text/plain": [
       "dict_keys(['Florence', 'Jordane', 'Julia', 'Ale'])"
      ]
     },
     "execution_count": 80,
     "metadata": {},
     "output_type": "execute_result"
    }
   ],
   "source": [
    "dictionary_morality.keys()"
   ]
  },
  {
   "cell_type": "code",
   "execution_count": 76,
   "id": "b6927e25-b226-4f4c-adb8-c0c49f8d3f8c",
   "metadata": {},
   "outputs": [
    {
     "data": {
      "text/plain": [
       "['Florence', 'Jordane', 'Julia', 'Ale']"
      ]
     },
     "execution_count": 76,
     "metadata": {},
     "output_type": "execute_result"
    }
   ],
   "source": [
    "list(dictionary_morality)"
   ]
  },
  {
   "cell_type": "markdown",
   "id": "54cc1fbd-d719-4c8d-94bb-5586b6c51c2e",
   "metadata": {},
   "source": [
    "Notice the difference? `list()`actually returns a `list` but `d.keys()` creates a `dict_keys` object. Such object allows to view keys and iterate over them, but we cannot index it directly. Ok, now let's extract the values of our dictionary:"
   ]
  },
  {
   "cell_type": "code",
   "execution_count": 47,
   "id": "7679cd9f-ffd1-4d75-a855-35517a3c034c",
   "metadata": {},
   "outputs": [
    {
     "data": {
      "text/plain": [
       "dict_values([0.3, 0.2, 0.5, 0.4])"
      ]
     },
     "execution_count": 47,
     "metadata": {},
     "output_type": "execute_result"
    }
   ],
   "source": [
    "dictionary_morality.values()"
   ]
  },
  {
   "cell_type": "markdown",
   "id": "f591c42e-f45f-456a-bd33-9101f7d07262",
   "metadata": {},
   "source": [
    "Similarly than `dict.keys()` returns a `dict_keys` object, `dict.values()` returns a `dict_values` object. In case, as for `tuple`, you can convert your `dict_values` object to a `list` using `list()`:"
   ]
  },
  {
   "cell_type": "code",
   "execution_count": 81,
   "id": "4eb804a4-9771-4d61-a0ba-690cff4d84e8",
   "metadata": {},
   "outputs": [
    {
     "data": {
      "text/plain": [
       "[0.3, 0.2, 0.5, 0.4]"
      ]
     },
     "execution_count": 81,
     "metadata": {},
     "output_type": "execute_result"
    }
   ],
   "source": [
    "list(dictionary_morality.values())"
   ]
  },
  {
   "cell_type": "markdown",
   "id": "3f1eda27-029a-48ba-ad25-9649453b8092",
   "metadata": {},
   "source": [
    "If we want both keys and values, we can use `d.items()` "
   ]
  },
  {
   "cell_type": "code",
   "execution_count": 70,
   "id": "536275de-a1b1-43cb-8b4c-f020fea183d3",
   "metadata": {},
   "outputs": [
    {
     "data": {
      "text/plain": [
       "dict_items([('Florence', 0.3), ('Jordane', 0.2), ('Julia', 0.5), ('Ale', 0.4)])"
      ]
     },
     "execution_count": 70,
     "metadata": {},
     "output_type": "execute_result"
    }
   ],
   "source": [
    "dictionary_morality.items()"
   ]
  },
  {
   "cell_type": "markdown",
   "id": "3d8c215a-b263-4d04-9043-2a8665dde69f",
   "metadata": {},
   "source": [
    "#### Iterate over dictionary <a name=\"dico-iterate\"></a>\n",
    "\n",
    "Using `items()` is the best way to **iterate over a dictionary**:"
   ]
  },
  {
   "cell_type": "code",
   "execution_count": 95,
   "id": "f64fd5bd-4b95-4922-898e-e03ae1fd9015",
   "metadata": {},
   "outputs": [
    {
     "name": "stdout",
     "output_type": "stream",
     "text": [
      "Florence : 0.3\n",
      "Jordane : 0.2\n",
      "Julia : 0.5\n",
      "Ale : 0.4\n"
     ]
    }
   ],
   "source": [
    "for key, value in dictionary_morality.items():\n",
    "    print(key, ':', value)"
   ]
  },
  {
   "cell_type": "markdown",
   "id": "3a60c2dc-664b-4324-8d23-91f0cab523a6",
   "metadata": {},
   "source": [
    "Note that when using `item()` to iterate over values, you actually iterate over copies of them. This implies that if you make changes within the `for`loop, you will not change the entries in the dictionary: "
   ]
  },
  {
   "cell_type": "code",
   "execution_count": 96,
   "id": "9476e858-27e1-4b2d-b9fb-e17b6fb14a6a",
   "metadata": {},
   "outputs": [
    {
     "data": {
      "text/plain": [
       "{'Florence': 0.3, 'Jordane': 0.2, 'Julia': 0.5, 'Ale': 0.4}"
      ]
     },
     "execution_count": 96,
     "metadata": {},
     "output_type": "execute_result"
    }
   ],
   "source": [
    "for key, value in dictionary_morality.items():\n",
    "    value = 'this string will not be in dictionary.'\n",
    "\n",
    "dictionary_morality"
   ]
  },
  {
   "cell_type": "markdown",
   "id": "48ec73ca-91d6-407c-83bb-eeb48a88a4c5",
   "metadata": {},
   "source": [
    "You will, however, if you use the keys:"
   ]
  },
  {
   "cell_type": "code",
   "execution_count": 97,
   "id": "9f4bd77d-4351-4d02-8017-3db5b7f31f6a",
   "metadata": {},
   "outputs": [
    {
     "name": "stdout",
     "output_type": "stream",
     "text": [
      "{'Florence': 0.3, 'Jordane': 0.2, 'Julia': 0.5, 'Ale': 0.4}\n",
      "{'Florence': 'this string will be in dictionary.', 'Jordane': 'this string will be in dictionary.', 'Julia': 'this string will be in dictionary.', 'Ale': 'this string will be in dictionary.'}\n"
     ]
    }
   ],
   "source": [
    "d = dictionary_morality.copy()          # creates copy of our dictionary (to avoid losing our data...)\n",
    "\n",
    "for key, _ in d.items():\n",
    "    d[key] = 'this string will be in dictionary.'\n",
    "\n",
    "print(dictionary_morality)\n",
    "print(d)"
   ]
  },
  {
   "cell_type": "markdown",
   "id": "6ade3da2-9249-4ec9-b7ff-1ffca9da41ee",
   "metadata": {},
   "source": [
    "#### Slice and remove elements <a name=\"dico-slice\"></a>"
   ]
  },
  {
   "cell_type": "markdown",
   "id": "8ddc2dde-6612-4054-8988-36987545f7cd",
   "metadata": {},
   "source": [
    "The `items()` method is also quite useful to slice a dictionary. For example, say we want to extract the entries for Florence and Jordane. To do so, we can use the `islice()` function of the `itertools` module. We will discuss modules later, but for now you can remember that a module is a file containing a set of functions and that we need to `import` a module if we want to use the functions that it contains. The `itertools` module specifically contains functions creating iterators for efficient looping - check the [documentation](https://docs.python.org/3/library/itertools.html)! "
   ]
  },
  {
   "cell_type": "code",
   "execution_count": 71,
   "id": "606ad310-69c9-435d-b5b0-a10bb1b77236",
   "metadata": {},
   "outputs": [
    {
     "data": {
      "text/plain": [
       "{'Florence': 0.3, 'Jordane': 0.2}"
      ]
     },
     "execution_count": 71,
     "metadata": {},
     "output_type": "execute_result"
    }
   ],
   "source": [
    "import itertools\n",
    "\n",
    "dict(itertools.islice(dictionary_morality.items(), 2))"
   ]
  },
  {
   "cell_type": "markdown",
   "id": "fdc7b142-1286-45cd-beb8-a62d6d81a410",
   "metadata": {},
   "source": [
    "Slicing allowed us to extract a subset of our dictionary. If we want to remove one element, we can use `d.pop()`. For instance, let's remove Jordane from our dictionary:"
   ]
  },
  {
   "cell_type": "code",
   "execution_count": 85,
   "id": "54bcd702-ea86-4526-8d23-0e5c0c9673d7",
   "metadata": {},
   "outputs": [
    {
     "data": {
      "text/plain": [
       "{'Florence': 0.3, 'Julia': 0.5, 'Ale': 0.4}"
      ]
     },
     "execution_count": 85,
     "metadata": {},
     "output_type": "execute_result"
    }
   ],
   "source": [
    "dictionary_morality.pop('Jordane')\n",
    "dictionary_morality"
   ]
  },
  {
   "cell_type": "markdown",
   "id": "ea2a497b-4c86-4ceb-94d4-3a7fbfbb795f",
   "metadata": {},
   "source": [
    "Good bye Jordane, you will be missed. "
   ]
  },
  {
   "cell_type": "markdown",
   "id": "2b521e8c-d939-4e63-82ba-d55ba01e2688",
   "metadata": {},
   "source": [
    "#### Get and update one value <a name=\"dico-get\"></a>\n",
    "\n",
    "Let's first try `d.get()`:"
   ]
  },
  {
   "cell_type": "code",
   "execution_count": 49,
   "id": "7fc088f9-cb24-433f-9505-e231ef0b287a",
   "metadata": {},
   "outputs": [
    {
     "data": {
      "text/plain": [
       "0.3"
      ]
     },
     "execution_count": 49,
     "metadata": {},
     "output_type": "execute_result"
    }
   ],
   "source": [
    "dictionary_morality.get('Florence')"
   ]
  },
  {
   "cell_type": "markdown",
   "id": "d022f06a-20aa-49d7-a27a-c43edac2511a",
   "metadata": {},
   "source": [
    "Seems like `dictionary_morality.get('Florence')` is the same as `dictionary_morality['Florence']`, and indeed for existing keys, both operations return the value associated with the key. However, what about when the key does not exist? Let's try with our deleted entry `'Jordane'`"
   ]
  },
  {
   "cell_type": "code",
   "execution_count": 50,
   "id": "df86edc1-c4ef-4532-abd5-5a65bfe3b5fa",
   "metadata": {},
   "outputs": [],
   "source": [
    "dictionary_morality.get('Jordane')"
   ]
  },
  {
   "cell_type": "markdown",
   "id": "abf655a4-d8c6-4bf6-9ab4-583c269102e2",
   "metadata": {},
   "source": [
    "There was no error (there would be if we did `dictionary_morality['Jordane']`), and we got `None`. We can also specify a default value:"
   ]
  },
  {
   "cell_type": "code",
   "execution_count": 51,
   "id": "d4f2eb8b-f070-4819-822d-91e976975389",
   "metadata": {},
   "outputs": [
    {
     "data": {
      "text/plain": [
       "0.2"
      ]
     },
     "execution_count": 51,
     "metadata": {},
     "output_type": "execute_result"
    }
   ],
   "source": [
    "dictionary_morality.get('Jordane', 0.2)"
   ]
  },
  {
   "cell_type": "markdown",
   "id": "0f88e93b-aa38-429a-8a9e-debf3f080bdd",
   "metadata": {},
   "source": [
    "Note that it did not add Jordane to our dictionary. If we wish to do so, we could use `d.setdefault()`"
   ]
  },
  {
   "cell_type": "code",
   "execution_count": 53,
   "id": "2aa58201-8e27-4533-9b97-7a3df04227d1",
   "metadata": {},
   "outputs": [
    {
     "name": "stdout",
     "output_type": "stream",
     "text": [
      "{'Florence': 0.3, 'Julia': 0.5, 'Ale': 0.4}\n",
      "{'Florence': 0.3, 'Julia': 0.5, 'Ale': 0.4, 'Jordane': 0.2}\n"
     ]
    }
   ],
   "source": [
    "print(dictionary_morality)\n",
    "\n",
    "dictionary_morality.setdefault('Jordane', 0.2)\n",
    "print(dictionary_morality)"
   ]
  },
  {
   "cell_type": "markdown",
   "id": "46627db7-c9a2-4cc1-b527-285eb059bf3c",
   "metadata": {},
   "source": [
    "Note that `d.setdefault()` also allows to get the value associated with a key."
   ]
  },
  {
   "cell_type": "code",
   "execution_count": 54,
   "id": "e51f072c-cee7-43bc-93fe-7eb0e7069359",
   "metadata": {},
   "outputs": [
    {
     "data": {
      "text/plain": [
       "0.2"
      ]
     },
     "execution_count": 54,
     "metadata": {},
     "output_type": "execute_result"
    }
   ],
   "source": [
    "dictionary_morality.setdefault('Jordane')"
   ]
  },
  {
   "cell_type": "markdown",
   "id": "fb14d2cc-072a-4523-8219-95b09dfa4e37",
   "metadata": {},
   "source": [
    "Hence, you should think about what behavior you want when you attempt to get a value out of a dictionary by key. Do you want an error when the key is missing? Then use indexing. Do you want to have a (possibly `None`) default if the key is missing and no error? Then use `get()`. Or do you want to create a new entry entry to your dictionary when the key is missing? Then use `setdefault()`.\n",
    "\n",
    "Note that if the key already exists, `setdefault()` does not modify its value:"
   ]
  },
  {
   "cell_type": "code",
   "execution_count": 55,
   "id": "172007ad-ffc3-49d8-b0b3-030a6949131c",
   "metadata": {},
   "outputs": [
    {
     "data": {
      "text/plain": [
       "{'Florence': 0.3, 'Julia': 0.5, 'Ale': 0.4, 'Jordane': 0.2}"
      ]
     },
     "execution_count": 55,
     "metadata": {},
     "output_type": "execute_result"
    }
   ],
   "source": [
    "dictionary_morality.setdefault('Jordane', 0.3)\n",
    "dictionary_morality"
   ]
  },
  {
   "cell_type": "markdown",
   "id": "28a68993-e01b-4d1d-9cef-191778b132f0",
   "metadata": {},
   "source": [
    "Instead you can update values - or add a new entry - with `d.update()`. Notice the syntax, the argument should be a dictionary (or an iterable object with key value pairs). That being said, I recommend using indexing: it is simpler, and apparently faster than `update()` "
   ]
  },
  {
   "cell_type": "code",
   "execution_count": 86,
   "id": "ded49f4a-c6fd-46d4-b44c-fc04edad55be",
   "metadata": {},
   "outputs": [
    {
     "name": "stdout",
     "output_type": "stream",
     "text": [
      "{'Florence': 0.3, 'Julia': 0.5, 'Ale': 0.4, 'Jordane': 0.25}\n",
      "{'Florence': 0.3, 'Julia': 0.5, 'Ale': 0.4}\n",
      "{'Florence': 0.3, 'Julia': 0.5, 'Ale': 0.4, 'Jordane': 0.25}\n"
     ]
    }
   ],
   "source": [
    "dictionary_morality.update({'Jordane': 0.25})   # Add Jordane to dictionary\n",
    "print(dictionary_morality)\n",
    "\n",
    "dictionary_morality.popitem()                   # Removed the last inserted key-value pair: bye-bye again Jordane\n",
    "print(dictionary_morality)\n",
    "\n",
    "dictionary_morality['Jordane']=0.25             # Add Jordane to dictionary\n",
    "print(dictionary_morality)"
   ]
  },
  {
   "cell_type": "markdown",
   "id": "dcd3bc41-c843-4d20-b4d5-24fd5cc067b9",
   "metadata": {},
   "source": [
    "#### Check if a key belongs to a dictionary <a name=\"dico-check\"></a>"
   ]
  },
  {
   "cell_type": "markdown",
   "id": "09e2c334-5a03-49ee-9f19-69de00e7d1b7",
   "metadata": {},
   "source": [
    "To know if a key is in an dictionary, we can use the `in` and `not in` operators:"
   ]
  },
  {
   "cell_type": "code",
   "execution_count": 87,
   "id": "6885d8a2-e715-43bc-bcaf-3aff1763b25a",
   "metadata": {},
   "outputs": [
    {
     "data": {
      "text/plain": [
       "True"
      ]
     },
     "execution_count": 87,
     "metadata": {},
     "output_type": "execute_result"
    }
   ],
   "source": [
    "'Ale' in dictionary_morality"
   ]
  },
  {
   "cell_type": "code",
   "execution_count": 88,
   "id": "640e1a2b-dd9d-4d25-bf46-77eb7e16729e",
   "metadata": {},
   "outputs": [
    {
     "data": {
      "text/plain": [
       "False"
      ]
     },
     "execution_count": 88,
     "metadata": {},
     "output_type": "execute_result"
    }
   ],
   "source": [
    "'Edoardo' in dictionary_morality"
   ]
  },
  {
   "cell_type": "code",
   "execution_count": 90,
   "id": "fe34ad14-2021-463a-8040-130c80e06988",
   "metadata": {},
   "outputs": [
    {
     "data": {
      "text/plain": [
       "True"
      ]
     },
     "execution_count": 90,
     "metadata": {},
     "output_type": "execute_result"
    }
   ],
   "source": [
    "'Quentin' not in dictionary_morality"
   ]
  },
  {
   "cell_type": "markdown",
   "id": "490c8ac4-d9af-425b-be2e-a8904e0986ee",
   "metadata": {},
   "source": [
    "### Merging dictionaries <a name=\"dico-merge\"></a>\n",
    "\n",
    "Suppose we want to merge two dictionaries together. Remember how we merged two lists? Or two strings? That's right, we use the `+`operator. Let's try the same with dictionary:"
   ]
  },
  {
   "cell_type": "code",
   "execution_count": 99,
   "id": "37bdc91c-0dc9-4fe8-9b94-1f082ca9efd9",
   "metadata": {},
   "outputs": [
    {
     "ename": "TypeError",
     "evalue": "unsupported operand type(s) for +: 'dict' and 'dict'",
     "output_type": "error",
     "traceback": [
      "\u001b[1;31m---------------------------------------------------------------------------\u001b[0m",
      "\u001b[1;31mTypeError\u001b[0m                                 Traceback (most recent call last)",
      "\u001b[1;32m<ipython-input-99-7a874693729f>\u001b[0m in \u001b[0;36m<module>\u001b[1;34m\u001b[0m\n\u001b[0;32m      2\u001b[0m \u001b[0mdico_moral_2\u001b[0m \u001b[1;33m=\u001b[0m \u001b[1;33m{\u001b[0m\u001b[1;34m'Ale'\u001b[0m\u001b[1;33m:\u001b[0m \u001b[1;36m0.4\u001b[0m\u001b[1;33m,\u001b[0m \u001b[1;34m'Jordane'\u001b[0m\u001b[1;33m:\u001b[0m \u001b[1;36m0.25\u001b[0m\u001b[1;33m}\u001b[0m\u001b[1;33m\u001b[0m\u001b[1;33m\u001b[0m\u001b[0m\n\u001b[0;32m      3\u001b[0m \u001b[1;33m\u001b[0m\u001b[0m\n\u001b[1;32m----> 4\u001b[1;33m \u001b[0mdico_moral_1\u001b[0m \u001b[1;33m+\u001b[0m \u001b[0mdico_moral_2\u001b[0m\u001b[1;33m\u001b[0m\u001b[1;33m\u001b[0m\u001b[0m\n\u001b[0m",
      "\u001b[1;31mTypeError\u001b[0m: unsupported operand type(s) for +: 'dict' and 'dict'"
     ]
    }
   ],
   "source": [
    "dico_moral_1 = {'Florence': 0.3, 'Julia': 0.5} \n",
    "dico_moral_2 = {'Ale': 0.4, 'Jordane': 0.25}\n",
    "\n",
    "dico_moral_1 + dico_moral_2"
   ]
  },
  {
   "cell_type": "markdown",
   "id": "93c2be21-9415-499e-bc6e-5a22f2c311a6",
   "metadata": {},
   "source": [
    "Ouch, it does not work for dictionaries. Fortunately, there is a simple way to merge dictionaries using the `dict()` function and the `**` operator:"
   ]
  },
  {
   "cell_type": "code",
   "execution_count": 100,
   "id": "13eec090-cb7f-4f48-b541-26bf478ace41",
   "metadata": {},
   "outputs": [
    {
     "data": {
      "text/plain": [
       "{'Florence': 0.3, 'Julia': 0.5, 'Ale': 0.4, 'Jordane': 0.25}"
      ]
     },
     "execution_count": 100,
     "metadata": {},
     "output_type": "execute_result"
    }
   ],
   "source": [
    "dict(**dico_moral_1, **dico_moral_2)"
   ]
  },
  {
   "cell_type": "markdown",
   "id": "e486ad80-6ec9-4647-a3d5-472b2c4798a5",
   "metadata": {},
   "source": [
    "Alternatively, using curly braces:"
   ]
  },
  {
   "cell_type": "code",
   "execution_count": 110,
   "id": "cd973f3f-f39c-4921-8cca-cd9ac704302a",
   "metadata": {},
   "outputs": [
    {
     "data": {
      "text/plain": [
       "{'Florence': 0.3, 'Julia': 0.5, 'Ale': 0.4, 'Jordane': 0.25}"
      ]
     },
     "execution_count": 110,
     "metadata": {},
     "output_type": "execute_result"
    }
   ],
   "source": [
    "{**dico_moral_1, **dico_moral_2}"
   ]
  },
  {
   "cell_type": "markdown",
   "id": "1b032e62-ec28-4b17-bbe4-d15c422c2531",
   "metadata": {},
   "source": [
    "Let's pause a minute and discuss the `**` operator. Do you remember in our previous lecture, we used the unpacking operator `*` to split a tuple inside a function? Here is an example:"
   ]
  },
  {
   "cell_type": "code",
   "execution_count": 106,
   "id": "61d673c8-778a-44f5-a7ca-ea719b39d2fe",
   "metadata": {},
   "outputs": [
    {
     "name": "stdout",
     "output_type": "stream",
     "text": [
      "(1, 2, 3)\n",
      "1 2 3\n"
     ]
    }
   ],
   "source": [
    "print((1,2,3))\n",
    "print(*(1,2,3))"
   ]
  },
  {
   "cell_type": "markdown",
   "id": "bdd8cb12-d337-40f0-b33d-3f83cdb1d1b4",
   "metadata": {},
   "source": [
    "Note that the `*` operator works on any kind of iterable. For example, strings or lists:"
   ]
  },
  {
   "cell_type": "code",
   "execution_count": 109,
   "id": "73b84ce7-157d-42d5-95aa-89ae7c8df952",
   "metadata": {},
   "outputs": [
    {
     "name": "stdout",
     "output_type": "stream",
     "text": [
      "1 2 3\n",
      "1 2 3\n"
     ]
    }
   ],
   "source": [
    "print(*'123')\n",
    "print(*[1,2,3])"
   ]
  },
  {
   "cell_type": "markdown",
   "id": "3c59bd68-9b75-4ce9-823f-0b8f9f869b9c",
   "metadata": {},
   "source": [
    "However, if we apply `*` on a dictionary, we would only unpack the keys:"
   ]
  },
  {
   "cell_type": "code",
   "execution_count": 113,
   "id": "901253d2-241a-43a6-946d-b12ff82eb240",
   "metadata": {},
   "outputs": [
    {
     "name": "stdout",
     "output_type": "stream",
     "text": [
      "Florence Julia\n",
      "{'Florence', 'Ale', 'Julia', 'Jordane'}\n"
     ]
    }
   ],
   "source": [
    "print(*dico_moral_1)\n",
    "print({*dico_moral_1, *dico_moral_2})"
   ]
  },
  {
   "cell_type": "markdown",
   "id": "3aa256d5-d9e4-49df-9175-ba8606a963d6",
   "metadata": {},
   "source": [
    "Hence, we need to get to the next level. That's the `**` operator. It is also an unpacking operator, but for dictionaries!"
   ]
  },
  {
   "cell_type": "markdown",
   "id": "da7cc1ea-0d97-4fbb-bdca-19eefa85d562",
   "metadata": {},
   "source": [
    "## Improving your function: *args and **kwargs <a name=\"arg-kwarg\"></a>"
   ]
  },
  {
   "cell_type": "markdown",
   "id": "830a77f4-a5a6-4c40-961e-ad40032f2312",
   "metadata": {},
   "source": [
    "We have discussed above the unpacking operators `*` and `**`. These operators are also very useful when you want to define a function with a variable number of arguments. \n",
    "\n",
    "Let's take a example. Suppose we want to sum some integers. The first way would be to use a list (or tuple as argument): "
   ]
  },
  {
   "cell_type": "code",
   "execution_count": 129,
   "id": "9c99a796-5ed0-4d69-8d4a-99c50ed183ca",
   "metadata": {},
   "outputs": [
    {
     "name": "stdout",
     "output_type": "stream",
     "text": [
      "6\n"
     ]
    }
   ],
   "source": [
    "def my_sum(list_int):\n",
    "    \"\"\"This function sums integers. The argument should be a list/tuple of integers.\"\"\"\n",
    "    result = 0\n",
    "    for i in list_int:\n",
    "        result += i\n",
    "    return result\n",
    "\n",
    "print(my_sum([1, 2, 3]))"
   ]
  },
  {
   "cell_type": "markdown",
   "id": "f6225f80-4001-4970-a7bd-6f6bc724b7c4",
   "metadata": {},
   "source": [
    "Alternatively, we might want to directly use the integers as arguments. But then the number of arguments could vary... No problem, we can use `*args` to define a function with an arbitrary number of arguments:"
   ]
  },
  {
   "cell_type": "code",
   "execution_count": 130,
   "id": "a342b85d-d56a-4147-b956-ce7bfc5c639b",
   "metadata": {},
   "outputs": [
    {
     "name": "stdout",
     "output_type": "stream",
     "text": [
      "6\n",
      "10\n"
     ]
    }
   ],
   "source": [
    "def my_sum(*args):\n",
    "    \"\"\"This function sums integers. The argument should be a integers.\"\"\"\n",
    "    result = 0\n",
    "    # Iterating over the Python args tuple\n",
    "    for i in args:\n",
    "        result += i\n",
    "    return result\n",
    "\n",
    "print(my_sum(1, 2, 3))\n",
    "print(my_sum(1, 2, 3, 4))"
   ]
  },
  {
   "cell_type": "markdown",
   "id": "afc7c52a-f265-4de4-9ff7-a9c75c3d1d13",
   "metadata": {},
   "source": [
    "Note that `args` is just a name, i.e., you do not need to use `*args`, all that matters is the **unpacking operator** `*`. \n",
    "\n",
    "Ok, now that we understood `*args`, what about `**kwargs`? Does `kwargs` ring a bell? Yes, we have already seen it when we learned how to define functions. More precisely, we have used **named keyword argument** to define the default values of our parameters: "
   ]
  },
  {
   "cell_type": "code",
   "execution_count": 132,
   "id": "0c840ad7-d6ff-4896-bf62-1e0adea79700",
   "metadata": {},
   "outputs": [
    {
     "data": {
      "text/plain": [
       "46.348115238492475"
      ]
     },
     "execution_count": 132,
     "metadata": {},
     "output_type": "execute_result"
    }
   ],
   "source": [
    "def cobb_douglas_kwarg(l, k, A=1.01, alpha = 0.75):\n",
    "    \"\"\"This function computes the Cobb Douglas production function from labor and capital.\"\"\"\n",
    "    return A* l**alpha * k**(1-alpha)\n",
    "\n",
    "cobb_douglas_kwarg(42, 57, alpha = 0.71)"
   ]
  },
  {
   "cell_type": "markdown",
   "id": "3ed98aac-d1cf-4844-a6f6-630b1519abab",
   "metadata": {},
   "source": [
    "We could omit named keyword argument or modify their value. \n",
    "\n",
    "So, what about `**kwargs`? Well it allows to define function with **arbitrary keyword argument**. Let's see an example. Suppose we want to define a function printing the names of individuals for which we have data:  "
   ]
  },
  {
   "cell_type": "code",
   "execution_count": 157,
   "id": "28586d7d-77df-49d5-8ddc-1f98f9b95cf6",
   "metadata": {},
   "outputs": [
    {
     "name": "stdout",
     "output_type": "stream",
     "text": [
      "Our sample includes: Florence Jordane Julia Ale \n"
     ]
    }
   ],
   "source": [
    "def sample_names(**kwargs):\n",
    "    result = 'Our sample includes: '\n",
    "    # Iterating over the keys of the Python kwargs dictionary\n",
    "    for key, val in kwargs.items():\n",
    "        result += key + ' '\n",
    "    return result\n",
    "\n",
    "print(sample_names(Florence=0.3, Jordane=0.25, Julia = 0.5, Ale = 0.4))"
   ]
  },
  {
   "cell_type": "markdown",
   "id": "baca626c-9735-495c-94b5-670ba51d77e5",
   "metadata": {},
   "source": [
    "Note that you can define functions that combines standard argument, `*args` arguments, and `**kwargs` arguments. However, the order of parameters matter:\n",
    "1. Standard arguments\n",
    "2. `*args` arguments\n",
    "3. `**kwargs` arguments"
   ]
  },
  {
   "cell_type": "markdown",
   "id": "d77897ac-548a-46f9-854a-3a5b35f2a5c7",
   "metadata": {},
   "source": [
    "## Comprehensions <a name=\"Comprehensions\"></a>\n",
    "\n"
   ]
  },
  {
   "cell_type": "markdown",
   "id": "d815fa7a-17b0-46c4-97ca-528fa45c147c",
   "metadata": {},
   "source": [
    "We have previously built lists and tuples, and dictionaries by constructing them directly. What if we want to create a new list based on the values of an existing list? As always, we will take a simple example. Suppose we already defined the list `[1,2,3]` and we would like the list `[3,6,9]`. Unfortunately, multiplying by three using the `*` operator would not do the trick. Remember that the `*` operator on lists actually replicates and concatenates a list. We could write a for loop:"
   ]
  },
  {
   "cell_type": "code",
   "execution_count": 166,
   "id": "6524daed-f100-40a9-b58c-e8583c27910c",
   "metadata": {},
   "outputs": [
    {
     "data": {
      "text/plain": [
       "[3, 6, 9]"
      ]
     },
     "execution_count": 166,
     "metadata": {},
     "output_type": "execute_result"
    }
   ],
   "source": [
    "my_lis = [1,2,3]\n",
    "new_lis = []\n",
    "\n",
    "for i in my_lis:\n",
    "    new_lis.append(3*i)\n",
    "    \n",
    "new_lis"
   ]
  },
  {
   "cell_type": "markdown",
   "id": "f30b709a-31ef-4c8b-8143-d798135e282a",
   "metadata": {},
   "source": [
    "Ok, it is working, but it feels quite a lot of coding for a very simple operation! Well, luckily for us, **comprehension** allows to do the same as above, but in one line of code:"
   ]
  },
  {
   "cell_type": "code",
   "execution_count": 167,
   "id": "d6ea4e11-cff7-43d1-bf81-3ec670d4a76c",
   "metadata": {},
   "outputs": [
    {
     "data": {
      "text/plain": [
       "[3, 6, 9]"
      ]
     },
     "execution_count": 167,
     "metadata": {},
     "output_type": "execute_result"
    }
   ],
   "source": [
    "[3*i for i in [1,2,3]]"
   ]
  },
  {
   "cell_type": "markdown",
   "id": "449eddbc-b047-4f92-a33e-7831060cee53",
   "metadata": {},
   "source": [
    "We can even add a conditional test inside. For example, say we only want the odd numbers:"
   ]
  },
  {
   "cell_type": "code",
   "execution_count": 169,
   "id": "f08d176d-8084-482a-b2b7-18f53c526976",
   "metadata": {},
   "outputs": [
    {
     "data": {
      "text/plain": [
       "[3, 9]"
      ]
     },
     "execution_count": 169,
     "metadata": {},
     "output_type": "execute_result"
    }
   ],
   "source": [
    "[3*i for i in [1,2,3] if 3*i %2 !=0]"
   ]
  },
  {
   "cell_type": "markdown",
   "id": "290f40bf-50c6-455b-8b1d-152b87d923a9",
   "metadata": {},
   "source": [
    "More generally, the structure of list comprehension is: \n",
    "```python\n",
    "newlist =[expression_to_put_in_list for item in iterable if condition_1== True]\n",
    "```\n",
    "\n",
    "The condition acts as a filter that only selects the items that valuate to `True`.\n",
    "\n",
    "Ok, let's look at a more complex example, taken from the great course of Justin Bois [Introduction to Programming in the Biological Sciences Bootcamp](http://justinbois.github.io/bootcamp/2022_epfl/index.html). We want to build a list containing the information about the 2018 Nobel laureates. We have, in three separate arrays, their names, nationalities, and category for the prize."
   ]
  },
  {
   "cell_type": "code",
   "execution_count": 159,
   "id": "a35f4ad9-982b-4a28-9657-63e6c7ffd02f",
   "metadata": {},
   "outputs": [],
   "source": [
    "names = (\n",
    "    \"Frances Arnold\",\n",
    "    \"George Smith\",\n",
    "    \"Gregory Winter\",\n",
    "    \"postponed\",\n",
    "    \"Denis Mukwege\",\n",
    "    \"Nadia Murad\",\n",
    "    \"Arthur Ashkin\",\n",
    "    \"Gérard Mourou\",\n",
    "    \"Donna Strickland\",\n",
    "    \"James Allison\",\n",
    "    \"Tasuku Honjo\",\n",
    "    \"William Nordhaus\",\n",
    "    \"Paul Romer\",\n",
    ")\n",
    "\n",
    "nationalities = (\n",
    "    \"USA\",\n",
    "    \"USA\",\n",
    "    \"UK\",\n",
    "    \"---\",\n",
    "    \"DRC\",\n",
    "    \"Iraq\",\n",
    "    \"USA\",\n",
    "    \"France\",\n",
    "    \"Canada\",\n",
    "    \"USA\",\n",
    "    \"Japan\",\n",
    "    \"USA\",\n",
    "    \"USA\",\n",
    ")\n",
    "\n",
    "categories = (\n",
    "    \"Chemistry\",\n",
    "    \"Chemistry\",\n",
    "    \"Chemistry\",\n",
    "    \"Literature\",\n",
    "    \"Peace\",\n",
    "    \"Peace\",\n",
    "    \"Physics\",\n",
    "    \"Physics\",\n",
    "    \"Physics\",\n",
    "    \"Physiology or Medicine\",\n",
    "    \"Physiology or Medicine\",\n",
    "    \"Economics\",\n",
    "    \"Economics\",\n",
    ")"
   ]
  },
  {
   "cell_type": "markdown",
   "id": "d0503948-bfce-405b-82e8-d2b61d57e758",
   "metadata": {},
   "source": [
    "Remember the `zip()` function: it allows to iterate over several iterables at the same time:"
   ]
  },
  {
   "cell_type": "code",
   "execution_count": 160,
   "id": "6319324d-0ee7-4f9a-bb5a-a5abd27aad76",
   "metadata": {},
   "outputs": [
    {
     "data": {
      "text/plain": [
       "[('Chemistry', 'Frances Arnold', 'USA'),\n",
       " ('Chemistry', 'George Smith', 'USA'),\n",
       " ('Chemistry', 'Gregory Winter', 'UK'),\n",
       " ('Literature', 'postponed', '---'),\n",
       " ('Peace', 'Denis Mukwege', 'DRC'),\n",
       " ('Peace', 'Nadia Murad', 'Iraq'),\n",
       " ('Physics', 'Arthur Ashkin', 'USA'),\n",
       " ('Physics', 'Gérard Mourou', 'France'),\n",
       " ('Physics', 'Donna Strickland', 'Canada'),\n",
       " ('Physiology or Medicine', 'James Allison', 'USA'),\n",
       " ('Physiology or Medicine', 'Tasuku Honjo', 'Japan'),\n",
       " ('Economics', 'William Nordhaus', 'USA'),\n",
       " ('Economics', 'Paul Romer', 'USA')]"
      ]
     },
     "execution_count": 160,
     "metadata": {},
     "output_type": "execute_result"
    }
   ],
   "source": [
    "[(cat, name, nat) for name, nat, cat in zip(names, nationalities, categories)]"
   ]
  },
  {
   "cell_type": "markdown",
   "id": "2200f629-5a6d-45be-a5df-8ddf38e274a5",
   "metadata": {},
   "source": [
    "What if we are only interested in Economics winners? We can add an `if` statement:"
   ]
  },
  {
   "cell_type": "code",
   "execution_count": 161,
   "id": "199f052c-e006-47fd-b68d-4fbd0cb5b9ba",
   "metadata": {},
   "outputs": [
    {
     "data": {
      "text/plain": [
       "[('Economics', 'William Nordhaus', 'USA'), ('Economics', 'Paul Romer', 'USA')]"
      ]
     },
     "execution_count": 161,
     "metadata": {},
     "output_type": "execute_result"
    }
   ],
   "source": [
    "[\n",
    "    (cat, name, nat)\n",
    "    for name, nat, cat in zip(names, nationalities, categories)\n",
    "    if cat == \"Economics\"\n",
    "]"
   ]
  },
  {
   "cell_type": "markdown",
   "id": "6f349ba5-5872-40e9-a30c-cf63a59b68d7",
   "metadata": {},
   "source": [
    "Pretty cool, no? In case, [William Nordhaus](https://en.wikipedia.org/wiki/William_Nordhaus) received the prize for integrating climate change into macroeconomic models, being a pioneer in the design of Integrated Assessment Models. "
   ]
  },
  {
   "cell_type": "markdown",
   "id": "11570698-1e05-4a6d-a04d-c0fe30d68051",
   "metadata": {},
   "source": [
    "## String methods <a name=\"string-methods\"></a> \n",
    "\n",
    "Oftentimes, we will work with text data, and not only to perform Text Analytics. For example, imagine you have the following table:\n",
    "\n",
    "|Name|City | Gender|Yearly Electricity consumption $(kWh)$|Green premium ($CHF/kWh$)|Green electricity mix|\n",
    "|:-------|:----------|:----------|:----------|:----------|:----------|\n",
    "|Valjean| Lausanne | M | 3600 | 1.00 | No |\n",
    "|Javert | Geneva | M | 5400 | 0.10 | Yes |\n",
    "|Fantine | Bern | F | NA | 0.30 | No |\n",
    "|Cosette | Zurich | F | 7200 | 0.75 | Yes |\n",
    "\n",
    "The table contains, for several individuals, their name, city of residence, gender, yearly electricity consumption, green premium (i.e., how much they are willing to pay to get electricity produced by renewable energy), and whether or not they already subscribe to the option to get green electricity. By the way, in Switzerland, the default option is the green electricity mix, so except if you are asking to unsubscribe, you would get electricity produced by renewable (generally, hydropower). You can also ask to get a more expensive electricity mix, made of local renewable energy, such as photovoltaics and wind turbines.\n",
    "\n",
    "Back to our table. We notice that the table is mixing text and numbers. Several variables in a text format might be useful for our analysis and should be converted to numbers. For instance, we might want to express the variable \"Green electricity mix\" as: 1 if the individual subscribed ('Yes'), 0 if not ('No').\n",
    "\n",
    "In addition, we notice that even when the data format is number, we could have some text: the Electricity consumption of Fantine is 'NA', i.e., 'Not Available'. We could discard the observation from Fantine from the analysis - that's probably what you should do in this case. But for the sake of the argument, we could also infer a value and thus replace 'NA' by a number, for instance, taking the mean of the sample, replacing by the closest observation, or even generating a random number. As a good practice, **you should always document all the modifications you are doing to the original data, detailing your assumptions and methods used**.\n",
    "\n",
    "So, the point is, we will often need to manipulate text data, i.e., strings in Python. As was the case for lists and dictionaries, there exists many string methods. Here are some of the common ones:\n",
    "\n",
    "|Method|Description|\n",
    "|:-------|:----------|\n",
    "|`s.capitalize()` | Converts the first character to upper case|\n",
    "|`s.casefold()` | Converts string into lower case |\n",
    "|`s.count(value)` | Returns the number of times a specified value occurs in a string|\n",
    "|`s.endswith()` |Returns true if the string ends with the specified value|\n",
    "|`s.find(value)` | Searches the string for a specified value and returns the position of where it was found|\n",
    "|`s.format()` | Formats specified values in a string|\n",
    "|`s.index(value)` | Searches the string for a specified value and returns the position of where it was found|\n",
    "|`s.isalnum()` | Returns True if all characters in the string are alphanumeric|\n",
    "|`s.isalpha` | Returns True if all characters in the string are in the alphabet|\n",
    "|`s.isdigit()` | Returns True if all characters in the string are digits|\n",
    "|`s.islower()`|Returns True if all characters in the string are lower case|\n",
    "|`s.isnumeric()` | Returns True if all characters in the string are numeric|\n",
    "|`s.isupper()`|Returns True if all characters in the string are upper case|\n",
    "|`s.join()`|Converts the elements of an iterable into a string|\n",
    "|`s.lower()`|Converts a string into lower case|\n",
    "|`s.maketrans()`|Returns a translation table to be used in translations|\n",
    "|`s.replace(old_value, new_value)`|Returns a string where a specified value is replaced with a specified value |\n",
    "|`s.rfind(value)`|Searches the string for a specified value and returns the last position of where it was found |\n",
    "|`s.rindex(value)`|Searches the string for a specified value and returns the last position of where it was found |\n",
    "|`s.rsplit(separator)`|Splits the string at the specified separator, and returns a list |\n",
    "|`s.split(separator)`|Splits the string at the specified separator, and returns a list |\n",
    "|`s.splitlines()`|Splits the string at line breaks and returns a list |\n",
    "|`s.startswith(value)`|Returns true if the string starts with the specified value |\n",
    "|`s.swapcase()`|Swaps cases, lower case becomes upper case and vice versa |\n",
    "|`s.title()`|Converts the first character of each word to upper case|\n",
    "|`s.translate()`|Returns a translated string using a dictionary or mapping table|\n",
    "|`s.upper()`|Converts a string into upper case|\n",
    "\n",
    "We will explore some of these string processing tools below. You can find a complete list of string methods from the [Python documentation](https://docs.python.org/3/library/stdtypes.html#string-methods). \n",
    "\n"
   ]
  },
  {
   "cell_type": "markdown",
   "id": "3312f9bb-fa46-4469-b5bc-8fc7c410cc33",
   "metadata": {},
   "source": [
    "### Indexing and slicing of strings <a name=\"string-index\"></a> \n",
    "\n",
    "As previously mentioned, strings are sequences of characters, in the same vein as lists and tuples are sequence of elements. Hence, indexing and slicing works the same as it does for lists and tuples! Similarly, built-in functions such as `len()` also applies to strings!"
   ]
  },
  {
   "cell_type": "code",
   "execution_count": 175,
   "id": "6765013e-b336-4d8a-aa9d-9519988fb149",
   "metadata": {},
   "outputs": [
    {
     "name": "stdout",
     "output_type": "stream",
     "text": [
      "129\n",
      "a\n",
      "The Green Premium \n",
      ".sesag esuohneerg fo tnuoma retaerg a stime taht eno revo ygolonhcet naelc a gnisoohc fo tsoc lanoitidda eht si muimerP neerG ehT\n"
     ]
    }
   ],
   "source": [
    "my_str = 'The Green Premium is the additional cost of choosing a clean technology over one that emits a greater amount of greenhouse gases.'\n",
    "\n",
    "print(len(my_str))\n",
    "print(my_str[97])\n",
    "print(my_str[:18])\n",
    "print(my_str[::-1])"
   ]
  },
  {
   "cell_type": "markdown",
   "id": "6bfb89be-e360-4421-9bb8-b8f471b76af9",
   "metadata": {},
   "source": [
    "### Counting <a name=\"Counting\"></a>"
   ]
  },
  {
   "cell_type": "markdown",
   "id": "c2b2c7e0-09f1-44e5-b805-0cc75f93cd9e",
   "metadata": {},
   "source": [
    "We can use `count()` to calculate the number of occurrences of a character:"
   ]
  },
  {
   "cell_type": "code",
   "execution_count": 183,
   "id": "151b9e7e-cce1-4484-a556-d283df6e6a7a",
   "metadata": {},
   "outputs": [
    {
     "name": "stdout",
     "output_type": "stream",
     "text": [
      "9\n"
     ]
    }
   ],
   "source": [
    "my_str.count('a')"
   ]
  },
  {
   "cell_type": "markdown",
   "id": "0d08b066-b21e-493e-b65e-4e2c97ebe095",
   "metadata": {},
   "source": [
    "The method also allows to calculate the number of times a substring appears in a string:"
   ]
  },
  {
   "cell_type": "code",
   "execution_count": 185,
   "id": "62d4625d-ca12-456a-a055-691be99256d2",
   "metadata": {},
   "outputs": [
    {
     "data": {
      "text/plain": [
       "2"
      ]
     },
     "execution_count": 185,
     "metadata": {},
     "output_type": "execute_result"
    }
   ],
   "source": [
    "my_str.count('ee')"
   ]
  },
  {
   "cell_type": "markdown",
   "id": "278d696c-4bfb-46da-b4aa-523c76eff353",
   "metadata": {},
   "source": [
    "However, substrings cannot overlap. For instance, suppose we have 6 times the character 'A', then `count('AA')` will only return 3:"
   ]
  },
  {
   "cell_type": "code",
   "execution_count": 187,
   "id": "5ff7f050-1297-4511-9ad8-772b1a31d2e6",
   "metadata": {},
   "outputs": [
    {
     "data": {
      "text/plain": [
       "3"
      ]
     },
     "execution_count": 187,
     "metadata": {},
     "output_type": "execute_result"
    }
   ],
   "source": [
    "'AAAAAA'.count('AA')"
   ]
  },
  {
   "cell_type": "markdown",
   "id": "321a6570-70aa-458b-805d-dd2915315496",
   "metadata": {},
   "source": [
    "In addition, `count()` and other similar methods are case-sensitive:"
   ]
  },
  {
   "cell_type": "code",
   "execution_count": 188,
   "id": "aad08c72-73c4-4cc5-a90d-7ff20c14eae5",
   "metadata": {},
   "outputs": [
    {
     "data": {
      "text/plain": [
       "2"
      ]
     },
     "execution_count": 188,
     "metadata": {},
     "output_type": "execute_result"
    }
   ],
   "source": [
    "'AAaaa'.count('A')"
   ]
  },
  {
   "cell_type": "markdown",
   "id": "a78794b0-4dc5-4fa2-8195-e9e6cb40c57a",
   "metadata": {},
   "source": [
    "### Case conversion <a name=\"case-conversion\"></a> "
   ]
  },
  {
   "cell_type": "markdown",
   "id": "c9df0169-3fcb-4355-b965-5f7b013bd8d5",
   "metadata": {},
   "source": [
    "To avoid the issue of case-sensitiveness, you can convert all characters of your string to lower cases:"
   ]
  },
  {
   "cell_type": "code",
   "execution_count": 189,
   "id": "667d50a3-e147-458c-822a-1bc83925677c",
   "metadata": {},
   "outputs": [
    {
     "data": {
      "text/plain": [
       "'the green premium is the additional cost of choosing a clean technology over one that emits a greater amount of greenhouse gases.'"
      ]
     },
     "execution_count": 189,
     "metadata": {},
     "output_type": "execute_result"
    }
   ],
   "source": [
    "my_str.lower()"
   ]
  },
  {
   "cell_type": "markdown",
   "id": "8d1e0b2a-ceed-47db-8630-8d2f0fdfa9ac",
   "metadata": {},
   "source": [
    "Alternatively, to upper cases:"
   ]
  },
  {
   "cell_type": "code",
   "execution_count": 190,
   "id": "a0dd3b5b-4757-48a7-8e1d-f2cf6654d823",
   "metadata": {},
   "outputs": [
    {
     "data": {
      "text/plain": [
       "'THE GREEN PREMIUM IS THE ADDITIONAL COST OF CHOOSING A CLEAN TECHNOLOGY OVER ONE THAT EMITS A GREATER AMOUNT OF GREENHOUSE GASES.'"
      ]
     },
     "execution_count": 190,
     "metadata": {},
     "output_type": "execute_result"
    }
   ],
   "source": [
    "my_str.upper()"
   ]
  },
  {
   "cell_type": "markdown",
   "id": "56bdcbf0-deb3-49f1-8513-f2631e6972b6",
   "metadata": {},
   "source": [
    "Note that `lower()` and `upper()` did not modify our original string:"
   ]
  },
  {
   "cell_type": "code",
   "execution_count": 192,
   "id": "cdb069ea-77e4-4f7f-9a1c-ada6916990ac",
   "metadata": {},
   "outputs": [
    {
     "data": {
      "text/plain": [
       "'The Green Premium is the additional cost of choosing a clean technology over one that emits a greater amount of greenhouse gases.'"
      ]
     },
     "execution_count": 192,
     "metadata": {},
     "output_type": "execute_result"
    }
   ],
   "source": [
    "my_str"
   ]
  },
  {
   "cell_type": "markdown",
   "id": "394d7d92-0ac3-4e8b-a109-f793aec4f239",
   "metadata": {},
   "source": [
    "Can you guess why? It's because `string` is immutable. It's very convenient to avoid bad manipulations. But if you want to operate on a modified string, you need to store your modified string into a variable:"
   ]
  },
  {
   "cell_type": "code",
   "execution_count": 205,
   "id": "fd858a79-b20c-4634-9737-f42e5357d673",
   "metadata": {},
   "outputs": [
    {
     "data": {
      "text/plain": [
       "'the green premium is the additional cost of choosing a clean technology over one that emits a greater amount of greenhouse gases.'"
      ]
     },
     "execution_count": 205,
     "metadata": {},
     "output_type": "execute_result"
    }
   ],
   "source": [
    "my_str_low = my_str.lower()\n",
    "my_str_low"
   ]
  },
  {
   "cell_type": "markdown",
   "id": "550d10f9-9f40-468e-bcce-2883f970170b",
   "metadata": {},
   "source": [
    "### Finding substring  <a name=\"find\"></a> "
   ]
  },
  {
   "cell_type": "markdown",
   "id": "4d2b1ec0-42a8-40bd-b33b-35ad88efe2de",
   "metadata": {},
   "source": [
    "First, let's check if the word `'technology'` belongs to our `string`. We use the `in` operator:"
   ]
  },
  {
   "cell_type": "code",
   "execution_count": 206,
   "id": "ebd108fe-86ba-4f0a-8f95-a0f7b4661e75",
   "metadata": {},
   "outputs": [
    {
     "data": {
      "text/plain": [
       "True"
      ]
     },
     "execution_count": 206,
     "metadata": {},
     "output_type": "execute_result"
    }
   ],
   "source": [
    "'technology' in my_str_low"
   ]
  },
  {
   "cell_type": "markdown",
   "id": "3e52be87-f2ab-4796-bc29-5562eda919fd",
   "metadata": {},
   "source": [
    "We got `True`, so indeed the sequence of characters forming the word 'technology' does appear in our string. Let's find where! The `find()` methods gives the index where the substring *first* appears:"
   ]
  },
  {
   "cell_type": "code",
   "execution_count": 207,
   "id": "7dd77d8f-caf1-45ab-a308-2c23d316a3c8",
   "metadata": {},
   "outputs": [
    {
     "data": {
      "text/plain": [
       "61"
      ]
     },
     "execution_count": 207,
     "metadata": {},
     "output_type": "execute_result"
    }
   ],
   "source": [
    "my_str_low.find('technology')"
   ]
  },
  {
   "cell_type": "markdown",
   "id": "24007e89-8d63-4319-8b55-4c744c74a5d7",
   "metadata": {},
   "source": [
    "What if a substring is not in the string?"
   ]
  },
  {
   "cell_type": "code",
   "execution_count": 208,
   "id": "5450b2aa-e9c5-48d8-9536-c6b04946a3da",
   "metadata": {},
   "outputs": [
    {
     "data": {
      "text/plain": [
       "-1"
      ]
     },
     "execution_count": 208,
     "metadata": {},
     "output_type": "execute_result"
    }
   ],
   "source": [
    "my_str_low.find('choice')"
   ]
  },
  {
   "cell_type": "markdown",
   "id": "8260a387-1a68-46a5-b030-0211df1072cb",
   "metadata": {},
   "source": [
    "We got `-1`. Beware! It is not the index `-1`! `find()` will always returns positive indices if it finds a substrings, and will return `-1` otherwise.\n",
    "\n",
    "Now what happens if a substring appears several times? As mentioned above, `find()` will return the index where the substring *first* appears. If we want the last instance, we can use `rfind()` (i.e., right find): "
   ]
  },
  {
   "cell_type": "code",
   "execution_count": 210,
   "id": "4af582e0-4e4a-4365-9929-2da85f669c04",
   "metadata": {},
   "outputs": [
    {
     "name": "stdout",
     "output_type": "stream",
     "text": [
      "0\n",
      "21\n"
     ]
    }
   ],
   "source": [
    "print(my_str_low.find('the'))\n",
    "print(my_str_low.rfind('the'))"
   ]
  },
  {
   "cell_type": "markdown",
   "id": "f49d777f-0c3d-436e-9fbd-b7309256e332",
   "metadata": {},
   "source": [
    "When the substring appears only once, `find()` and `rfind()` return the same index:"
   ]
  },
  {
   "cell_type": "code",
   "execution_count": 238,
   "id": "4cc61990-5ebb-4770-9e9c-dece1510b877",
   "metadata": {},
   "outputs": [
    {
     "name": "stdout",
     "output_type": "stream",
     "text": [
      "61\n",
      "61\n"
     ]
    }
   ],
   "source": [
    "print(my_str_low.find('technology'))\n",
    "print(my_str_low.rfind('technology'))"
   ]
  },
  {
   "cell_type": "markdown",
   "id": "944cc71f-ddbb-4c62-a707-61902b0a16ac",
   "metadata": {},
   "source": [
    "### Replacing substring <a name=\"replace\"></a> "
   ]
  },
  {
   "cell_type": "markdown",
   "id": "81de0ba9-8db5-438f-ba39-cdfea609689f",
   "metadata": {},
   "source": [
    "Here is a very convenient method: `replace()` will replace a substring by another. For instance, say we want to replace `'additional'` by `'extra'`:"
   ]
  },
  {
   "cell_type": "code",
   "execution_count": 211,
   "id": "a2d369f4-947d-4e37-acd1-c14a4a19b510",
   "metadata": {},
   "outputs": [
    {
     "data": {
      "text/plain": [
       "'the green premium is the extra cost of choosing a clean technology over one that emits a greater amount of greenhouse gases.'"
      ]
     },
     "execution_count": 211,
     "metadata": {},
     "output_type": "execute_result"
    }
   ],
   "source": [
    "my_str_low.replace('additional', 'extra')"
   ]
  },
  {
   "cell_type": "markdown",
   "id": "0bea0d30-1b1d-4b57-8355-398b2ebedd1a",
   "metadata": {},
   "source": [
    "But remember, `string` is immutable, so we actually did not change our original string!"
   ]
  },
  {
   "cell_type": "code",
   "execution_count": 212,
   "id": "fc0ba2f6-8c6d-41a7-9514-65620148fa6d",
   "metadata": {},
   "outputs": [
    {
     "data": {
      "text/plain": [
       "'the green premium is the additional cost of choosing a clean technology over one that emits a greater amount of greenhouse gases.'"
      ]
     },
     "execution_count": 212,
     "metadata": {},
     "output_type": "execute_result"
    }
   ],
   "source": [
    "my_str_low"
   ]
  },
  {
   "cell_type": "markdown",
   "id": "77310dc9-4efe-403f-89fa-52b6d0cd36ec",
   "metadata": {},
   "source": [
    "`replace()` converts all the substring of a string (and not only the first one)"
   ]
  },
  {
   "cell_type": "code",
   "execution_count": 245,
   "id": "981783d4-5187-41df-838d-b57f6e8d3419",
   "metadata": {},
   "outputs": [
    {
     "data": {
      "text/plain": [
       "' green premium is  additional cost of choosing a clean technology over one that emits a greater amount of greenhouse gases.'"
      ]
     },
     "execution_count": 245,
     "metadata": {},
     "output_type": "execute_result"
    }
   ],
   "source": [
    "my_str_low.replace('the','')"
   ]
  },
  {
   "cell_type": "markdown",
   "id": "3d5cfa94-c1b2-487c-a0b5-21e6f7bcf446",
   "metadata": {},
   "source": [
    "`replace()` will thus come in handy to replace missing/error values in our data, remove punctuation, or, for instance, convert Yes/No statements into 1 and 0 values."
   ]
  },
  {
   "cell_type": "markdown",
   "id": "8b2b8fc3-2832-4138-b375-8381a2a88f3e",
   "metadata": {},
   "source": [
    "### Joining <a name=\"Joining\"></a>"
   ]
  },
  {
   "cell_type": "markdown",
   "id": "0c689dab-ac37-47f1-bb4b-8b3dec9e1de4",
   "metadata": {},
   "source": [
    "The `join()` method allows to concatenate the elements of a iterable (e.g., a list or a tuple) into one string:"
   ]
  },
  {
   "cell_type": "code",
   "execution_count": 213,
   "id": "84bab369-683e-4942-99f0-873167733275",
   "metadata": {},
   "outputs": [
    {
     "data": {
      "text/plain": [
       "'circular economy premium'"
      ]
     },
     "execution_count": 213,
     "metadata": {},
     "output_type": "execute_result"
    }
   ],
   "source": [
    "word_tuple = ('circular', 'economy', 'premium')\n",
    "\n",
    "' '.join(word_tuple)"
   ]
  },
  {
   "cell_type": "markdown",
   "id": "16c17849-50a7-4bf6-8a21-c83f2825bb31",
   "metadata": {},
   "source": [
    "Note the syntax: the string before the dot `' '.` specifies what goes between the element of the iterable in the string, e.g., here, a space. But you are free to specify the seperator you wish:"
   ]
  },
  {
   "cell_type": "code",
   "execution_count": 214,
   "id": "3021d881-7b27-4ad0-948c-6d1d6ee3cdec",
   "metadata": {},
   "outputs": [
    {
     "data": {
      "text/plain": [
       "'circular ... economy ... premium'"
      ]
     },
     "execution_count": 214,
     "metadata": {},
     "output_type": "execute_result"
    }
   ],
   "source": [
    "' ... '.join(word_tuple)"
   ]
  },
  {
   "cell_type": "markdown",
   "id": "9953bfd2-6aec-401c-a7e2-0d7fee505081",
   "metadata": {},
   "source": [
    "By the way, if you are wondering what is the circular economy premium, just ask Edoardo, we are working on the topic with E4S :) "
   ]
  },
  {
   "cell_type": "markdown",
   "id": "89ec97bc-d2b9-471e-b21d-644973412c7e",
   "metadata": {},
   "source": [
    "### Formatting <a name=\"Formatting\"></a>"
   ]
  },
  {
   "cell_type": "markdown",
   "id": "3f455805-b17a-45bb-876f-f2cd2e262b9c",
   "metadata": {},
   "source": [
    "Remember when we wanted to combine strings and we used the operator `+`? Well, there is another much more powerful way using the `format()` method. Here is how it looks:"
   ]
  },
  {
   "cell_type": "code",
   "execution_count": 254,
   "id": "62471c4d-518d-435e-8ea5-57b80bfeee25",
   "metadata": {},
   "outputs": [
    {
     "name": "stdout",
     "output_type": "stream",
     "text": [
      " \n",
      "Our last observation is Cosette. \n",
      "She lives in Zurich.\n"
     ]
    }
   ],
   "source": [
    "obs_description = ''' \n",
    "Our last observation is {name}. \n",
    "She lives in {city}.'''.format(name = 'Cosette', city = 'Zurich')\n",
    "\n",
    "print(obs_description)"
   ]
  },
  {
   "cell_type": "markdown",
   "id": "ddc74f16-8fd1-4afb-bbee-0dc714bb6d69",
   "metadata": {},
   "source": [
    "See what happened? We applied the `format()` method to our string. As arguments, the `format()` method is using named keyword arguments (kwargs), here `name = 'Cosette'` and `city = 'Zurich'`. Withing the string, the kwargs are given in curly braces. The `format()` method inserts the strings as the place delimited by braces.\n",
    "\n",
    "That's nice, isn't it? But can we reach the next level and combine strings and numbers into a string, without relying on the function `str()`? Yes, we can! By using, **string conversion**, we can specify how a number should be represented in a string. The table below shows some of the most common conversion. A complete list is available in the [Python documentation](https://docs.python.org/3/library/stdtypes.html#printf-style-bytes-formatting).\n",
    "\n",
    "|conversion|description|\n",
    "|:----------:|-----------|\n",
    "|`d`| integer|\n",
    "|`04d`| integer with four digits, possibly with leading zeros|\n",
    "|`f`| float, default to six digits after decimal|\n",
    "|`.8f`| float with 8 digits after the decimal|\n",
    "|`e`| scientific notation, default to six digits after decimal|\n",
    "|`.16e`| scientific notation with 16 digits after the decimal|\n",
    "|`s`| display as a string|\n",
    "\n",
    "Let's try with some examples:"
   ]
  },
  {
   "cell_type": "code",
   "execution_count": 228,
   "id": "3aa34a40-5709-41a6-b9ab-19cf8251477f",
   "metadata": {},
   "outputs": [
    {
     "name": "stdout",
     "output_type": "stream",
     "text": [
      "Her electricity consumption is 7200 kWh per year.\n",
      "She is willing to pay an extra 0.750000 swiss francs per kWh to get green electricity.\n",
      "She is willing to pay an extra 0.750 swiss francs per kWh to get green electricity.\n",
      "She is willing to pay an extra 7.50e-01 swiss francs per kWh to get green electricity.\n",
      "She answered Yes to the question of whether she already subscribed to the Green Electricity Mix.\n"
     ]
    }
   ],
   "source": [
    "print('Her electricity consumption is {n:d} kWh per year.'.format(n=7200))\n",
    "print('She is willing to pay an extra {c:f} swiss francs per kWh to get green electricity.'.format(c=0.75))\n",
    "print('She is willing to pay an extra {c:.3f} swiss francs per kWh to get green electricity.'.format(c=0.75))\n",
    "print('She is willing to pay an extra {c:.2e} swiss francs per kWh to get green electricity.'.format(c=0.75))\n",
    "print('She answered {answer:s} to the question of whether she already subscribed to the Green Electricity Mix.'.format(answer='Yes'))"
   ]
  },
  {
   "cell_type": "markdown",
   "id": "8ee25df0-4167-4402-a7be-47c07105dc71",
   "metadata": {},
   "source": [
    "Do you understand the syntax? It is the same as for strings: kwargs as arguments of the `format()` method and kwargs inside braces in the string. However, now we also specify the conversion, i.e., how the kwarg should appear in the string. We do so by including in the braces after our kwarg a colon `:` followed by the string conversion code. For instance, for the first string, we have inside the braces `{n:d}`: `n` is our kwarg, and `d`is the string conversion for integer. Similarly in the second string, except this time we are using `f` to specify we convert a float. Note that by default, a float will appear with six digits after decimal. If we want to adjust the number of decimal, we can: in the third string we have `.3f`, meaning we only want three decimals. \n",
    "Quite neat, isn't it? Then, wait, it gets even better!"
   ]
  },
  {
   "cell_type": "markdown",
   "id": "7e6fd91e-4ba9-47ed-9768-ddf065b10202",
   "metadata": {},
   "source": [
    "### f-strings <a name=\"f-strings\"></a>"
   ]
  },
  {
   "cell_type": "markdown",
   "id": "ddb7b390-18d8-4049-9fa6-ac7a8a1a9c57",
   "metadata": {},
   "source": [
    "There is an even faster and more efficient way than the `format()` method! **f-strings** allow to directly insert some variables into strings. Even better, the syntax is quite simple: we prefix our string with `f` or `F`, and then add the name of the variable we want to insert between braces. We don't even need to specify the conversion, except if we want to adjust the default setting - for example, modify the number of decimals displayed for floats. In that case, we are using the same conversion code as for the `format()` method. Here are some illustrations:"
   ]
  },
  {
   "cell_type": "code",
   "execution_count": 236,
   "id": "953bb77c-4ad6-4b9c-b5a7-30bae8f4cdec",
   "metadata": {},
   "outputs": [
    {
     "name": "stdout",
     "output_type": "stream",
     "text": [
      "Our last observation is Cosette.\n",
      "She lives in Zurich.\n",
      "Her electricity consumption is 7200 kWh per year.\n",
      "She is willing to pay an extra 0.750 swiss francs per kWh to get green electricity.\n"
     ]
    }
   ],
   "source": [
    "name = 'Cosette'\n",
    "city = 'Zurich'\n",
    "consumption = 7200\n",
    "wtp = 0.75\n",
    "\n",
    "print(f'Our last observation is {name}.')\n",
    "print(f'She lives in {city}.')\n",
    "print(f'Her electricity consumption is {consumption} kWh per year.')\n",
    "print(f'She is willing to pay an extra {wtp:.3f} swiss francs per kWh to get green electricity.')"
   ]
  }
 ],
 "metadata": {
  "kernelspec": {
   "display_name": "Python 3 (ipykernel)",
   "language": "python",
   "name": "python3"
  },
  "language_info": {
   "codemirror_mode": {
    "name": "ipython",
    "version": 3
   },
   "file_extension": ".py",
   "mimetype": "text/x-python",
   "name": "python",
   "nbconvert_exporter": "python",
   "pygments_lexer": "ipython3",
   "version": "3.11.3"
  }
 },
 "nbformat": 4,
 "nbformat_minor": 5
}
