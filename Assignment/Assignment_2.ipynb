{
 "cells": [
  {
   "cell_type": "code",
   "execution_count": null,
   "id": "15dc4475-7f7d-4457-8762-bb031a0629b2",
   "metadata": {},
   "outputs": [],
   "source": [
    "# IMPORT YOUR LIBRARIES HERE\n",
    "\n"
   ]
  },
  {
   "cell_type": "markdown",
   "id": "a844a8c0-078c-4946-8927-e570469c601c",
   "metadata": {},
   "source": [
    "# Assignment 2\n",
    "\n",
    "Welcome to the second assignment! \n",
    "\n",
    "You will have to implement clustering, association rules, and recommender systems algorithms, applying these methods to: \n",
    "- explore the similarities within groups of people watching movies (clustering analysis)\n",
    "- discover the relations between movies genre (association rules)\n",
    "- recommend movies to users (recommender system)\n",
    "\n",
    "We will use the MovieLens dataset, which contains movie ratings collected from the MovieLens website by the [GroupLens](https://grouplens.org/) research lab.\n",
    "\n",
    "Source: F. Maxwell Harper and Joseph A. Konstan. 2015. The MovieLens Datasets: History and Context. *ACM Transactions on Interactive Intelligent Systems (TiiS)* 5, 4: 19:1–19:19. <https://doi.org/10.1145/2827872>\n",
    "\n",
    "Once you are done you have to submit your notebook here: \n",
    "[https://moodle.epfl.ch/mod/assign/view.php?id=1247726](https://moodle.epfl.ch/mod/assign/view.php?id=1247726)\n",
    "\n",
    "If there is need for further clarifications on the questions, after the assignment is released, we will update this file, so make sure you check the git repository for updates.\n",
    "\n",
    "Good luck!"
   ]
  },
  {
   "cell_type": "markdown",
   "id": "306ac928-a1e5-4dd7-8e62-b8108c22e5a9",
   "metadata": {},
   "source": [
    "## Clustering analysis: similarities between people (10 points)\n",
    "\n",
    "In this section, you will try to form clusters of individuals based on their preferences regarding movie genres. You will use a transformed version of the MovieLens dataset containing, for a selection of users:\n",
    "- their average rating of all science fiction movies they rated,\n",
    "- their average rating of all comedy movies they rated.\n",
    "\n",
    "Better understanding the differences in people's tastes can help improve the design of recommender systems, for instance for the creation of the user neighborhood. Ok, let's start!"
   ]
  },
  {
   "cell_type": "markdown",
   "id": "0beccfea-24ca-4c3f-92f1-c5a950b2cbce",
   "metadata": {},
   "source": [
    "- Load the data in a dataframe. The url link is provided below. Display the first 10 observations."
   ]
  },
  {
   "cell_type": "code",
   "execution_count": null,
   "id": "3e87e292-3eed-4193-ba24-60693606b433",
   "metadata": {},
   "outputs": [],
   "source": [
    "url_clustering = 'https://raw.githubusercontent.com/michalis0/MGT-502-Data-Science-and-Machine-Learning/main/data/ratings_clustering.csv'\n",
    "\n",
    "# YOUR CODE HERE\n",
    "\n"
   ]
  },
  {
   "cell_type": "markdown",
   "id": "34f9776b-3f5a-4738-9e27-5d86bc68f6bc",
   "metadata": {},
   "source": [
    "- Plot a dendogram using \"ward\" as linkage method and \"euclidean\" as metric. \n",
    "- Based on the dendogram, how many clusters do you think is optimal? Briefly justify your answer."
   ]
  },
  {
   "cell_type": "code",
   "execution_count": null,
   "id": "8ebaa0de-e766-42a9-a412-878d417ff40d",
   "metadata": {},
   "outputs": [],
   "source": [
    "# YOUR CODE HERE\n",
    "\n"
   ]
  },
  {
   "cell_type": "markdown",
   "id": "9783cb37-9721-436d-8915-abbde7c3ee17",
   "metadata": {},
   "source": [
    "- Implement the Elbow method to determine the optimum number of cluster for K-Means algorithm (use `random_state=17` as parameter of K-Means). \n",
    "- Based on the Elbow method, how many clusters do you think is optimal? Briefly justify your answer."
   ]
  },
  {
   "cell_type": "code",
   "execution_count": null,
   "id": "5a5bcfd7-156e-4168-a618-94a11ddf2bdb",
   "metadata": {},
   "outputs": [],
   "source": [
    "# YOUR CODE HERE\n",
    "\n"
   ]
  },
  {
   "cell_type": "markdown",
   "id": "b380737c-27d5-4e77-b47f-fe955e0c3e52",
   "metadata": {},
   "source": [
    "- Implement (train) a K-Means algorithm with the number of clusters of your choice. Use `random_state=17` as parameter."
   ]
  },
  {
   "cell_type": "code",
   "execution_count": null,
   "id": "909c937a-c278-49d6-8af0-c972172864a1",
   "metadata": {},
   "outputs": [],
   "source": [
    "# YOUR CODE HERE\n",
    "\n",
    "                                                  "
   ]
  },
  {
   "cell_type": "markdown",
   "id": "088087b0-c0d5-4b14-b9f9-db39cf63652c",
   "metadata": {},
   "source": [
    "- Implement (train) a hierarchical algorithm with the same number of clusters as for the K-Means model. Use \"ward\" as linkage method and \"euclidean\" as metric/affinity "
   ]
  },
  {
   "cell_type": "code",
   "execution_count": null,
   "id": "54fc05f2-78a3-4e36-bc9d-a9aef8a83249",
   "metadata": {},
   "outputs": [],
   "source": [
    "# YOUR CODE HERE\n",
    "\n"
   ]
  },
  {
   "cell_type": "markdown",
   "id": "936ecb5f-3c7c-469d-b504-98a6c6e8f082",
   "metadata": {},
   "source": [
    "- Create a figure consisting of two subplots:\n",
    "    - a scatterplot of 'avg_scifi_rating' and 'avg_comedy_rating' colored by the clusters predicted with your KMeans model. Add the cluster centers to your plot. Label your clusters with the name of your choice (e.g., \"Comedy aficionado\").\n",
    "    - a scatterplot of 'avg_scifi_rating' and 'avg_comedy_rating' colored by the clusters predicted with your hierarchical algorithm model. Label your clusters with the name of your choice.\n",
    "- How do your models compare?"
   ]
  },
  {
   "cell_type": "code",
   "execution_count": null,
   "id": "c1b19051-9b33-4ea4-8ef6-0851ee6c13e5",
   "metadata": {},
   "outputs": [],
   "source": [
    "# YOUR CODE HERE\n",
    "\n"
   ]
  },
  {
   "cell_type": "markdown",
   "id": "a195ca1f-77d2-446f-a178-8665c213aef1",
   "metadata": {},
   "source": [
    "## Association Rules: association between movie genres (10 points)\n",
    "\n",
    "You will now pursue your analysis, but this time trying to dig out information about movies. More precisely, you will search for matches between film genres using association rules. We try to understand, for instance, how likely it is that a film is both drama and action. This information can be interesting for film producers who may either want to produce something similar to the established norm: if most drama films are also action, perhaps the new action-drama film would be equally appreciated, or quite to the contrary try a new combination of genres which is more rare to find."
   ]
  },
  {
   "cell_type": "markdown",
   "id": "abb45c9e-c071-4dad-8011-445ff946d797",
   "metadata": {},
   "source": [
    "- Load the data in a dataframe. The url link is provided below. \n",
    "- Display the first 10 observations. \n",
    "- Print the unique values of genres from the first column. \n",
    "- How many unique genres does the first column contain? \n",
    "- How many movies does the dataframe contains?"
   ]
  },
  {
   "cell_type": "code",
   "execution_count": null,
   "id": "764800a3-1399-480f-abb3-d79609193866",
   "metadata": {},
   "outputs": [],
   "source": [
    "url_association_rules = 'https://raw.githubusercontent.com/michalis0/MGT-502-Data-Science-and-Machine-Learning/main/data/movies_assoc_rules.csv'\n",
    "\n",
    "# YOUR CODE HERE\n",
    "\n"
   ]
  },
  {
   "cell_type": "markdown",
   "id": "51bd9f12-a4a8-46ba-8cdb-ef0a3c9bf6c8",
   "metadata": {},
   "source": [
    "- Preprocessing: as seen during the lab, convert the dataset using a `Transaction Encoder` from the `mlextend` module so that the dataset is reorganised in columns of unique genres. Rows should contain only True or False boolean values according to whether a film was considered as belonging to a genre column or not. Check that you have the correct dimensions."
   ]
  },
  {
   "cell_type": "code",
   "execution_count": null,
   "id": "6d16ef7d-81a3-4fbb-95bd-88f5a2d31302",
   "metadata": {},
   "outputs": [],
   "source": [
    "# YOUR CODE HERE\n",
    "\n"
   ]
  },
  {
   "cell_type": "markdown",
   "id": "c37e0e99-7012-4efa-99e4-56eb9bd5eee5",
   "metadata": {},
   "source": [
    "- Frequent itemsets: using the Apriori algorithm to find the frequent itemsets with minimum support of 0.01. There is no condition on the maximum length of an itemset. \n",
    "- How many itemsets did the apriori algorithm return above (for min_support=0.01)? \n",
    "- What are the 10 itemsets with the largest support (you can directly display a dataframe with the 10 itemsets and their support)?"
   ]
  },
  {
   "cell_type": "code",
   "execution_count": null,
   "id": "242fe963-f30a-452c-9a64-9d74c3b8431b",
   "metadata": {},
   "outputs": [],
   "source": [
    "# YOUR CODE HERE\n",
    "\n"
   ]
  },
  {
   "cell_type": "markdown",
   "id": "f14e3247-3a63-4f7a-b43a-16c59b95708a",
   "metadata": {},
   "source": [
    "- Mining for association rules: using the frequent items identified above, find association rules with a minimum confidence of 0.45 and order them by decreasing value of lift.\n",
    "- Discuss the following statements (true or false with 1-2 lines justification)\n",
    "    - Animation films are associated with Children.  \n",
    "    - If a film has the genre Musical, then it is also a Comedy.\n",
    "    - If War then Drama is the asociation rule with the highest confidence.  "
   ]
  },
  {
   "cell_type": "code",
   "execution_count": null,
   "id": "93ff18aa-cda1-4402-857f-1b31c95ddecf",
   "metadata": {},
   "outputs": [],
   "source": [
    "# YOUR CODE HERE\n",
    "\n"
   ]
  },
  {
   "cell_type": "markdown",
   "id": "b53625e8-c4f0-4146-a4be-2c03f8df1b2a",
   "metadata": {},
   "source": [
    "*Discuss statements here* \n",
    "\n"
   ]
  },
  {
   "cell_type": "markdown",
   "id": "d08235a6-27ec-45b7-9adc-0eea440b6b02",
   "metadata": {},
   "source": [
    "## Recommender systems: item-based recommender system (10 points)\n",
    "\n",
    "In the walkthrough, we have implemented a user-to-user collaborative filtering algorithm (from scratch and using using Surprise library), i.e., our recommendations were based on the ratings of users with similar tastes. In this assignment, you will implement an **item-to-item** collaborative filtering algorithm, i.e., the recommendations will be based on the set of movies that users like. Do not worry, you won't have to implement the algorithm from scratch and instead can rely on the [Surprise library](http://surpriselib.com/). "
   ]
  },
  {
   "cell_type": "markdown",
   "id": "dc548b9a-1a50-4ada-beb4-100ffe9bd701",
   "metadata": {},
   "source": [
    "- As in the walkthrough, load the *built-in* `ml-100k` from the Surprise library."
   ]
  },
  {
   "cell_type": "code",
   "execution_count": null,
   "id": "5678f71a-015e-4fd6-aae9-ec15ccc47b72",
   "metadata": {},
   "outputs": [],
   "source": [
    "# YOUR CODE HERE\n",
    "\n"
   ]
  },
  {
   "cell_type": "markdown",
   "id": "c1b550a4-6dd1-441a-8d55-ee8b3113a932",
   "metadata": {},
   "source": [
    "- Use GridSearchCV to find the best number of neighbors (k) for a KNNWithMeans **item-based** algorithm, with the following parameters:\n",
    "    - options for k: `[10, 20, 30, 40, 50]`\n",
    "    - `'sim_options': {'name': ['pearson'], 'user_based': [???]}` Here you have to replace `???` with the appropriate value...\n",
    "    - root-mean-square-error (RMSE) as measures,\n",
    "    - 5 cross-validation folds,\n",
    "    - other parameters: `refit=True, joblib_verbose=2, n_jobs=-1`\n",
    "- What is the optimal k for which GridSearchCV returned the best RMSE score? \n",
    "- What is the RMSE score for the optimal k?"
   ]
  },
  {
   "cell_type": "code",
   "execution_count": null,
   "id": "b3971dda-842f-4091-9afe-cb186943e3aa",
   "metadata": {},
   "outputs": [],
   "source": [
    "# YOUR CODE HERE\n",
    "\n"
   ]
  },
  {
   "cell_type": "markdown",
   "id": "afd98fcb-c389-4807-b50b-bf8d56e5404b",
   "metadata": {},
   "source": [
    "- Using the Surprise library, split your dataset between training and test set. As parameters, use `test_size=0.2, random_state=12`\n",
    "- Fit a KNNWithMeans algorithm using the best k value retrieved above. As other parameters, use:\n",
    "    - `min_k=1`\n",
    "    - `sim_options = {'name': 'pearson','user_based': ???}`\n",
    "    - `verbose=False`\n",
    "- Predict ratings on the test set using your algorithm"
   ]
  },
  {
   "cell_type": "code",
   "execution_count": null,
   "id": "b342582d-44a9-486b-bcf5-6a58000487a0",
   "metadata": {},
   "outputs": [],
   "source": [
    "# YOUR CODE HERE\n",
    "\n"
   ]
  },
  {
   "cell_type": "markdown",
   "id": "9250babc-8ba9-4234-9d21-429766d34bd4",
   "metadata": {},
   "source": [
    "- Use the helper function below to identify the best 10 films for all users\n",
    "- Find the top 10 predictions for user 169 (you should return the titles of the movies)"
   ]
  },
  {
   "cell_type": "code",
   "execution_count": null,
   "id": "23fe1156-6120-416a-a03e-4b126d2964f2",
   "metadata": {},
   "outputs": [],
   "source": [
    "def read_item_names():\n",
    "    '''Read the u.item file from MovieLens 100-k dataset and return two\n",
    "    mappings to convert raw ids into movie names and movie names into raw ids.\n",
    "    '''\n",
    "\n",
    "    file_name = get_dataset_dir() + '/ml-100k/ml-100k/u.item'\n",
    "    rid_to_name = {}\n",
    "    name_to_rid = {}\n",
    "    with io.open(file_name, 'r', encoding='ISO-8859-1') as f:\n",
    "        for line in f:\n",
    "            line = line.split('|')\n",
    "            rid_to_name[line[0]] = line[1]\n",
    "            name_to_rid[line[1]] = line[0]\n",
    "\n",
    "    return rid_to_name, name_to_rid\n",
    "\n",
    "\n",
    "def get_top_n(predictions, n=10):\n",
    "    '''Return the top-N recommendation for each user from a set of predictions.\n",
    "\n",
    "    Args:\n",
    "        predictions(list of Prediction objects): The list of predictions, as\n",
    "            returned by the test method of an algorithm.\n",
    "        n(int): The number of recommendation to output for each user. Default\n",
    "            is 10.\n",
    "\n",
    "    Returns:\n",
    "    A dict where keys are user (raw) ids and values are lists of tuples:\n",
    "        [(raw item id, rating estimation), ...] of size n.\n",
    "    '''\n",
    "    # First map the predictions to each user.\n",
    "    top_n = defaultdict(list) # This is used to group a sequence of key-value pairs into a dictionary of lists\n",
    "    for uid, iid, true_r, est, _ in predictions:\n",
    "        top_n[uid].append((iid, est))\n",
    "    # Then sort the predictions for each user and retrieve the k highest ones.\n",
    "    for uid, user_ratings in top_n.items():\n",
    "        user_ratings.sort(key=lambda x: x[1], reverse=True)\n",
    "        top_n[uid] = user_ratings[:n]\n",
    "    return top_n"
   ]
  },
  {
   "cell_type": "code",
   "execution_count": null,
   "id": "a9f88a04-9eb7-49da-90ea-0f914124cd04",
   "metadata": {},
   "outputs": [],
   "source": [
    "# YOUR CODE HERE\n",
    "\n"
   ]
  },
  {
   "cell_type": "markdown",
   "id": "e0093ba6-a590-4969-bd78-5fa06b4f51b5",
   "metadata": {},
   "source": [
    "- Plot the precision at rank k and the recall at rank k on the same figure, for k between 0 and 20, and a relevance threshold of 3.75\n",
    "- Plot the precision-recall curve\n",
    "\n",
    "*You can, but do not have to, rely on the function(s) used in the lab (i.e., copying the code of the function(s))*"
   ]
  },
  {
   "cell_type": "code",
   "execution_count": null,
   "id": "81e4c671-baa8-49e3-8dc4-b86add32b952",
   "metadata": {},
   "outputs": [],
   "source": [
    "# YOUR CODE HERE\n",
    "\n"
   ]
  },
  {
   "cell_type": "markdown",
   "id": "fbc3b538-551c-4098-b82f-8c00d976a448",
   "metadata": {},
   "source": [
    "Congrats, you are done with the assignment!"
   ]
  }
 ],
 "metadata": {
  "kernelspec": {
   "display_name": "Python 3 (ipykernel)",
   "language": "python",
   "name": "python3"
  },
  "language_info": {
   "codemirror_mode": {
    "name": "ipython",
    "version": 3
   },
   "file_extension": ".py",
   "mimetype": "text/x-python",
   "name": "python",
   "nbconvert_exporter": "python",
   "pygments_lexer": "ipython3",
   "version": "3.9.4"
  }
 },
 "nbformat": 4,
 "nbformat_minor": 5
}
