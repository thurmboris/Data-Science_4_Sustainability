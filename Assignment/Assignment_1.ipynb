{
 "cells": [
  {
   "cell_type": "code",
   "execution_count": null,
   "id": "15dc4475-7f7d-4457-8762-bb031a0629b2",
   "metadata": {},
   "outputs": [],
   "source": [
    "# IMPORT YOUR LIBRARIES HERE\n"
   ]
  },
  {
   "cell_type": "markdown",
   "id": "a844a8c0-078c-4946-8927-e570469c601c",
   "metadata": {},
   "source": [
    "# Assignment 1 \n",
    "\n",
    "Welcome to the assignment! \n",
    "\n",
    "You will have to implement regression and classification algorithms, applying these methods to the topics of agriculture, food, water, and health. More precisely, you will try to:\n",
    "- predict crop yields using data on weather and fertilizer use;\n",
    "- predict the potability of water using data on the mineral and micro-organisms content of water.\n",
    "\n",
    "Once you are done you have to submit your notebook here: \n",
    "[https://moodle.epfl.ch/mod/assign/view.php?id=1244180](https://moodle.epfl.ch/mod/assign/view.php?id=1244180)\n",
    "\n",
    "If there is need for further clarifications on the questions, after the assignment is released, we will update this file, so make sure you check the git repository for updates.\n",
    "\n",
    "Good luck!"
   ]
  },
  {
   "cell_type": "markdown",
   "id": "306ac928-a1e5-4dd7-8e62-b8108c22e5a9",
   "metadata": {},
   "source": [
    "## Linear regression: predicting crop yields\n",
    "\n",
    "In 2020, between 720 million and 811 million persons worldwide were suffering from hunger (see [SDG Goal 2](https://www.un.org/sustainabledevelopment/hunger/) Zero Hunger). Given the ongoing growth of the world population, it is imperative to comprehend crop yield at a global level in order to tackle food security issues and mitigate the effects of climate change.\n",
    "\n",
    "The Agricultural yield depends on weather conditions (rain, temperature, etc) and fertilizers use. Having precise information regarding the historical crop yield is critical for making informed decisions regarding agricultural risk management and future projections.\n",
    "\n",
    "Some E4S publications on the topic of food:\n",
    "- [Threats to Nitrogen Fertilizer, Opportunities to Cultivate Sustainable Practices?](https://e4s.center/resources/reports/threats-to-nitrogen-fertilizer-opportunities-to-cultivate-sustainable-practices/)\n",
    "- [True cost of food as a lever to transform the Swiss food system](https://e4s.center/resources/reports/true-cost-of-food-as-a-lever-to-transform-the-swiss-food-system/)\n",
    "\n",
    "<img src='https://upload.wikimedia.org/wikipedia/commons/thumb/b/b7/Sustainable_Development_Goal_02ZeroHunger.svg/800px-Sustainable_Development_Goal_02ZeroHunger.svg.png' width=\"200\">\n",
    "\n",
    "We will use data obtained from the [FAO](http://www.fao.org/home/en/) (Food and Agriculture Organization) and [World Data Bank](https://data.worldbank.org/), and gathered in the [Crop Yield Prediction Dataset](https://www.kaggle.com/datasets/patelris/crop-yield-prediction-dataset).\n",
    "\n",
    "Our goal is to predict the crop yields using the temperature, rain fall, and type of crops.\n"
   ]
  },
  {
   "cell_type": "markdown",
   "id": "783579c9-3e8e-4b44-b95a-58179f897d40",
   "metadata": {},
   "source": [
    "### Question 1: Load and Discover the dataset"
   ]
  },
  {
   "cell_type": "markdown",
   "id": "0beccfea-24ca-4c3f-92f1-c5a950b2cbce",
   "metadata": {},
   "source": [
    "- Load the data in a dataframe. The url link is provided below. Display the first 10 observations and the types of data **1 point**"
   ]
  },
  {
   "cell_type": "code",
   "execution_count": 4,
   "id": "3e87e292-3eed-4193-ba24-60693606b433",
   "metadata": {},
   "outputs": [],
   "source": [
    "url_yield = 'https://raw.githubusercontent.com/michalis0/MGT-502-Data-Science-and-Machine-Learning/main/data/yield_df.csv'\n",
    "\n",
    "# YOUR CODE HERE\n"
   ]
  },
  {
   "cell_type": "markdown",
   "id": "a0916a03-2452-43da-9c5d-c5f43fddd8f2",
   "metadata": {},
   "source": [
    "- Print the list of countries ('Area') and years available in the dataset **1 point**"
   ]
  },
  {
   "cell_type": "code",
   "execution_count": null,
   "id": "af13bb43-fe6f-49ec-b2a4-2faee5cee321",
   "metadata": {},
   "outputs": [],
   "source": [
    "# YOUR CODE HERE\n"
   ]
  },
  {
   "cell_type": "markdown",
   "id": "5c92f5c7-b11c-428b-9c7c-93406aa3f413",
   "metadata": {},
   "source": [
    "- Print the list of 'Item' in the dataset. You should obtain a list of 10 crops, which are among the most consumed in the world **1 point**"
   ]
  },
  {
   "cell_type": "code",
   "execution_count": null,
   "id": "81c32aba-b1fa-46c6-b1e6-0582ab9ca55e",
   "metadata": {},
   "outputs": [],
   "source": [
    "# YOUR CODE HERE\n"
   ]
  },
  {
   "cell_type": "markdown",
   "id": "b0118e44-ca7c-4a81-998f-c8bccf4248e2",
   "metadata": {},
   "source": [
    "- Display summary statistics for the columns: 'hg/ha_yield', 'average_rain_fall_mm_per_year', 'pesticides_tonnes','avg_temp'. How many observations do we have? **1 point**\n",
    "\n",
    "*Hint:* You can extract the columns 'hg/ha_yield', 'average_rain_fall_mm_per_year', 'pesticides_tonnes','avg_temp' in a new dataframe since we will reuse it in the following questions"
   ]
  },
  {
   "cell_type": "code",
   "execution_count": null,
   "id": "4e212211-7d8d-41e7-a20f-9bcaadf9122e",
   "metadata": {},
   "outputs": [],
   "source": [
    "# YOUR CODE HERE\n"
   ]
  },
  {
   "cell_type": "markdown",
   "id": "8a995d1b-a04b-4e57-bfd9-26db5a4a0f53",
   "metadata": {},
   "source": [
    "- Display a heatmap of the correlation matrix between the columns: 'hg/ha_yield', 'average_rain_fall_mm_per_year', 'pesticides_tonnes','avg_temp' **1 point**"
   ]
  },
  {
   "cell_type": "code",
   "execution_count": null,
   "id": "b13cf896-70a1-45e6-b19a-7a7d8e9c0ae9",
   "metadata": {},
   "outputs": [],
   "source": [
    "# YOUR CODE HERE\n"
   ]
  },
  {
   "cell_type": "markdown",
   "id": "91e4d566-d5e5-4179-8807-cf7f2eb48bf9",
   "metadata": {},
   "source": [
    "- Create a boxplot of the columns: 'hg/ha_yield', 'average_rain_fall_mm_per_year', 'pesticides_tonnes','avg_temp' **1 point**"
   ]
  },
  {
   "cell_type": "code",
   "execution_count": null,
   "id": "8f14fddf-5f93-44d3-9d2d-c4a35a3b2871",
   "metadata": {},
   "outputs": [],
   "source": [
    "# YOUR CODE HERE\n"
   ]
  },
  {
   "cell_type": "markdown",
   "id": "7a26e9e8-57bc-4e83-be5d-7a8eecdc52d0",
   "metadata": {},
   "source": [
    "- Create a pairplot of the columns: 'hg/ha_yield', 'average_rain_fall_mm_per_year', 'pesticides_tonnes','avg_temp' **1 point**"
   ]
  },
  {
   "cell_type": "code",
   "execution_count": null,
   "id": "0bb5c2b1-8ff3-4bf5-96dc-fc09782cf06e",
   "metadata": {},
   "outputs": [],
   "source": [
    "# YOUR CODE HERE\n"
   ]
  },
  {
   "cell_type": "markdown",
   "id": "f3e878bc-9a34-4875-8771-f6521c2f1b66",
   "metadata": {},
   "source": [
    "- Feel free to pursue your exploration to better understand your dataset. Although not graded, this might help you better understanding the problem and answer the following questions."
   ]
  },
  {
   "cell_type": "code",
   "execution_count": null,
   "id": "7ef645ef-3117-490f-91fe-083e2f96cc97",
   "metadata": {},
   "outputs": [],
   "source": [
    "# YOUR CODE HERE\n"
   ]
  },
  {
   "cell_type": "markdown",
   "id": "9741f056-f011-469c-9527-d1d016ddce83",
   "metadata": {},
   "source": [
    "### Question 2: Multivariate regression \n",
    "\n",
    "We will try to predict the crop yields (column 'hg/ha_yield') using as features: 'Item', 'average_rain_fall_mm_per_year', 'pesticides_tonnes','avg_temp'\n",
    "\n",
    "- Extract your features and outcome **1 point**"
   ]
  },
  {
   "cell_type": "code",
   "execution_count": null,
   "id": "4f218896-30f9-41d9-95a8-7550ab0fcdb6",
   "metadata": {},
   "outputs": [],
   "source": [
    "# YOUR CODE HERE\n"
   ]
  },
  {
   "cell_type": "markdown",
   "id": "fccaf94d-c35f-46b8-ae64-456446f93bf7",
   "metadata": {},
   "source": [
    "- Split between training and test set **1 point**\n",
    "\n",
    "*Note*: Use as option: `test_size=0.2`, `random_state=42`, `shuffle=True`"
   ]
  },
  {
   "cell_type": "code",
   "execution_count": null,
   "id": "0ebc8bd9-7d91-4b60-a545-dcc254897368",
   "metadata": {},
   "outputs": [],
   "source": [
    "# YOUR CODE HERE\n"
   ]
  },
  {
   "cell_type": "markdown",
   "id": "9511b15e-2147-48c7-82e0-24bf45bd194e",
   "metadata": {},
   "source": [
    "- Encode the column 'Item' using `LabelEncoder` **1 point**\n",
    "\n",
    "*Note*: After training your encoder, you need to transform the values of both the training and test set"
   ]
  },
  {
   "cell_type": "code",
   "execution_count": null,
   "id": "c155159a-d993-4dca-8320-5e2a39725929",
   "metadata": {},
   "outputs": [],
   "source": [
    "# YOUR CODE HERE\n"
   ]
  },
  {
   "cell_type": "markdown",
   "id": "99c27197-47b0-4d46-a65b-8226d0accef8",
   "metadata": {},
   "source": [
    "- Rescale your features using `MinMaxScaler` **1 point**"
   ]
  },
  {
   "cell_type": "code",
   "execution_count": null,
   "id": "4b429b73-27ca-4816-9377-02114e939a58",
   "metadata": {},
   "outputs": [],
   "source": [
    "# YOUR CODE HERE\n"
   ]
  },
  {
   "cell_type": "markdown",
   "id": "d62901f2-e2c9-46f9-bffe-0d0f431a0f1d",
   "metadata": {},
   "source": [
    "- Build and train a multivariate linear regression model **1 point**"
   ]
  },
  {
   "cell_type": "code",
   "execution_count": null,
   "id": "fb27386b-b84e-4c51-9445-6d6712178d15",
   "metadata": {},
   "outputs": [],
   "source": [
    "# YOUR CODE HERE\n"
   ]
  },
  {
   "cell_type": "markdown",
   "id": "b52fa49c-f2a9-4c43-8170-80ef1d6f3326",
   "metadata": {},
   "source": [
    "- What is the $R^2$, mean absolute error, and mean square error on the training set? On the test set? What do you think? **1 point**"
   ]
  },
  {
   "cell_type": "code",
   "execution_count": null,
   "id": "8ac40095-701c-47d3-81ca-06e6740bd439",
   "metadata": {},
   "outputs": [],
   "source": [
    "# YOUR CODE HERE\n"
   ]
  },
  {
   "cell_type": "markdown",
   "id": "44ee7320-d129-4cdc-975c-4c682b4ad351",
   "metadata": {},
   "source": [
    "### Question 3: Polynomial features regression\n",
    "\n",
    "We will try to improve the quality of our prediction using `PolynomialFeatures`.\n",
    "\n",
    "- Write a function that is using as inputs the degree of polynomial features (an integer), the training and test set (for your features and outcome), and return the $R^2$, mean absolute error, and mean square error on the training and on the set of a polynomial feature regression **3 points**\n",
    "\n",
    "*Hint:* You do not need to include in your function the splitting, encoding and scaling since we will reuse the ones set created before (as before). Your function should transform your training and test set to integrate polynomial features, then build and train your model, before calculating the various error metrics."
   ]
  },
  {
   "cell_type": "code",
   "execution_count": null,
   "id": "b37d9b98-d3c6-4ca7-b934-7fe7e48bbda8",
   "metadata": {},
   "outputs": [],
   "source": [
    "# YOUR CODE HERE\n"
   ]
  },
  {
   "cell_type": "markdown",
   "id": "28d9dab7-aabd-4198-8306-f434f5f949e3",
   "metadata": {},
   "source": [
    "- What are the the $R^2$, mean absolute error, and mean square error on the training and on the set of a polynomial features regression with degree = 3? With degree = 7? **1 point**"
   ]
  },
  {
   "cell_type": "code",
   "execution_count": null,
   "id": "1e055746-5a5c-4381-b662-ed548e2cf503",
   "metadata": {},
   "outputs": [],
   "source": [
    "# YOUR CODE HERE\n"
   ]
  },
  {
   "cell_type": "markdown",
   "id": "04100b38-57e6-46c9-9a63-43c141d4b299",
   "metadata": {},
   "source": [
    "- Plot the evolution of the MSE on the training set for a polynomial feature regression model when the degree goes from 2 to 10. On the same figure, plot the MSE on the test set for a polynomial feature regression model, when the degree goes from 2 to 10. Which degree would you choose and why? **2 points**"
   ]
  },
  {
   "cell_type": "code",
   "execution_count": null,
   "id": "752710bf-a720-41d9-92c7-d196922ad96c",
   "metadata": {},
   "outputs": [],
   "source": []
  },
  {
   "cell_type": "markdown",
   "id": "5443919d-7150-49c6-8efe-6421b6ff65f5",
   "metadata": {},
   "source": [
    "### Question 4: Ridge and cross-validation\n",
    "\n",
    "- Build, train, and evaluate a polynomial features regression model, with Ridge regularization, and cross validation. For number of degree, select the one that you picked before. How does your new model compares to your previous one? **3 points**"
   ]
  },
  {
   "cell_type": "code",
   "execution_count": null,
   "id": "7c2ff6d1-f084-4a14-908d-bc3ac129cd99",
   "metadata": {},
   "outputs": [],
   "source": [
    "# YOUR CODE HERE\n"
   ]
  },
  {
   "cell_type": "markdown",
   "id": "9726e7f3-6c1d-4091-96d6-62cf5ada771e",
   "metadata": {},
   "source": [
    "### Question 5: One-Hot encoding\n",
    "\n",
    "We will check how the encoding influenced our results.\n",
    "\n",
    "- Split your original dataset between training and test set (using the same parameters as in Question 2). This time, encode the column 'Item' using `OneHotEncoder`. Finally, rescale your features. **1 point**"
   ]
  },
  {
   "cell_type": "code",
   "execution_count": null,
   "id": "e8fc3a22-a1fa-4c03-a505-fbb3b4413afa",
   "metadata": {},
   "outputs": [],
   "source": [
    "# YOUR CODE HERE\n"
   ]
  },
  {
   "cell_type": "markdown",
   "id": "562ea67b-63b7-4e3e-81b2-514f592c277e",
   "metadata": {},
   "source": [
    "- Build, train, and evaluate a polynomial features regression model, with the same number of degrees as before, but this time with the one-hot encoded data. How does your model compares to the polynomial features regression model (Question 3)? **2 points**"
   ]
  },
  {
   "cell_type": "code",
   "execution_count": null,
   "id": "5f19c783-76c6-4a18-9282-10cc40fb1d4f",
   "metadata": {},
   "outputs": [],
   "source": [
    "# YOUR CODE HERE\n"
   ]
  },
  {
   "cell_type": "markdown",
   "id": "d08235a6-27ec-45b7-9adc-0eea440b6b02",
   "metadata": {},
   "source": [
    "## Classification\n",
    "\n",
    "Access to safe drinking-water is essential to health, a basic human right and a component of effective policy for health protection. However, for a least 3 billion people, the quality of the water they depend on is unknown due to a lack of monitoring (see [SDG Goal 6](https://sdgs.un.org/goals/goal6) \"Ensure availability and sustainable management of water and sanitation for all\"). \n",
    "\n",
    "<img src='https://upload.wikimedia.org/wikipedia/commons/thumb/8/87/Sustainable_Development_Goal_6.png/800px-Sustainable_Development_Goal_6.png' width=\"200\">\n",
    "\n",
    "We will use data from the [Water Quality](https://www.kaggle.com/datasets/mssmartypants/water-quality) dataset to try to predict whether the water is safe to drink depending on the concentration of various minerals and microorganisms. Check the webpage to read a description of the features and get a better understanding of our problem."
   ]
  },
  {
   "cell_type": "markdown",
   "id": "c15fbefb-e6b7-47ad-aaf0-d411c82a84f4",
   "metadata": {},
   "source": [
    "### Question 6: Load and Discover the dataset"
   ]
  },
  {
   "cell_type": "markdown",
   "id": "9e484596-0a73-4b6a-a5c5-8a8cd02f8ac2",
   "metadata": {},
   "source": [
    "- Load the data in a dataframe. The url link is provided below. Display the first 10 observations and the types of data"
   ]
  },
  {
   "cell_type": "code",
   "execution_count": 114,
   "id": "2b92e6a4-30b0-44b4-b986-9b5d1c472842",
   "metadata": {},
   "outputs": [],
   "source": [
    "url_water = 'https://raw.githubusercontent.com/michalis0/MGT-502-Data-Science-and-Machine-Learning/main/data/waterQuality1.csv'\n",
    "\n",
    "# YOUR CODE HERE\n"
   ]
  },
  {
   "cell_type": "markdown",
   "id": "61c68ed6-2ecc-4c1a-9dad-f089e34e532d",
   "metadata": {},
   "source": [
    "- Display summary statistics of your dataset and a heatmap of your correlation matrix **1 point**"
   ]
  },
  {
   "cell_type": "code",
   "execution_count": null,
   "id": "a1128ae7-344f-4b76-ac8c-064fa1ffb293",
   "metadata": {},
   "outputs": [],
   "source": [
    "# YOUR CODE HERE\n"
   ]
  },
  {
   "cell_type": "markdown",
   "id": "37f1fb5b-db18-42f5-ac79-62e80034cd77",
   "metadata": {},
   "source": [
    "- Create a pairplot including the columns \"arsenic\", \"cadmium\", \"chromium\", \"copper\", \"bacteria\", \"viruses\", \"lead\", \"nitrates\", \"mercury\"; and color by the class \"is_safe\" **1 points**"
   ]
  },
  {
   "cell_type": "code",
   "execution_count": null,
   "id": "e8185272-0722-4ae7-921e-8e6f139a0f40",
   "metadata": {},
   "outputs": [],
   "source": [
    "# YOUR CODE HERE\n"
   ]
  },
  {
   "cell_type": "markdown",
   "id": "42054742-c2fb-4976-b401-ea6830ea833f",
   "metadata": {},
   "source": [
    "- Feel free to pursue your exploration to better understand your dataset. Although not graded, this might help you better understanding the problem and answer the following questions."
   ]
  },
  {
   "cell_type": "code",
   "execution_count": null,
   "id": "e1892050-1f1e-42d5-ad07-32fe0910bf01",
   "metadata": {},
   "outputs": [],
   "source": [
    "# YOUR CODE HERE\n"
   ]
  },
  {
   "cell_type": "markdown",
   "id": "b3071c9e-1801-4e27-9a4c-8893ac08ef03",
   "metadata": {},
   "source": [
    "### Question 7: Preprocessing"
   ]
  },
  {
   "cell_type": "markdown",
   "id": "6522cf94-1f4f-497e-9015-d60f143a47e4",
   "metadata": {},
   "source": [
    "We will try to predict the class \"is_safe\", using all the other features."
   ]
  },
  {
   "cell_type": "markdown",
   "id": "cb8282bf-987f-4409-baaf-39610e66712b",
   "metadata": {},
   "source": [
    "- Extract your features and outcome. How many observations do we have of class 0 and of class 1? **1 point**"
   ]
  },
  {
   "cell_type": "code",
   "execution_count": 191,
   "id": "218d4647-0200-4998-8b5d-5de08fe181a1",
   "metadata": {},
   "outputs": [],
   "source": [
    "# YOUR CODE HERE\n"
   ]
  },
  {
   "cell_type": "markdown",
   "id": "d39e9c21-ba17-4627-b467-22a14b4cd7fb",
   "metadata": {},
   "source": [
    "- Split between training and test set **1 point**\n",
    "\n",
    "*Note*: Use as parameters for splitting: `test_size=0.2`, `random_state=39`, `shuffle=True`"
   ]
  },
  {
   "cell_type": "code",
   "execution_count": null,
   "id": "a5898455-ac15-4eb2-9d48-6c058f191131",
   "metadata": {},
   "outputs": [],
   "source": [
    "# YOUR CODE HERE\n"
   ]
  },
  {
   "cell_type": "markdown",
   "id": "7ea3208e-e021-4e0e-90f8-f6c6eb81c02a",
   "metadata": {},
   "source": [
    "- Rescale your features using `StandardScaler` **1 point**"
   ]
  },
  {
   "cell_type": "code",
   "execution_count": null,
   "id": "8f1b4cb5-1656-4353-8639-5a8a378f5cef",
   "metadata": {},
   "outputs": [],
   "source": [
    "# YOUR CODE HERE\n"
   ]
  },
  {
   "cell_type": "markdown",
   "id": "c1a78d5a-7e57-49a3-8f15-7fa6f15e5027",
   "metadata": {},
   "source": [
    "### Question 8: Logistic Regression"
   ]
  },
  {
   "cell_type": "markdown",
   "id": "fe653332-9ff8-4ad6-a5ab-4e438a7d4f14",
   "metadata": {},
   "source": [
    "- Build and train a logistic regression classifier, using as parameters `penalty='l2'`, `solver='lbfgs'`, `max_iter=1000` **1 point**"
   ]
  },
  {
   "cell_type": "code",
   "execution_count": null,
   "id": "7cadc026-ffb9-4aea-b541-674127da7e3c",
   "metadata": {},
   "outputs": [],
   "source": [
    "# YOUR CODE HERE\n"
   ]
  },
  {
   "cell_type": "markdown",
   "id": "a4cb3a09-4c5e-4e89-84fe-aedfe7df7fc1",
   "metadata": {},
   "source": [
    "- Compute the accuracy on the training and test set. Compare it to the default rate. **1 point** "
   ]
  },
  {
   "cell_type": "code",
   "execution_count": null,
   "id": "a716618f-ed45-49d1-8f86-fb000e7304ac",
   "metadata": {},
   "outputs": [],
   "source": [
    "# YOUR CODE HERE\n"
   ]
  },
  {
   "cell_type": "markdown",
   "id": "e70c2ae2-4659-4ae0-a79a-504b3c76443f",
   "metadata": {},
   "source": [
    "- Plot a heatmap of the confusion matrix. Class 1 is the positive class. How many false positive did we obtain? **1 point**"
   ]
  },
  {
   "cell_type": "code",
   "execution_count": null,
   "id": "5eac357c-07e3-416e-8a25-e36991a65a70",
   "metadata": {},
   "outputs": [],
   "source": [
    "# YOUR CODE HERE\n"
   ]
  },
  {
   "cell_type": "markdown",
   "id": "c8755d13-e60d-47a0-8f1b-da6533c7d09a",
   "metadata": {},
   "source": [
    "- What is the precision, recall, and f1 score of class 1? Interpret the result. **1 point**"
   ]
  },
  {
   "cell_type": "code",
   "execution_count": null,
   "id": "f534e8c8-e260-44a5-a919-87a2b5766ee7",
   "metadata": {},
   "outputs": [],
   "source": [
    "# YOUR CODE HERE\n"
   ]
  },
  {
   "cell_type": "markdown",
   "id": "be0dd998-c956-4728-9075-34cb13eeee1e",
   "metadata": {},
   "source": [
    "- Build and train a logistic regression classifier with cross-validation, using 5 folds **1 point**"
   ]
  },
  {
   "cell_type": "code",
   "execution_count": null,
   "id": "f345bab1-5985-401f-8141-f01198cb1028",
   "metadata": {},
   "outputs": [],
   "source": [
    "# YOUR CODE HERE\n"
   ]
  },
  {
   "cell_type": "markdown",
   "id": "f89355fb-1030-41d4-9d60-5c804f28ad54",
   "metadata": {},
   "source": [
    "- Plot a heatmap of the confusion matrix. Compute the accuracy on the training and test set; as well as the precision, recall, and f1 score of class 1. How do your metrics compare to your model without cross-validation? **1 point**\n",
    "\n",
    "*Note*: You can, but not have to, create a function to calculate your evaluation metrics since we will perform the same operation later on."
   ]
  },
  {
   "cell_type": "code",
   "execution_count": null,
   "id": "9efa9de8-956e-45a2-b3fe-a798b1bf93f2",
   "metadata": {},
   "outputs": [],
   "source": [
    "# YOUR CODE HERE\n"
   ]
  },
  {
   "cell_type": "markdown",
   "id": "59c37554-92a3-44b3-83ec-39fd76a16b39",
   "metadata": {},
   "source": [
    "### Question 9: KNN classifier"
   ]
  },
  {
   "cell_type": "markdown",
   "id": "3e829a37-268e-4310-9b51-d868020e1488",
   "metadata": {},
   "source": [
    "- Build and train a KNN classifier with parameters `n_neighbors=7`, `p=2`, `weights='uniform'` **1 point**"
   ]
  },
  {
   "cell_type": "code",
   "execution_count": null,
   "id": "2ead0216-3239-4a1b-9bc3-00f8601628a4",
   "metadata": {},
   "outputs": [],
   "source": [
    "# YOUR CODE HERE\n"
   ]
  },
  {
   "cell_type": "markdown",
   "id": "0b09b651-b03a-4cfc-b514-a823c6914ca5",
   "metadata": {},
   "source": [
    "- Plot a heatmap of the confusion matrix. Compute the accuracy on the training and test set; as well as the precision, recall, and f1 score of class 1. How do your metrics compare to your previous models? **1 point**"
   ]
  },
  {
   "cell_type": "code",
   "execution_count": null,
   "id": "c9accce5-d52d-44f4-a006-8b4b1f4885f9",
   "metadata": {},
   "outputs": [],
   "source": [
    "# YOUR CODE HERE\n"
   ]
  },
  {
   "cell_type": "markdown",
   "id": "63b12db0-a203-4c0e-8976-7e4035a6ea8e",
   "metadata": {},
   "source": [
    "- Use `GridSearchCV` to explore different parameters for your model: `n_neighbors` between 1 and 11, `p` between 1 and 3, and `weights` either 'uniform' or 'distance' **1 point**"
   ]
  },
  {
   "cell_type": "code",
   "execution_count": null,
   "id": "9c99ee6b-c812-4672-9ce5-a98c79a25c67",
   "metadata": {},
   "outputs": [],
   "source": [
    "# YOUR CODE HERE\n"
   ]
  },
  {
   "cell_type": "markdown",
   "id": "aef17736-e4de-477a-9a08-ac5afa8cb29f",
   "metadata": {},
   "source": [
    "- For your \"optimal\" model, compute the accuracy on the training and test set; as well as the precision, recall, and f1 score of class 1. How do your metrics compare to your previous models? **1 point** "
   ]
  },
  {
   "cell_type": "code",
   "execution_count": null,
   "id": "b0e5e182-ecd4-4bba-8605-5a27df95ef4b",
   "metadata": {},
   "outputs": [],
   "source": [
    "# YOUR CODE HERE\n"
   ]
  },
  {
   "cell_type": "markdown",
   "id": "45dc258a-d7cb-46da-a8cb-c3749a6bbe03",
   "metadata": {},
   "source": [
    "### Question 10: Decision Trees"
   ]
  },
  {
   "cell_type": "markdown",
   "id": "b267fafa-a5b4-4759-a6ec-9b95ef00e3ff",
   "metadata": {},
   "source": [
    "- Build and train a Decision Tree with parameters `criterion = 'gini'`, `max_depth = 3` **1 point**"
   ]
  },
  {
   "cell_type": "code",
   "execution_count": null,
   "id": "b6ce7ca3-5d8a-4e8a-b1b2-f310847373fb",
   "metadata": {},
   "outputs": [],
   "source": [
    "# YOUR CODE HERE\n"
   ]
  },
  {
   "cell_type": "markdown",
   "id": "e154e70d-e2b8-4a8b-b6f6-a53ddbfba37d",
   "metadata": {},
   "source": [
    "- Plot a heatmap of the confusion matrix. Compute the accuracy on the training and test set; as well as the precision, recall, and f1 score of class 1. How do your metrics compare to your previous models? **1 point**"
   ]
  },
  {
   "cell_type": "code",
   "execution_count": null,
   "id": "f1997aca-cbf3-4a23-bf65-bcdd15293d80",
   "metadata": {},
   "outputs": [],
   "source": [
    "# YOUR CODE HERE\n"
   ]
  },
  {
   "cell_type": "markdown",
   "id": "4cc151dd-9582-4c76-bde6-4d9a0dea9c11",
   "metadata": {},
   "source": [
    "- Visualize your Decision Tree **1 point**"
   ]
  },
  {
   "cell_type": "code",
   "execution_count": null,
   "id": "5e817f98-e0e1-4753-8a00-a81f545a93e7",
   "metadata": {},
   "outputs": [],
   "source": [
    "# YOUR CODE HERE\n"
   ]
  },
  {
   "cell_type": "markdown",
   "id": "aacfc59f-7aa0-4030-9ef0-58a051be89e7",
   "metadata": {},
   "source": [
    "- Use `GridSearchCV` to explore different parameters for your model: `criterion` either 'gini' or 'entropy' and `max_depth` between 1 and 7 **1 point**"
   ]
  },
  {
   "cell_type": "code",
   "execution_count": null,
   "id": "abab96a6-d754-4e5b-9e8c-f756760a2f88",
   "metadata": {},
   "outputs": [],
   "source": [
    "# YOUR CODE HERE\n"
   ]
  },
  {
   "cell_type": "markdown",
   "id": "daf7a522-280b-4cc1-8893-81ae00092957",
   "metadata": {},
   "source": [
    "- For your \"optimal\" model, compute the accuracy on the training and test set; as well as the precision, recall, and f1 score of class 1. How do your metrics compare to your previous models? **1 point** "
   ]
  },
  {
   "cell_type": "code",
   "execution_count": null,
   "id": "5d57ad79-6c5d-4385-8b36-7141cf54801d",
   "metadata": {},
   "outputs": [],
   "source": [
    "# YOUR CODE HERE\n"
   ]
  },
  {
   "cell_type": "markdown",
   "id": "fbc3b538-551c-4098-b82f-8c00d976a448",
   "metadata": {},
   "source": [
    "Congrats, you are done with the assignment!"
   ]
  }
 ],
 "metadata": {
  "kernelspec": {
   "display_name": "Python 3 (ipykernel)",
   "language": "python",
   "name": "python3"
  },
  "language_info": {
   "codemirror_mode": {
    "name": "ipython",
    "version": 3
   },
   "file_extension": ".py",
   "mimetype": "text/x-python",
   "name": "python",
   "nbconvert_exporter": "python",
   "pygments_lexer": "ipython3",
   "version": "3.9.4"
  }
 },
 "nbformat": 4,
 "nbformat_minor": 5
}
