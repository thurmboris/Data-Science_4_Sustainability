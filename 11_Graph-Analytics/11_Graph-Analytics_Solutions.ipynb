{
 "cells": [
  {
   "cell_type": "code",
   "execution_count": null,
   "metadata": {},
   "outputs": [],
   "source": [
    "# Import standard libraries\n",
    "import pandas as pd\n",
    "import numpy as np\n",
    "from operator import itemgetter\n",
    "import collections\n",
    "import itertools\n",
    "import seaborn as sns\n",
    "import matplotlib.pylab as plt\n",
    "%matplotlib inline\n",
    "import warnings\n",
    "warnings.filterwarnings('ignore')\n",
    "\n",
    "# Network import\n",
    "import networkx as nx\n",
    "from community import community_louvain"
   ]
  },
  {
   "cell_type": "markdown",
   "metadata": {},
   "source": [
    "# Graph Analytics\n",
    "\n",
    "<img src='https://upload.wikimedia.org/wikipedia/commons/thumb/d/d2/Internet_map_1024.jpg/600px-Internet_map_1024.jpg' width=\"350\">\n",
    "\n",
    "Internet map from The Opte Project, [Wikipedia](https://en.wikipedia.org/wiki/File:Internet_map_1024.jpg)\n"
   ]
  },
  {
   "cell_type": "markdown",
   "metadata": {},
   "source": [
    "## Content\n",
    "\n",
    "The goal of this walkthrough is to provide you with insights on Graph Analytics. After presenting the main concepts, you will be introduced to the techniques to create, visualize, and analyze graphs. Finally, you will practice implementing these techniques.  \n",
    "\n",
    "This notebook is organized as follows:\n",
    "- [Background](#Background)\n",
    "    - [Concepts](#Concepts)\n",
    "- [Implementation](#Implementation)\n",
    "    - [Undirected Graph](#Undirected-Graph)\n",
    "    - [Directed Graph](#Directed-Graph)\n",
    "    - [Weighted Graph](#Weighted-Graph)\n",
    "    - [Some helper functions](#Some-helper-functions)\n",
    "    - [Erdős–Rényi graph](#Erdős–Rényi-graph)\n",
    "    - [Zachary's Karate Club Network](#Zachary's-Karate-Club-Network)\n",
    "    - [Diameter and Shortest Paths](#Diameter-and-Shortest-Paths)\n",
    "    - [Centrality and important nodes](#Centrality-and-important-nodes)\n",
    "        - [Degree centrality](#Degree-centrality)\n",
    "        - [Betweenness centrality](#Betweenness-centrality)\n",
    "        - [PageRank](#PageRank)\n",
    "    - [Community detection](#Community-detection)\n",
    "- [Your Turn!](#Your-Turn!)"
   ]
  },
  {
   "cell_type": "markdown",
   "metadata": {},
   "source": [
    "## Background\n",
    "\n",
    "[Graphs](https://en.wikipedia.org/wiki/Graph_theory) are mathematical structures used to model pairwise relations between objects. These objects are referred to as vertices (or nodes) and the relationships as edges (or links).\n",
    "\n",
    "Many social, political, financial, economic interactions occur between different parties/entities. A graph is a abstraction that allows the representation, visualization, and analysis of of interactions between entities.\n",
    "\n",
    "A [network](https://en.wikipedia.org/wiki/Network_theory) is a graph where the nodes or edges possess attributes. For instance, a typical network might be an edge-weighted graph where the weights refer to costs, lengths or capacities.\n",
    "\n",
    "Graph analytics and [network theory](https://en.wikipedia.org/wiki/Network_theory) have applications in many fields including:\n",
    "- electrical and civil engineering,, e.g., to design and to identify weaknesses in power grids, water grids, and transportation networks\n",
    "- epidemiology, e.g., to analyze the spread of pandemics \n",
    "- ecology, e.g., to analyze the nature and strength of interactions between species such as [food-webs](https://en.wikipedia.org/wiki/Food_web)\n",
    "- biology, e.g., to understand cooperative behaviors. See for instance:\n",
    "    - Nowak, M. (2006). Five Rules for the Evolution of Cooperation. *Science* 314(5805), DOI: [10.1126/science.1133755](https://www.science.org/doi/full/10.1126/science.1133755)\n",
    "    - Ohtsuki, H., Hauert, C., Lieberman, E., & Nowak, M. A. (2006). A simple rule for the evolution of cooperation on graphs and social networks. *Nature*, 441(7092), 502-505. DOI: [10.1038/nature04605](https://www.nature.com/articles/nature04605)\n",
    "- sociology to examine the structure of relationships between social entities, e.g., to understand friendships networks and online behaviors. See for instance:\n",
    "    - Currarini, S., Jackson, M. O., & Pin, P. (2009). An economic model of friendship: Homophily, minorities, and segregation. *Econometrica*, 77(4), 1003-1045. DOI: [10.3982/ECTA7528](https://onlinelibrary.wiley.com/doi/abs/10.3982/ECTA7528)\n",
    "- [economics](https://en.wikipedia.org/wiki/Economics_of_networks), e.g., to analyze trades and markets, relations between firms, or employment and inequalities. See for instance:\n",
    "    - Calvo-Armengol, A., & Jackson, M. O. (2004). The effects of social networks on employment and inequality. American economic review, 94(3), 426-454. DOI: [10.1257/0002828041464542](https://www.aeaweb.org/articles?id=10.1257/0002828041464542)\n",
    "- finance, e.g., to study cascades of failures. See for instance:\n",
    "    - Elliott, M., Golub, B., & Jackson, M. O. (2014). Financial networks and contagion. *American Economic Review*, 104(10), 3115-3153. DOI [10.1257/aer.104.10.3115](https://www.aeaweb.org/articles?id=10.1257/aer.104.10.3115) \n",
    "- criminology, e.g., to detect fraud and prevent crime via [link analysis](https://en.wikipedia.org/wiki/Link_analysis) \n",
    "- and many more..."
   ]
  },
  {
   "cell_type": "markdown",
   "metadata": {},
   "source": [
    "### Concepts\n",
    "\n",
    "Let's define a few important concepts that we will use and illustrate throughout this notebook.\n",
    "\n",
    "A graph is **connected** when there is a path between every pair of vertices. A [component](https://en.wikipedia.org/wiki/Component_(graph_theory)), also called connected component, is a group of vertices that are connected to each other by paths. In a connected graph, there is one component: the whole graph.  \n",
    "\n",
    "The [**distance**](https://en.wikipedia.org/wiki/Distance_(graph_theory)) between two vertices in a graph is the number of edges in a shortest path connecting them. It is also called **geodesic** distance or **shortest-path** distance.\n",
    "- The **diameter** of the graph is the maximum length of the shortest path.\n",
    "- The [**average shortest path length**](https://en.wikipedia.org/wiki/Average_path_length) is defined as the average number of steps along the shortest paths for all possible pairs of network nodes. Let $V$ be the set of nodes in the graph, $d(s,t)$ shortest path from node $s$ to node $t$, and $n$ the number of nodes, the average shortest path length $a$ is defined as:\n",
    "$$a=\\sum_{s \\neq t \\in V} \\frac{d(s,t)}{n(n-1)}$$\n",
    "\n",
    "The [**adjacency matrix**](https://en.wikipedia.org/wiki/Adjacency_matrix) is a square matrix used to represent a finite graph, where the elements of the matrix indicate whether pairs of vertices are adjacent (i.e., connected) or not in the graph.\n",
    "\n",
    "The [**centrality**](https://en.wikipedia.org/wiki/Centrality) of a node indicates its importance in the graph. There are many measures of centrality, including:\n",
    "- *degree centrality*, defined as the number of links incident upon a node (i.e., the number of ties that a node has).\n",
    "- [*betweenness centrality*](https://en.wikipedia.org/wiki/Betweenness_centrality), defined as the number of shortest paths that pass through a node. Formally, the betweenness centrality of a node $v$ is $g(v)=\\sum_{s \\neq v \\neq t} \\frac{\\sigma_{st}(v)}{\\sigma_{st}}$ with $\\sigma_{st}$ the total number of shortest paths from node $s$ to $t$ and $\\sigma_{st}(v)$ the number of those paths that pass through $v$.\n",
    "- *closeness centrality*, defined as the average length of the shortest path between the node and all other nodes in the graph. In particular, the *Harmonic centrality* of a node $v$ is: $H(v)=\\sum_{u \\neq v}\\frac{1}{d(u,v)}$\n",
    "- [*PageRank*](https://en.wikipedia.org/wiki/PageRank) is an algorithm used to measure the importance of each node within the graph. It was invented by Larry Page and Sergey Brin, founders of Google, to help rank webpages in web search. In a nutshell, Pagerank finds the probability that a someone wondering randomly on the graph will end up on or pass from a node. "
   ]
  },
  {
   "cell_type": "markdown",
   "metadata": {},
   "source": [
    "## Implementation"
   ]
  },
  {
   "cell_type": "markdown",
   "metadata": {},
   "source": [
    "We will use the **NetworkX** package ([Documentation](https://networkx.org/)). The package facilitates the creation, manipulation, and study of the structure, dynamics, and functions of complex networks. It has a broad range of example networks that we can load with just a function call ([Gallery](https://networkx.github.io/documentation/stable/auto_examples/index.html)).\n",
    "\n",
    "In addition, we will rely on the `python-louvain` module ([Documentation](https://python-louvain.readthedocs.io/en/latest/)). This module implements community detection. These techniques are useful to detect groups with similar properties.\n",
    "\n",
    "You can install `networkx` and `python-louvain` in your Conda environment. Alternatively, if you are using Colab, you can use the following line of code:\n",
    "```python\n",
    "pip install networkx python-louvain\n",
    "```\n",
    "\n",
    "Ok, all set, let's start creating and visualizing graphs!"
   ]
  },
  {
   "cell_type": "markdown",
   "metadata": {},
   "source": [
    "### Undirected Graph"
   ]
  },
  {
   "cell_type": "markdown",
   "metadata": {},
   "source": [
    "Let's start by building a simple **undirected graph**, which is a graph where the edges (links) are bidirectional, i.e., with no direction associated with them.\n",
    "\n",
    "We can use the `Graph` class to create an undirected graph ([Documentation](https://networkx.org/documentation/stable/reference/classes/graph.html#networkx.Graph)). To add nodes and edges we use:\n",
    "- `add_node()`: add one node\n",
    "- `add_nodes_from()`: add multiple nodes\n",
    "- `add_edge()`: add one edge\n",
    "- `add_edges_from`: add multiple edges"
   ]
  },
  {
   "cell_type": "code",
   "execution_count": null,
   "metadata": {},
   "outputs": [],
   "source": [
    "# Create instance of an undirected graph\n",
    "G = nx.Graph() \n",
    "\n",
    "# Add nodes\n",
    "G.add_node(1)\n",
    "G.add_nodes_from(range(2,10))  # add multiple nodes at once\n",
    "\n",
    "# Add edges \n",
    "G.add_edge(1,2)\n",
    "edges = [(2,3), (3,4), (4,5), (5,6), (6,7), (7,8), (8,9), (9,1)]\n",
    "G.add_edges_from(edges)\n",
    "\n",
    "print('Our graph has nodes:', G.nodes())\n",
    "print('The edges are:', G.edges())"
   ]
  },
  {
   "cell_type": "markdown",
   "metadata": {},
   "source": [
    "With `is_directed`, we can check if our graph is directed or not:"
   ]
  },
  {
   "cell_type": "code",
   "execution_count": null,
   "metadata": {},
   "outputs": [],
   "source": [
    "print(G.is_directed())"
   ]
  },
  {
   "cell_type": "markdown",
   "metadata": {},
   "source": [
    "The library also has a built-in plotting engine (based on matplotlib), see the [Drawing](https://networkx.org/documentation/stable/reference/drawing) page. \n",
    "\n",
    "With `draw_networkx` ([Documentation](https://networkx.org/documentation/stable/reference/generated/networkx.drawing.nx_pylab.draw_networkx.html#networkx.drawing.nx_pylab.draw_networkx)), you can define options such as the layout with `pos`. By default the graph is based on the \"spring\" layout. Check the [Graph Layout](https://networkx.github.io/documentation/stable/reference/drawing.html#module-networkx.drawing.layout) page for more graph layouts."
   ]
  },
  {
   "cell_type": "code",
   "execution_count": null,
   "metadata": {},
   "outputs": [],
   "source": [
    "# Draw graph\n",
    "plt.figure(figsize=(4, 4))\n",
    "nx.draw_networkx(G, pos = nx.spring_layout(G), with_labels=True,  alpha = 0.8)\n",
    "plt.show()"
   ]
  },
  {
   "cell_type": "markdown",
   "metadata": {},
   "source": [
    "We can extract the adjacency matrix of our graph with `adjacency_matrix()` ([Documentation](https://networkx.org/documentation/stable/reference/generated/networkx.linalg.graphmatrix.adjacency_matrix.html))."
   ]
  },
  {
   "cell_type": "code",
   "execution_count": null,
   "metadata": {},
   "outputs": [],
   "source": [
    "# Adjacency matrix of the graph\n",
    "print(nx.adjacency_matrix(G).todense())"
   ]
  },
  {
   "cell_type": "markdown",
   "metadata": {},
   "source": [
    "### Directed Graph"
   ]
  },
  {
   "cell_type": "markdown",
   "metadata": {},
   "source": [
    "Let's now create a [directed graph](https://en.wikipedia.org/wiki/Directed_graph), i.e., the edges are directed.\n",
    "\n",
    "We use the `DiGraph` class ([Documentation](https://networkx.org/documentation/stable/reference/classes/digraph.html))."
   ]
  },
  {
   "cell_type": "code",
   "execution_count": null,
   "metadata": {},
   "outputs": [],
   "source": [
    "# Create instance of directed graph\n",
    "G = nx.DiGraph() \n",
    "\n",
    "# Add nodes\n",
    "G.add_nodes_from(range(1,10)) \n",
    "\n",
    "# Add edges \n",
    "edges = [(1,2), (2,3), (3,4), (4,5), (5,6), (6,7), (7,8), (8,9), (9,1)]\n",
    "G.add_edges_from(edges)\n",
    "\n",
    "print('Our graph has nodes:', G.nodes())\n",
    "print('The edges are:', G.edges())\n",
    "print('The graph is directed:', G.is_directed())"
   ]
  },
  {
   "cell_type": "markdown",
   "metadata": {},
   "source": [
    "Let's visualize our graph, using the circular layout:"
   ]
  },
  {
   "cell_type": "code",
   "execution_count": null,
   "metadata": {},
   "outputs": [],
   "source": [
    "# Draw graph\n",
    "plt.figure(figsize=(4, 4))\n",
    "nx.draw_networkx(G, pos = nx.circular_layout(G), with_labels=True,  alpha = 0.8)\n",
    "plt.show()"
   ]
  },
  {
   "cell_type": "markdown",
   "metadata": {},
   "source": [
    "### Weighted Graph"
   ]
  },
  {
   "cell_type": "markdown",
   "metadata": {},
   "source": [
    "Each graph, node, and edge can hold attributes. In such case, our graph is a network. For example, we can define the \"weight\" of the edges, representing the strength of the link between two nodes.\n",
    "\n",
    "We can define attributes using attribute dictionaries. Let's use the same graph as before, this time with weights:"
   ]
  },
  {
   "cell_type": "code",
   "execution_count": null,
   "metadata": {},
   "outputs": [],
   "source": [
    "# Create instance of directed graph\n",
    "G = nx.DiGraph() \n",
    "\n",
    "# Add nodes\n",
    "G.add_nodes_from(range(1,10)) \n",
    "\n",
    "# Add edges \n",
    "edges = ([(1,2, {\"weight\":0.6}), \n",
    "          (2,3, {\"weight\":0.4}), \n",
    "          (3,4, {\"weight\":0.3}), \n",
    "          (4,5, {\"weight\":0.7}), \n",
    "          (5,6, {\"weight\":0.9}), \n",
    "          (6,7, {\"weight\":1}),\n",
    "          (7,8, {\"weight\":0.2}),\n",
    "          (8,9, {\"weight\":0.8}),\n",
    "          (9,1, {\"weight\":0.5})])\n",
    "G.add_edges_from(edges)\n",
    "\n",
    "# Get edge weights\n",
    "edge_weights = nx.get_edge_attributes(G, \"weight\")\n",
    "\n",
    "print('Our graph has nodes:', G.nodes())\n",
    "print('The edges and weights are:', edge_weights)\n",
    "print('The graph is directed:', G.is_directed())\n",
    "\n",
    "# Draw graph\n",
    "plt.figure(figsize=(5, 5))\n",
    "pos = nx.circular_layout(G)\n",
    "nx.draw_networkx(G, \n",
    "                 pos, \n",
    "                 with_labels=True,  \n",
    "                 alpha = 0.8,\n",
    "                 edge_color = list(edge_weights.values()),     # Edge color\n",
    "                 edge_cmap = plt.cm.winter,                    # Colormap for mapping intensities of nodes\n",
    "                 width = list(edge_weights.values()))          # Edge width\n",
    "nx.draw_networkx_edge_labels(G, pos, edge_weights)          # Add edge weight labels\n",
    "plt.show()"
   ]
  },
  {
   "cell_type": "markdown",
   "metadata": {},
   "source": [
    "### Some helper functions\n",
    "\n",
    "Before continuing our exploration, we define a few helper functions.\n",
    "\n",
    "The first one prints various graph properties:\n",
    "- `is_connected()` returns `True` if the graph is **connected**, i.e., there is a path between every pair of vertices\n",
    "- `average_shortest_path_length()` returns the **average shortest path length**.\n",
    "- `diameter()` returns the **diameter** of the graph, i.e., the maximum length of the shortest path\n",
    "\n",
    "We'll further explore the notions of diameter and average shortest path length in the section [Diameter and Shortest Paths](#Diameter-and-Shortest-Paths)"
   ]
  },
  {
   "cell_type": "code",
   "execution_count": null,
   "metadata": {},
   "outputs": [],
   "source": [
    "# Helper function for printing various graph properties\n",
    "def describe_graph(G):\n",
    "    if nx.is_connected(G):\n",
    "        print(\"Avg. Shortest Path Length: %.4f\" %nx.average_shortest_path_length(G))\n",
    "        print(\"Diameter: %.4f\" %nx.diameter(G)) # Longest shortest path\n",
    "    else:\n",
    "        print(\"Graph is not connected\")\n",
    "        print(\"Diameter and Average shortest path length are not defined!\")"
   ]
  },
  {
   "cell_type": "markdown",
   "metadata": {},
   "source": [
    "Our second function will draw our graph:"
   ]
  },
  {
   "cell_type": "code",
   "execution_count": null,
   "metadata": {},
   "outputs": [],
   "source": [
    "# Helper function for visualizing the graph\n",
    "def visualize_graph(G, with_labels=True, k=None, alpha=1.0, node_shape='o', node_color='g'):\n",
    "    plt.figure(figsize=(5, 5))\n",
    "    pos = nx.spring_layout(G, k=k)\n",
    "    if with_labels:\n",
    "        lab = nx.draw_networkx_labels(G, pos, labels=dict([(n, n) for n in G.nodes()]))\n",
    "    ec = nx.draw_networkx_edges(G, pos, alpha=alpha)\n",
    "    nc = nx.draw_networkx_nodes(G, pos, nodelist=G.nodes(), node_color=node_color, node_shape=node_shape)\n",
    "    plt.axis('off')\n",
    "    plt.show()"
   ]
  },
  {
   "cell_type": "markdown",
   "metadata": {},
   "source": [
    "Our last function will plot the degree distribution of a graph. The **degree** is the number of connected nodes. For directed graphs, in-degree is the number of incoming nodes, while out-degree is the number of outgoing edges. We'll further explore the notion of degree in the section [Degree centrality](#Degree-centrality)."
   ]
  },
  {
   "cell_type": "code",
   "execution_count": null,
   "metadata": {},
   "outputs": [],
   "source": [
    "# Helper function for plotting the degree distribution of a Graph\n",
    "def plot_degree_distribution(G):\n",
    "    degrees = {}\n",
    "    for node in G.nodes():\n",
    "        degree = G.degree(node)\n",
    "        if degree not in degrees:\n",
    "            degrees[degree] = 0\n",
    "        degrees[degree] += 1\n",
    "    sorted_degree = sorted(degrees.items())\n",
    "    deg = [k for (k,v) in sorted_degree]\n",
    "    cnt = [v for (k,v) in sorted_degree]\n",
    "    fig, ax = plt.subplots(figsize=(5,3.5))\n",
    "    plt.bar(deg, cnt, width=0.80, color='b')\n",
    "    plt.title(\"Degree Distribution\")\n",
    "    plt.ylabel(\"Frequency\")\n",
    "    plt.xlabel(\"Degree\")\n",
    "    ax.set_xticks([d+0.05 for d in deg])\n",
    "    ax.set_xticklabels(deg)\n",
    "    plt.show()"
   ]
  },
  {
   "cell_type": "markdown",
   "metadata": {},
   "source": [
    "### Erdős–Rényi graph\n",
    "\n",
    "[Erdős–Rényi](https://en.wikipedia.org/wiki/Erd%C5%91s%E2%80%93R%C3%A9nyi_model) graph is a random graph model.\n",
    "named after Hungarian mathematicians [Paul Erdős](https://en.wikipedia.org/wiki/Paul_Erd%C5%91s) and [Alfréd Rényi](https://en.wikipedia.org/wiki/Alfr%C3%A9d_R%C3%A9nyi), who introduced one such graph in 1959.\n",
    "\n",
    "There are two variants of the Erdős–Rényi random graph model. In our case, the graph is constructed by connecting labeled nodes randomly, with a probability $p$.\n",
    "\n",
    "With NetworkX, we can build a Erdős–Rényi graph using the function `erdos_renyi_graph()` ([Documentation](https://networkx.org/documentation/stable/reference/generated/networkx.generators.random_graphs.erdos_renyi_graph.html#networkx.generators.random_graphs.erdos_renyi_graph)) of the random [Graph generators](https://networkx.org/documentation/stable/reference/generators.html#module-networkx.generators)."
   ]
  },
  {
   "cell_type": "code",
   "execution_count": null,
   "metadata": {},
   "outputs": [],
   "source": [
    "n = 10  # 10 nodes\n",
    "p = 0.5 # probability of edge creation\n",
    "\n",
    "# Build Erdős–Rényi graph\n",
    "erG = nx.random_graphs.erdos_renyi_graph(n=n, p=p)\n",
    "\n",
    "# Visualize graph properties (using previously-defined function)\n",
    "describe_graph(erG)\n",
    "visualize_graph(erG, k=0.05, alpha=0.8)\n",
    "plot_degree_distribution(erG)"
   ]
  },
  {
   "cell_type": "markdown",
   "metadata": {},
   "source": [
    "### Zachary's Karate Club Network\n",
    "\n",
    "[Zachary's karate club](https://en.wikipedia.org/wiki/Zachary%27s_karate_club) is a social network of a university karate club, described in the paper \"An Information Flow Model for Conflict and Fission in Small Groups\" by Wayne W. Zachary: \n",
    "- The network captures 34 members of a karate club, documenting links between pairs of members who interacted outside the club. \n",
    "- During the study, a conflict arose between the administrator and instructor, which led to the split of the club into two. \n",
    "- Based on collected data, Zachary correctly assigned all but one member of the club to the groups they actually joined after the split.\n",
    "\n",
    "Reference: Zachary, W. W. (1977). An information flow model for conflict and fission in small groups. *Journal of anthropological research*, 33(4), 452-473. DOI: [10.1086/jar.33.4.3629752](https://www.journals.uchicago.edu/doi/abs/10.1086/jar.33.4.3629752)"
   ]
  },
  {
   "cell_type": "markdown",
   "metadata": {},
   "source": [
    "The `karate_club_graph` module of NetworkX ([Documentation](https://networkx.org/documentation/stable/reference/generated/networkx.generators.social.karate_club_graph.html)) returns a Zachary’s Karate Club graph."
   ]
  },
  {
   "cell_type": "code",
   "execution_count": null,
   "metadata": {},
   "outputs": [],
   "source": [
    "# Build Zachary’s Karate Club graph\n",
    "karateG = nx.karate_club_graph()\n",
    "\n",
    "# Visualize graph properties (using previously-defined function)\n",
    "describe_graph(karateG)\n",
    "visualize_graph(karateG, k=0.05, alpha=0.8)"
   ]
  },
  {
   "cell_type": "markdown",
   "metadata": {},
   "source": [
    "Let's draw the same graph with a circular layout:"
   ]
  },
  {
   "cell_type": "code",
   "execution_count": null,
   "metadata": {},
   "outputs": [],
   "source": [
    "nx.draw_networkx(karateG, pos = nx.circular_layout(karateG), with_labels=True,  node_color='g', alpha = 0.8)"
   ]
  },
  {
   "cell_type": "markdown",
   "metadata": {},
   "source": [
    "From the above visualization, it is obvious that this graph is connected. We can also check this using the `is_connected()` method, or check the `connected_components()`. Recall that a connected graph has only one component: the whole graph"
   ]
  },
  {
   "cell_type": "code",
   "execution_count": null,
   "metadata": {},
   "outputs": [],
   "source": [
    "print('The graph is connected:', nx.is_connected(karateG))\n",
    "comp = list(nx.connected_components(karateG))\n",
    "print('The graph contains', len(comp), 'connected component.')"
   ]
  },
  {
   "cell_type": "markdown",
   "metadata": {},
   "source": [
    "### Diameter and Shortest Paths\n",
    "\n",
    "As mentioned in the [Concepts](#Concepts) section, the shortest path ([(geodesic) distance](https://en.wikipedia.org/wiki/Distance_(graph_theory))) between two nodes is the minimum number of edges between them. \n",
    "\n",
    "With NetworkX, we can use `shortest_path()` ([Documentation](https://networkx.org/documentation/stable/reference/algorithms/generated/networkx.algorithms.shortest_paths.generic.shortest_path.html)) to find the shortest path between two nodes, given that they are in the same connected component."
   ]
  },
  {
   "cell_type": "code",
   "execution_count": null,
   "metadata": {},
   "outputs": [],
   "source": [
    "# Shortest path\n",
    "path_16_30 = nx.shortest_path(karateG, source=16, target=30)\n",
    "print(\"Shortest path between nodes 16 and 30:\", path_16_30)"
   ]
  },
  {
   "cell_type": "markdown",
   "metadata": {},
   "source": [
    "The **diameter** of the graph is the maximum length of the shortest paths. We use `diameter()` to return the diameter of a graph ([Documentation](https://networkx.org/documentation/stable/reference/algorithms/generated/networkx.algorithms.distance_measures.diameter.html)).\n",
    "\n",
    "The [average shortest path length](https://en.wikipedia.org/wiki/Average_path_length) is defined as the average number of steps along the shortest paths for all possible pairs of network nodes. We use `average_shortest_path_length()` to find it ([Documentation](https://networkx.org/documentation/stable/reference/algorithms/generated/networkx.algorithms.shortest_paths.generic.average_shortest_path_length.html))."
   ]
  },
  {
   "cell_type": "code",
   "execution_count": null,
   "metadata": {},
   "outputs": [],
   "source": [
    "# Diameter\n",
    "print(\"The diameter of the karate club graph is: \", nx.diameter(karateG))\n",
    "# Average shortest path in the graph\n",
    "print(\"The average shortest path length of the karate club graph is: \", nx.average_shortest_path_length(karateG))"
   ]
  },
  {
   "cell_type": "markdown",
   "metadata": {},
   "source": [
    "### Centrality and important nodes"
   ]
  },
  {
   "cell_type": "markdown",
   "metadata": {},
   "source": [
    "The [centrality](https://en.wikipedia.org/wiki/Centrality) of a node indicates its importance in the graph. We explore in the following several measures of centrality, namely degree centrality, betweeness centrality, and PageRank."
   ]
  },
  {
   "cell_type": "markdown",
   "metadata": {},
   "source": [
    "#### Degree centrality\n",
    "\n",
    "The *degree centrality* is defined as the number of links incident upon a node (i.e., the number of ties that a node has). Hence, the more interactions a node has, the more important it is! \n",
    "\n",
    "We find the degrees of nodes with `degree()` ([Documentation](https://networkx.org/documentation/stable/reference/generated/networkx.classes.function.degree.html))."
   ]
  },
  {
   "cell_type": "code",
   "execution_count": null,
   "metadata": {},
   "outputs": [],
   "source": [
    "# Dictionary - {node: degree}\n",
    "degrees = dict(nx.degree(karateG))\n",
    "# Sort by largest degree\n",
    "sorted_degree = sorted(degrees.items(), key=itemgetter(1), reverse=True)\n",
    "# Print 5 nodes with largest degree\n",
    "for i, deg in sorted_degree[:5]:\n",
    "    print(\"Node {} has degree: {}\".format(i, deg))"
   ]
  },
  {
   "cell_type": "markdown",
   "metadata": {},
   "source": [
    "Alternatively, `degree_centrality()` returns the degree centrality of a node as the fraction of nodes it is connected to ([Documentation](https://networkx.org/documentation/stable/reference/algorithms/generated/networkx.algorithms.centrality.degree_centrality.html))."
   ]
  },
  {
   "cell_type": "code",
   "execution_count": null,
   "metadata": {},
   "outputs": [],
   "source": [
    "# Dictionary - {node: degree}\n",
    "degree_centrality = nx.degree_centrality(karateG)\n",
    "# Sort by largest degree centrality\n",
    "sorted_degree_centrality = sorted(degree_centrality.items(), key=itemgetter(1), reverse=True)\n",
    "# Print 5 nodes with largest degree centrality\n",
    "for i, deg in sorted_degree_centrality[:5]:\n",
    "    print(\"Node {} has degree centrality: {}\".format(i, deg))"
   ]
  },
  {
   "cell_type": "markdown",
   "metadata": {},
   "source": [
    "Let's also analyze the *degree distribution* using our previously-defined function. We can see that most of the node have a small degree and there are only a few nodes with a large degree."
   ]
  },
  {
   "cell_type": "code",
   "execution_count": null,
   "metadata": {},
   "outputs": [],
   "source": [
    "# Plot degree distribution\n",
    "plot_degree_distribution(karateG)"
   ]
  },
  {
   "cell_type": "markdown",
   "metadata": {},
   "source": [
    "#### Betweenness centrality\n",
    "\n",
    "The [*betweenness centrality*](https://en.wikipedia.org/wiki/Betweenness_centrality) is defined as the number of shortest paths that pass through a node. Hence, he more shortest paths pass through a node, the more important it is! Formally, the betweenness centrality of a node $v$ is:\n",
    "$$g(v)=\\sum_{s \\neq v \\neq t} \\frac{\\sigma_{st}(v)}{\\sigma_{st}}$$\n",
    "with $\\sigma_{st}$ the total number of shortest paths from node $s$ to $t$ and $\\sigma_{st}(v)$ the number of those paths that pass through $v$.\n",
    "\n",
    "We use `betweenness_centrality()` to compute the beetweenness centrality of nodes ([Documentation](https://networkx.org/documentation/stable/reference/algorithms/generated/networkx.algorithms.centrality.betweenness_centrality.html))."
   ]
  },
  {
   "cell_type": "code",
   "execution_count": null,
   "metadata": {},
   "outputs": [],
   "source": [
    "# Compute betweenness centrality\n",
    "betweenness = nx.betweenness_centrality(karateG)\n",
    "# Sort by largest betweenness centrality\n",
    "sorted_betweenness = sorted(betweenness.items(), key=itemgetter(1), reverse=True)\n",
    "# Print 5 nodes with largest betweenness degree\n",
    "for i, bw in sorted_betweenness[:5]:\n",
    "    print(\"Node {} has betweeness: {}\".format(i, bw))"
   ]
  },
  {
   "cell_type": "markdown",
   "metadata": {},
   "source": [
    "We can easily add the betweenness centrality as a new attribute to our nodes, using `set_node_attributes()`:"
   ]
  },
  {
   "cell_type": "code",
   "execution_count": null,
   "metadata": {},
   "outputs": [],
   "source": [
    "# Assign the computed centrality values as a node-attribute in your network\n",
    "nx.set_node_attributes(karateG, betweenness, 'betweenness')"
   ]
  },
  {
   "cell_type": "markdown",
   "metadata": {},
   "source": [
    "Let's visualize the betweeness centrality values for all the nodes in the network. As in the case with degree, there are a *few nodes with very high betweeness centrality*, while most of them have a low value."
   ]
  },
  {
   "cell_type": "code",
   "execution_count": null,
   "metadata": {},
   "outputs": [],
   "source": [
    "node_bw = list(nx.get_node_attributes(karateG, \"betweenness\").values())   # List of betweenness values\n",
    "\n",
    "# Draw graph\n",
    "plt.figure(figsize=(6, 5))\n",
    "pos = nx.circular_layout(karateG)        # Graph layout\n",
    "nc = nx.draw_networkx_nodes(karateG,     ## Plot nodes\n",
    "                 pos,                    # Layout\n",
    "                 alpha = 0.8,            # Node transparency\n",
    "                 node_shape = '.',       # Node shape\n",
    "                 node_color = node_bw    # Node color\n",
    "                      )  \n",
    "ec = nx.draw_networkx_edges(karateG, pos, alpha=0.1)   ## Plot edges\n",
    "plt.colorbar(nc)                         # Plot colorbar\n",
    "plt.show()"
   ]
  },
  {
   "cell_type": "markdown",
   "metadata": {},
   "source": [
    "Note that it is not always the case that the node with the highest degree has also the highest betweenness centrality. For instance, look at the following example:"
   ]
  },
  {
   "cell_type": "code",
   "execution_count": null,
   "metadata": {},
   "outputs": [],
   "source": [
    "## Define new graph\n",
    "G = nx.Graph() \n",
    "# Add multiple nodes at once\n",
    "G.add_nodes_from(range(1,10)) \n",
    "# Add edges \n",
    "edges = [(1,2), (2,3), (3,4), (4,1), (1,3), (2,4), (6,7),\n",
    "        (4,9), (9,5),\n",
    "        (5,6), (6,7), (7,8), (8,5), (5,7), (6,8)]\n",
    "G.add_edges_from(edges)\n",
    "G.nodes()\n",
    "\n",
    "## Compute betweenness and set as node attribute\n",
    "nx.set_node_attributes(G, nx.betweenness_centrality(G), 'betweenness')\n",
    "node_G_bw = list(nx.get_node_attributes(G, \"betweenness\").values()) \n",
    "\n",
    "## Draw graph\n",
    "plt.figure(figsize=(5, 4))\n",
    "pos = nx.spring_layout(G)            # Graph layout\n",
    "nc = nx.draw_networkx_nodes(G,           ## Plot nodes\n",
    "                 pos,                    # Layout\n",
    "                 alpha = 0.8,            # Node transparency\n",
    "                 node_shape = '.',       # Node shape\n",
    "                 node_color = node_G_bw    # Node color\n",
    "                      )  \n",
    "ec = nx.draw_networkx_edges(G, pos, alpha=0.1)   ## Plot edges\n",
    "plt.colorbar(nc)                         # Plot colorbar\n",
    "plt.show()"
   ]
  },
  {
   "cell_type": "markdown",
   "metadata": {},
   "source": [
    "The node with the **lowest degree** is the one with the **highest betweeness centrality**. \n"
   ]
  },
  {
   "cell_type": "markdown",
   "metadata": {},
   "source": [
    "#### PageRank\n",
    "\n",
    "[*PageRank*](https://en.wikipedia.org/wiki/PageRank) is an algorithm used to measure the importance of each node within the graph. It was invented by Larry Page and Sergey Brin, founders of Google, to help rank webpages in web search. In a nutshell, Pagerank finds the probability that a someone wondering randomly on the graph will end up on or pass from a node. \n",
    "\n",
    "We can use `pagerank()` to compute page ranks of the nodes in a graph ([Documentation](https://networkx.org/documentation/stable/reference/algorithms/generated/networkx.algorithms.link_analysis.pagerank_alg.pagerank))."
   ]
  },
  {
   "cell_type": "code",
   "execution_count": null,
   "metadata": {},
   "outputs": [],
   "source": [
    "# Compute PageRank\n",
    "pagerank = nx.pagerank(karateG, alpha=0.8)\n",
    "# Sort by largest PageRank\n",
    "sorted_pagerank = sorted(pagerank.items(), key=itemgetter(1), reverse=True)\n",
    "# Print 5 nodes with largest PageRank\n",
    "for i, bw in sorted_pagerank[:5]:\n",
    "    print(\"Node {} has PageRank: {}\".format(i, bw))"
   ]
  },
  {
   "cell_type": "markdown",
   "metadata": {},
   "source": [
    "Let's compare the betweenness centrality and PageRank results:"
   ]
  },
  {
   "cell_type": "code",
   "execution_count": null,
   "metadata": {},
   "outputs": [],
   "source": [
    "# Draw graphs\n",
    "fig, ax = plt.subplots(1, 2, figsize=(13, 5))\n",
    "pos = nx.circular_layout(karateG)        # Graph layout\n",
    "\n",
    "# Betweenness Centrality\n",
    "ax[0].set_title(\"Betweenness centrality\")\n",
    "nc = nx.draw_networkx_nodes(karateG,     ## Plot nodes\n",
    "                 pos,                    # Layout\n",
    "                 alpha = 0.8,            # Node transparency\n",
    "                 node_shape = '.',       # Node shape\n",
    "                 node_color = node_bw,   # Node color\n",
    "                 ax=ax[0]\n",
    "                      )  \n",
    "ec = nx.draw_networkx_edges(karateG, pos, alpha=0.1, ax=ax[0])   ## Plot edges\n",
    "plt.colorbar(nc, ax=ax[0])                         # Plot colorbar\n",
    "\n",
    "# PageRank\n",
    "ax[1].set_title(\"PageRank\")\n",
    "nx.set_node_attributes(karateG, pagerank, 'pagerank')     # Add pagerank as node attribute\n",
    "node_pr = list(nx.get_node_attributes(karateG, 'pagerank').values())    # List of pagerank values\n",
    "nc1 = nx.draw_networkx_nodes(karateG,     ## Plot nodes\n",
    "                 pos,                    # Layout\n",
    "                 alpha = 0.8,            # Node transparency\n",
    "                 node_shape = '.',       # Node shape\n",
    "                 node_color = node_pr,   # Node color\n",
    "                 ax=ax[1]\n",
    "                      )  \n",
    "ec1 = nx.draw_networkx_edges(karateG, pos, alpha=0.1, ax=ax[1])   ## Plot edges\n",
    "plt.colorbar(nc1, ax=ax[1])                         # Plot colorbar\n",
    "\n",
    "plt.show()"
   ]
  },
  {
   "cell_type": "markdown",
   "metadata": {},
   "source": [
    "What do you observe?"
   ]
  },
  {
   "cell_type": "markdown",
   "metadata": {},
   "source": [
    "### Community detection\n",
    "\n",
    "Community detection is a common class of methods to partition the graph into several clusters. The detected communities can help us understand hidden relationship among different groups of nodes in a network. In this tutorial we use the [Louvain method](https://en.wikipedia.org/wiki/Louvain_Modularity), which is a \n",
    "clustering algorithm. The algorithm works in 2 steps:\n",
    "1. Every node is assigned to be in its own community. \n",
    "2. The communities are traversed, and, for each community, it is tested whether by joining it to a neighboring community, we can obtain a better clustering.\n",
    "\n",
    "For more information, you can read:\n",
    "- [Community Detection Algorithms](https://towardsdatascience.com/community-detection-algorithms-9bd8951e7dae), by Thamindu Dilshan Jayawickrama, published in Towards Data Science\n",
    "- Blondel, V. D., Guillaume, J. L., Lambiotte, R., & Lefebvre, E. (2008). Fast unfolding of communities in large networks. *Journal of statistical mechanics: theory and experiment, 2008*(10), P10008. DOI [10.1088/1742-5468/2008/10/P10008](https://iopscience.iop.org/article/10.1088/1742-5468/2008/10/P10008/meta)\n",
    "\n",
    "Ok, let's try it! To compute the best partition, we rely on the function `best_partition()` of the the `python-louvain` module ([Documentation](https://python-louvain.readthedocs.io/en/latest/)). The \"resolution\" is a parameter controlling the size of communities: if greater than 1 then the algorithm favors larger communities."
   ]
  },
  {
   "cell_type": "code",
   "execution_count": null,
   "metadata": {},
   "outputs": [],
   "source": [
    "# Compute best partitions\n",
    "partition = community_louvain.best_partition(karateG, resolution=2)\n",
    "\n",
    "# Add community as node attribute\n",
    "nx.set_node_attributes(karateG, partition, 'louvain') \n",
    "\n",
    "# Draw graph\n",
    "plt.figure(figsize=(5, 5))\n",
    "pos = nx.circular_layout(karateG)        # Graph layout\n",
    "nx.draw_networkx_nodes(karateG,     ## Plot nodes\n",
    "                 pos,                    # Layout\n",
    "                 alpha = 0.8,            # Node transparency\n",
    "                 node_shape = '.',       # Node shape\n",
    "                 node_color = list(partition.values()),   # Node color\n",
    "                 cmap=plt.cm.jet         # Colormap\n",
    "                      )  \n",
    "nx.draw_networkx_edges(karateG, pos, alpha=0.1)   ## Plot edges\n",
    "plt.show()"
   ]
  },
  {
   "cell_type": "markdown",
   "metadata": {},
   "source": [
    "We can check if the detected communities are consistent with the clubs each node belongs to. In the Zachary's Karate Club, each node has an attribute \"club\" that indicates the name of the club to which the member represented by that node belongs: either \"Mr. Hi\" (pseudonym of the instructor of the initial club) or \"Officer\":"
   ]
  },
  {
   "cell_type": "code",
   "execution_count": null,
   "metadata": {},
   "outputs": [],
   "source": [
    "print(\"Community 0: \")\n",
    "l0 = [karateG.nodes[i][\"club\"] for i in karateG.nodes if karateG.nodes[i][\"louvain\"]==0]\n",
    "print(\" - \".join(l0))\n",
    "print(\"Community 1: \")\n",
    "l1 = [karateG.nodes[i][\"club\"] for i in karateG.nodes if karateG.nodes[i][\"louvain\"]==1]\n",
    "print(\" - \".join(l1))"
   ]
  },
  {
   "cell_type": "markdown",
   "metadata": {},
   "source": [
    "## Your Turn!"
   ]
  },
  {
   "cell_type": "markdown",
   "metadata": {},
   "source": [
    "We want to build a graph from the following adjacency matrix. \n",
    "\n",
    "- Before converting the matrix to a networkx graph, can you say whether this adjacency matrix belong to a directed or undirected graph?"
   ]
  },
  {
   "cell_type": "code",
   "execution_count": null,
   "metadata": {},
   "outputs": [],
   "source": [
    "adj_mat = np.array([[0, 0, 1, 1, 1, 0, 1, 0, 1, 1],\n",
    "                    [0, 0, 1, 1, 1, 1, 0, 1, 1, 0],\n",
    "                    [1, 1, 0, 0, 0, 0, 0, 0, 0, 0],\n",
    "                    [1, 1, 0, 0, 0, 0, 0, 1, 0, 0],\n",
    "                    [1, 1, 0, 0, 0, 1, 1, 0, 0, 0],\n",
    "                    [0, 1, 0, 0, 1, 0, 0, 0, 0, 0],\n",
    "                    [1, 0, 0, 0, 1, 0, 0, 0, 0, 0],\n",
    "                    [0, 1, 0, 1, 0, 0, 0, 0, 0, 1],\n",
    "                    [1, 1, 0, 0, 0, 0, 0, 0, 0, 0],\n",
    "                    [1, 0, 0, 0, 0, 0, 0, 1, 0, 0]])"
   ]
  },
  {
   "cell_type": "markdown",
   "metadata": {},
   "source": [
    "- Build the networkx graph from the above matrix and check if you answer to the above question is correct.\n",
    "\n",
    "*Hint:* You can use `nx.from_numpy_array()` ([Documentation](https://networkx.org/documentation/stable/reference/generated/networkx.convert_matrix.from_numpy_array.html#from-numpy-array)) to convert a numpy array into a graph."
   ]
  },
  {
   "cell_type": "code",
   "execution_count": null,
   "metadata": {},
   "outputs": [],
   "source": [
    "# YOUR CODE HERE\n",
    "\n",
    "# Create graph\n",
    "G_ex = nx.from_numpy_array(adj_mat)\n",
    "\n",
    "# Check if the graph is directed\n",
    "print('The graph is directed:', G_ex.is_directed())"
   ]
  },
  {
   "cell_type": "markdown",
   "metadata": {},
   "source": [
    "The **clustering coefficient** is another feature that characterizes the structure and position of a node in a graph. This coefficient measures how connected the neighbors of a node are.\n",
    "\n",
    "- Compute the clustering coefficient for nodes 4 and 6\n",
    "\n",
    "*Hint:* You can use `nx.clustering()` ([Documentation](https://networkx.org/documentation/stable/reference/algorithms/generated/networkx.algorithms.cluster.clustering.html)) to compute the clustering coefficient."
   ]
  },
  {
   "cell_type": "code",
   "execution_count": null,
   "metadata": {},
   "outputs": [],
   "source": [
    "# YOUR CODE HERE\n",
    "\n",
    "# Clustering coefficient\n",
    "nx.clustering(G_ex, [4,6])"
   ]
  },
  {
   "cell_type": "markdown",
   "metadata": {},
   "source": [
    "For unweighted graph, the clustering coefficient of a node $u$ is the fraction of possible triangles through that node that exist:\n",
    "$$ c_{v} = \\frac{2 T(u)}{deg(u)(deg(u)-1)} $$\n",
    "where $T(u)$ is the number of triangles through node $u$ and $deg(u)$ is the degree of $u$. A triangle is a [cycle graph](https://en.wikipedia.org/wiki/Cycle_graph) with 3 nodes, i.e., 3 nodes that are connected to each others. \n",
    "\n",
    "- Draw the graph and try to justify the value of the clustering coefficient for nodes 4 and 6 according to the above interpretation"
   ]
  },
  {
   "cell_type": "code",
   "execution_count": null,
   "metadata": {},
   "outputs": [],
   "source": [
    "# YOUR CODE HERE\n",
    "\n",
    "# Draw graph\n",
    "plt.figure(figsize=(4, 4))\n",
    "nx.draw_networkx(G_ex, pos = nx.circular_layout(G_ex), with_labels=True,  alpha = 0.8)\n",
    "plt.show()"
   ]
  },
  {
   "cell_type": "markdown",
   "metadata": {},
   "source": [
    "Node 6 is connected to nodes 4 and 0, so only 1 triangle is possible for node 6. Since nodes 0 and 4 are also connected, the triangle {0,4,6} exists, and the clustering coefficient of node 6 is equal to 1.\n",
    "\n",
    "On the other hand, node 4 is connected to nodes 0, 1, 5, and 6. There are 6 possible triangles: {0,1,4}, {0,4,6}, {0,4,5}, {1,4,6}, {1,4,5}, and {4,5,6}. But only triangles {0,4,6} and {1,4,5} exist. Hence, the clustering coefficient of node 4 is equal to 1/3."
   ]
  }
 ],
 "metadata": {
  "kernelspec": {
   "display_name": "Python 3 (ipykernel)",
   "language": "python",
   "name": "python3"
  },
  "language_info": {
   "codemirror_mode": {
    "name": "ipython",
    "version": 3
   },
   "file_extension": ".py",
   "mimetype": "text/x-python",
   "name": "python",
   "nbconvert_exporter": "python",
   "pygments_lexer": "ipython3",
   "version": "3.9.4"
  }
 },
 "nbformat": 4,
 "nbformat_minor": 4
}
