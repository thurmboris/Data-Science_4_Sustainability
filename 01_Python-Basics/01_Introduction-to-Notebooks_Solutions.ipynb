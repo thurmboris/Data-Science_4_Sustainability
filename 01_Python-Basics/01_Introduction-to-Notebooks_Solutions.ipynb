{
 "cells": [
  {
   "cell_type": "markdown",
   "metadata": {
    "id": "R1k70Pw4MVqg"
   },
   "source": [
    "<a href=\"https://colab.research.google.com/github/thurmboris/Data-Science_4_Sustainability/blob/main/01_Python-Basics/01_Introduction-to-Notebooks_Solutions.ipynb\" target=\"_blank\" rel=\"noopener\"><img src=\"https://colab.research.google.com/assets/colab-badge.svg\" alt=\"Open In Colab\"/></a>"
   ]
  },
  {
   "cell_type": "markdown",
   "metadata": {
    "id": "AmWy56Q0MB8r"
   },
   "source": [
    "# Ecology\n",
    "\n",
    "<img src='https://upload.wikimedia.org/wikipedia/commons/thumb/7/76/Blue_Linckia_Starfish.JPG/800px-Blue_Linckia_Starfish.JPG' width=\"400\">\n",
    "\n",
    "[*Copyright (c) 2004 Richard Ling*](https://commons.wikimedia.org/wiki/File:Blue_Linckia_Starfish.JPG)"
   ]
  },
  {
   "cell_type": "markdown",
   "metadata": {
    "id": "zxwR3e8wMBkL"
   },
   "source": [
    "*The text is reproduced from the [Ecology](https://plato.stanford.edu/entries/ecology/) article of the [Stanford Encyclopedia of Philosophy](https://plato.stanford.edu/index.html), on September 20, 2023.*"
   ]
  },
  {
   "cell_type": "markdown",
   "metadata": {
    "id": "9wXO0ePGLtQo"
   },
   "source": [
    "- [1. Introduction](#intro)\n",
    "- [Notes to Ecology](#notes)"
   ]
  },
  {
   "cell_type": "markdown",
   "metadata": {
    "id": "MRAR6QoILTvf"
   },
   "source": [
    "## 1. Introduction <a name=\"intro\"></a>\n",
    "\n",
    "The term \"ecology\" was coined by the German zoologist, Ernst Haeckel, in 1866 to describe the \"economies\" of living forms.<sup>[[1]](#note1)</sup> The theoretical practice of ecology consists, by and large, of the construction of models of the interaction of living systems with their environment (including other living systems).<sup>[[2]](#note2)</sup> These models are then tested in the laboratory and the field. (Field-work in ecology also consists of data collection that need not be inspired by any theory.)\n",
    "\n",
    "Theory in ecology consists of the heuristics—or principles—used to construct models. Unlike evolutionary theory, ecology has no generally accepted global principles such as Mendel's (and other) rules of genetic inheritance.<sup>[[3]](#note3)</sup> Contemporary ecology consists of a patchwork of sub-disciplines including population ecology, community ecology, conservation ecology, ecosystem ecology, metapopulation ecology, metacommunity ecology, spatial ecology, landscape ecology, physiological ecology, evolutionary ecology, functional ecology, and behavioral ecology. What is common to all these fields is the view that: (i) different biota interact in ways that can be described with sufficient precision and generality to permit their scientific study; and (ii) ecological interactions set the stage for evolution to occur primarily because they provide the external component of an entity's fitness. The latter aspect makes ecology a central part of biology.<sup>[[4]](#note4)</sup> As van Valen once put it: \"evolution is the control of development by ecology.\"<sup>[[5]](#note5)</sup> However, the creation of a unified theoretical framework for evolution and ecology remains the task for the future and will be of no further concern in this entry.\n",
    "\n",
    "Turning to the philosophy of ecology, beyond those interpretive and conceptual problems that arise because of the evolutionary context, ecology also presents interpretive and philosophical problems from its own unique conceptual structure and experimental practices. In this entry, attention will largely be restricted to population, community, and ecosystem ecology since these have been the focus of the little philosophical attention that has so far been afforded to ecology; there will also be some limited treatment of spatial ecology. However, because ecology has not received the degree of professional philosophical attention it deserves—while popular \"ecological philosophies\" abound—this entry concentrates more on foundational and interpretive issues raised by the science of ecology rather than only on what philosophers have written about the subject."
   ]
  },
  {
   "cell_type": "markdown",
   "metadata": {
    "id": "qID7cYQXO514"
   },
   "source": [
    "This entry treats experimental and theoretical work simultaneously with a bias in favor of those theoretical results that are unambiguously testable. It was once commonplace for even ecologists to accuse ecological theory of untestability.<sup>[[6]](#note6)</sup> This criticism was not completely fair even in the past; moreover, both experimental and theoretical developments during the last few decades have removed much of its force. Instead, what ecology poses is a much more philosophically intriguing set of seven problems:\n",
    "\n",
    "<ol type=\"i\">\n",
    "    <li> the <i>formalization indeterminacy</i> problem: apparently informally clear hypotheses can be translated into radically different formal counterparts. If one of these formal models turns out to be empirically incorrect, there is the danger that the original informal hypothesis will be rejected even though some other formalization may have saved the phenomena;</li>\n",
    "    <li> the <i>interpretation indeterminacy</i> problem: parameters in well-confirmed models can be interpreted in mutually exclusive ways;</li>\n",
    "    <li>the <i>structural uncertainty</i> problem: differences in theoretical assumptions and techniques make enormous predictive differences;<sup><a href=#note7>[7]</a></sup></li>\n",
    "    <li> <i>demarcation ambiguity</i> problem: the classification of models presents inordinate difficulties because the boundaries demarcating different ecological sub-disciplines is often unclear. Obviously, this problem is more a concern of philosophers (and others interpreting ecology) rather than of ecologists.</li>\n",
    "</ol>\n",
    "\n",
    "Some typical examples of all these largely theoretical problems will be pointed out later in this entry. Fieldwork, on which all empirically sound ecological theory should presumably be based, poses an additional problem:\n",
    "\n",
    "<ol type=\"i\" start=\"5\">\n",
    "    <li> the <i>partial observability</i> problem: even the most basic parameters are often difficult to estimate accurately. One consequence is that many ecological models are often difficult to test in the field.</li>\n",
    "</ol>\n",
    "\n",
    "Finally, many philosophers and some ecologists have also argued that ecological experimentation is confronted with two additional problems:\n",
    "\n",
    "<ol type=\"i\" start=\"6\">\n",
    "    <li> the <i>complexity</i> problem: ecological systems are supposed to be not merely complicated, they are \"complex.\" While much has been written about an alleged new science of complexity in recent years, no compelling operational distinction has yet been presented to distinguish complexity from complicatedness. In general, complex systems are supposed to exhibit \"emergent\" properties, that is those that, in some sense or other, resist reductionist explanation. The question of reductionism in ecology will be briefly discussed in this entry. Beyond that, no stance will be taken on the complexity versus complicatedness issue;<sup><a href=#note8>[8]</a></sup></li>\n",
    "    <li> the <i>uniqueness</i> problem: ecological systems are supposed to be unique both because they are contingent historical entities, and structurally because of their complexity. By itself being a historical entity does not present any problem for scientific study: planets and galaxies are historical entities successfully studied by astronomers. However, ecological systems are supposed to have histories that result in highly contingent structures—part of their complexity—that make them special.</li>\n",
    "</ol>\n",
    "\n",
    "The last two problems often preclude the use of laboratory experiments and model systems as a guide to what should happen in the field. Moreover, according to skeptics, they are an impediment to the replication of field experiments: the extent to which this is a serious obstacle to ecological experimentation remains controversial. These two problems will lurk in the background of all the discussions here.\n",
    "\n",
    "There are also many other general philosophical problems about science that also occur in the ecological context, for instance, the role of idealizations, models, and so on. But ecology does not seem to make any unique contribution to these problems—they will be ignored here in the interest of focusing on ecology per se. The aim of this entry is to describe—in broad terms—the type of philosophical questions raised by different areas of ecology so as to encourage further philosophical work. No general conclusions will be drawn from the various cases because none seem feasible at present."
   ]
  },
  {
   "cell_type": "code",
   "execution_count": 1,
   "metadata": {
    "colab": {
     "base_uri": "https://localhost:8080/",
     "height": 501
    },
    "id": "uz0meUWjTryi",
    "outputId": "8032147d-33ed-479a-c303-fef93dfe4391"
   },
   "outputs": [
    {
     "data": {
      "text/html": [
       "<iframe width=\"853\" height=\"480\" src=\"https://www.youtube.com/embed/OfV3VNgjpvw\" title=\"Ecology introduction | Ecology | Khan Academy\" frameborder=\"0\" allow=\"accelerometer; autoplay; clipboard-write; encrypted-media; gyroscope; picture-in-picture; web-share\" allowfullscreen></iframe>\n"
      ],
      "text/plain": [
       "<IPython.core.display.HTML object>"
      ]
     },
     "metadata": {},
     "output_type": "display_data"
    }
   ],
   "source": [
    "%%HTML\n",
    "<iframe width=\"853\" height=\"480\" src=\"https://www.youtube.com/embed/OfV3VNgjpvw\" title=\"Ecology introduction | Ecology | Khan Academy\" frameborder=\"0\" allow=\"accelerometer; autoplay; clipboard-write; encrypted-media; gyroscope; picture-in-picture; web-share\" allowfullscreen></iframe>"
   ]
  },
  {
   "cell_type": "markdown",
   "metadata": {
    "id": "kedBi8u5MqFm"
   },
   "source": [
    "## Notes to Ecology <a name=\"notes\"></a>\n",
    "\n",
    "<a name=\"note1\"></a> 1. \"Ecology\" was but one of many terms that Haeckel introduced—one historian calls him the \"busiest name-maker of his time\"; see Worster (1994), p. 192. For a history of ecology with an emphasis on population ecology, see Kingsland (1985). For a philosophical defense of Haeckel's conception of ecology, see Cooper (2004). For a very different point of view, one that attempts to embed ecology in its human and cultural context, see Haila and Levins (1992).\n",
    "\n",
    "<a name=\"note2\"></a> 2. There have been many discussions of model construction in ecology, though usually only in the context of population ecology (or, more generally, population biology, that is, including population genetics). See, for instance, Levins (1966), with further discussion by Wimsatt (1987), Orzack and Sober (1993), Odenbaugh (2003), and Justus (2005).\n",
    "\n",
    "<a name=\"note3\"></a> 3. Some philosophers will find this assessment of theory in ecology overly pessimistic; see Shrader-Frechette and McCoy (1993), Sarkar (1996), and Weber (1999) for further discussion. Others will argue for the existence of ecological laws (for instance, Lawton [1999], Lange [2002] and Ginzburg and Colyvan [2004]).\n",
    "\n",
    "<a name=\"note4\"></a> 4. \"Nothing in biology makes sense except in the light of evolution,\" as Dobzhansky (1973) famously quipped.\n",
    "\n",
    "<a name=\"note5\"></a> 5. See van Valen (1973) who, however, only presents this formulation only as one that is \"plausible.\" Problems arising from a stronger interpretation should not be attributed to him.\n",
    "\n",
    "<a name=\"note6\"></a> 6. See, for example, Peters (1991) (who, however, frames the question in terms of Popperian falsifiability). For a response, see Haila (1997).\n",
    "\n",
    "<a name=\"note7\"></a> 7. This is sometimes also called \"model uncertainty\" though that term also has other uses. In any case \"sensitivity\" or \"robustness\" (Levins 1966) analysis is supposed to provide a way out from the problem. According to this methodological stricture, only invariant results from a variety of different models should be accepted with confidence. Much has been written about robustness of this type (by philosophers [Wimsatt 1987; Orzack and Sober 1993; Justus 1995]) though it has never been formalized successfully.\n",
    "\n",
    "<a name=\"note8\"></a> 8. On issues connected with the definition of complexity, see Zurek (1990)."
   ]
  }
 ],
 "metadata": {
  "colab": {
   "provenance": [],
   "toc_visible": true
  },
  "kernelspec": {
   "display_name": "Python 3 (ipykernel)",
   "language": "python",
   "name": "python3"
  },
  "language_info": {
   "codemirror_mode": {
    "name": "ipython",
    "version": 3
   },
   "file_extension": ".py",
   "mimetype": "text/x-python",
   "name": "python",
   "nbconvert_exporter": "python",
   "pygments_lexer": "ipython3",
   "version": "3.11.3"
  }
 },
 "nbformat": 4,
 "nbformat_minor": 4
}
